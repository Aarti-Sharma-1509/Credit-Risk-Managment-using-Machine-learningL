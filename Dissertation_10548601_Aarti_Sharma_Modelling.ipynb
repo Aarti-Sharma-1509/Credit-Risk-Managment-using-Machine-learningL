{
 "cells": [
  {
   "cell_type": "code",
   "execution_count": 1,
   "metadata": {
    "colab": {
     "base_uri": "https://localhost:8080/"
    },
    "id": "D-1E5oom_pjh",
    "outputId": "6e1850eb-2e2c-42a3-9a64-7f6e50e20f46"
   },
   "outputs": [
    {
     "name": "stdout",
     "output_type": "stream",
     "text": [
      "Requirement already satisfied: xgboost in c:\\anaconda3\\lib\\site-packages (1.4.2)\n",
      "Requirement already satisfied: numpy in c:\\anaconda3\\lib\\site-packages (from xgboost) (1.18.1)\n",
      "Requirement already satisfied: scipy in c:\\anaconda3\\lib\\site-packages (from xgboost) (1.4.1)\n",
      "Note: you may need to restart the kernel to use updated packages.\n"
     ]
    }
   ],
   "source": [
    "pip install xgboost"
   ]
  },
  {
   "cell_type": "code",
   "execution_count": 2,
   "metadata": {
    "id": "A9Ra6Eoo8wgo"
   },
   "outputs": [],
   "source": [
    "import pandas as pd\n",
    "import numpy as np\n",
    "import statistics as stats\n",
    "import seaborn as sns\n",
    "import matplotlib.pyplot as plt\n",
    "import plotly.express as px\n",
    "import time\n",
    "\n",
    "from sklearn.preprocessing import LabelEncoder\n",
    "from sklearn.model_selection import train_test_split\n",
    "from sklearn.metrics import accuracy_score,precision_score,recall_score,f1_score,confusion_matrix\n",
    "from sklearn.linear_model import LogisticRegression\n",
    "from sklearn.naive_bayes import GaussianNB\n",
    "from sklearn.svm import SVC\n",
    "from sklearn.decomposition import PCA\n",
    "from sklearn.tree import DecisionTreeClassifier\n",
    "\n",
    "from sklearn.ensemble import RandomForestClassifier\n",
    "from sklearn.ensemble import AdaBoostClassifier\n",
    "from lightgbm import LGBMClassifier\n",
    "from xgboost import XGBClassifier"
   ]
  },
  {
   "cell_type": "code",
   "execution_count": 3,
   "metadata": {
    "id": "-ObW9CMQ8whN"
   },
   "outputs": [],
   "source": [
    "data = pd.read_csv(\"credit_risk_dataset.csv\")"
   ]
  },
  {
   "cell_type": "markdown",
   "metadata": {
    "id": "skdv10UA8whW"
   },
   "source": [
    "#### Data Information"
   ]
  },
  {
   "cell_type": "code",
   "execution_count": 4,
   "metadata": {
    "colab": {
     "base_uri": "https://localhost:8080/",
     "height": 191
    },
    "id": "dTDwQOLD8whY",
    "outputId": "7d883d8b-f528-420b-d49a-cd0a5deac502"
   },
   "outputs": [
    {
     "data": {
      "text/html": [
       "<div>\n",
       "<style scoped>\n",
       "    .dataframe tbody tr th:only-of-type {\n",
       "        vertical-align: middle;\n",
       "    }\n",
       "\n",
       "    .dataframe tbody tr th {\n",
       "        vertical-align: top;\n",
       "    }\n",
       "\n",
       "    .dataframe thead th {\n",
       "        text-align: right;\n",
       "    }\n",
       "</style>\n",
       "<table border=\"1\" class=\"dataframe\">\n",
       "  <thead>\n",
       "    <tr style=\"text-align: right;\">\n",
       "      <th></th>\n",
       "      <th>person_age</th>\n",
       "      <th>person_income</th>\n",
       "      <th>person_home_ownership</th>\n",
       "      <th>person_emp_length</th>\n",
       "      <th>loan_intent</th>\n",
       "      <th>loan_grade</th>\n",
       "      <th>loan_amnt</th>\n",
       "      <th>loan_int_rate</th>\n",
       "      <th>loan_status</th>\n",
       "      <th>loan_percent_income</th>\n",
       "      <th>cb_person_default_on_file</th>\n",
       "      <th>cb_person_cred_hist_length</th>\n",
       "    </tr>\n",
       "  </thead>\n",
       "  <tbody>\n",
       "    <tr>\n",
       "      <th>0</th>\n",
       "      <td>22</td>\n",
       "      <td>59000</td>\n",
       "      <td>RENT</td>\n",
       "      <td>123.0</td>\n",
       "      <td>PERSONAL</td>\n",
       "      <td>D</td>\n",
       "      <td>35000</td>\n",
       "      <td>16.02</td>\n",
       "      <td>1</td>\n",
       "      <td>0.59</td>\n",
       "      <td>Y</td>\n",
       "      <td>3</td>\n",
       "    </tr>\n",
       "    <tr>\n",
       "      <th>1</th>\n",
       "      <td>21</td>\n",
       "      <td>9600</td>\n",
       "      <td>OWN</td>\n",
       "      <td>5.0</td>\n",
       "      <td>EDUCATION</td>\n",
       "      <td>B</td>\n",
       "      <td>1000</td>\n",
       "      <td>11.14</td>\n",
       "      <td>0</td>\n",
       "      <td>0.10</td>\n",
       "      <td>N</td>\n",
       "      <td>2</td>\n",
       "    </tr>\n",
       "    <tr>\n",
       "      <th>2</th>\n",
       "      <td>25</td>\n",
       "      <td>9600</td>\n",
       "      <td>MORTGAGE</td>\n",
       "      <td>1.0</td>\n",
       "      <td>MEDICAL</td>\n",
       "      <td>C</td>\n",
       "      <td>5500</td>\n",
       "      <td>12.87</td>\n",
       "      <td>1</td>\n",
       "      <td>0.57</td>\n",
       "      <td>N</td>\n",
       "      <td>3</td>\n",
       "    </tr>\n",
       "    <tr>\n",
       "      <th>3</th>\n",
       "      <td>23</td>\n",
       "      <td>65500</td>\n",
       "      <td>RENT</td>\n",
       "      <td>4.0</td>\n",
       "      <td>MEDICAL</td>\n",
       "      <td>C</td>\n",
       "      <td>35000</td>\n",
       "      <td>15.23</td>\n",
       "      <td>1</td>\n",
       "      <td>0.53</td>\n",
       "      <td>N</td>\n",
       "      <td>2</td>\n",
       "    </tr>\n",
       "    <tr>\n",
       "      <th>4</th>\n",
       "      <td>24</td>\n",
       "      <td>54400</td>\n",
       "      <td>RENT</td>\n",
       "      <td>8.0</td>\n",
       "      <td>MEDICAL</td>\n",
       "      <td>C</td>\n",
       "      <td>35000</td>\n",
       "      <td>14.27</td>\n",
       "      <td>1</td>\n",
       "      <td>0.55</td>\n",
       "      <td>Y</td>\n",
       "      <td>4</td>\n",
       "    </tr>\n",
       "  </tbody>\n",
       "</table>\n",
       "</div>"
      ],
      "text/plain": [
       "   person_age  person_income person_home_ownership  person_emp_length  \\\n",
       "0          22          59000                  RENT              123.0   \n",
       "1          21           9600                   OWN                5.0   \n",
       "2          25           9600              MORTGAGE                1.0   \n",
       "3          23          65500                  RENT                4.0   \n",
       "4          24          54400                  RENT                8.0   \n",
       "\n",
       "  loan_intent loan_grade  loan_amnt  loan_int_rate  loan_status  \\\n",
       "0    PERSONAL          D      35000          16.02            1   \n",
       "1   EDUCATION          B       1000          11.14            0   \n",
       "2     MEDICAL          C       5500          12.87            1   \n",
       "3     MEDICAL          C      35000          15.23            1   \n",
       "4     MEDICAL          C      35000          14.27            1   \n",
       "\n",
       "   loan_percent_income cb_person_default_on_file  cb_person_cred_hist_length  \n",
       "0                 0.59                         Y                           3  \n",
       "1                 0.10                         N                           2  \n",
       "2                 0.57                         N                           3  \n",
       "3                 0.53                         N                           2  \n",
       "4                 0.55                         Y                           4  "
      ]
     },
     "execution_count": 4,
     "metadata": {},
     "output_type": "execute_result"
    }
   ],
   "source": [
    "data.head()"
   ]
  },
  {
   "cell_type": "code",
   "execution_count": 5,
   "metadata": {
    "colab": {
     "base_uri": "https://localhost:8080/",
     "height": 191
    },
    "id": "J7TexXVr8whh",
    "outputId": "03e60e11-2eda-44aa-f288-41185d7d4125"
   },
   "outputs": [
    {
     "data": {
      "text/html": [
       "<div>\n",
       "<style scoped>\n",
       "    .dataframe tbody tr th:only-of-type {\n",
       "        vertical-align: middle;\n",
       "    }\n",
       "\n",
       "    .dataframe tbody tr th {\n",
       "        vertical-align: top;\n",
       "    }\n",
       "\n",
       "    .dataframe thead th {\n",
       "        text-align: right;\n",
       "    }\n",
       "</style>\n",
       "<table border=\"1\" class=\"dataframe\">\n",
       "  <thead>\n",
       "    <tr style=\"text-align: right;\">\n",
       "      <th></th>\n",
       "      <th>person_age</th>\n",
       "      <th>person_income</th>\n",
       "      <th>person_home_ownership</th>\n",
       "      <th>person_emp_length</th>\n",
       "      <th>loan_intent</th>\n",
       "      <th>loan_grade</th>\n",
       "      <th>loan_amnt</th>\n",
       "      <th>loan_int_rate</th>\n",
       "      <th>loan_status</th>\n",
       "      <th>loan_percent_income</th>\n",
       "      <th>cb_person_default_on_file</th>\n",
       "      <th>cb_person_cred_hist_length</th>\n",
       "    </tr>\n",
       "  </thead>\n",
       "  <tbody>\n",
       "    <tr>\n",
       "      <th>32576</th>\n",
       "      <td>57</td>\n",
       "      <td>53000</td>\n",
       "      <td>MORTGAGE</td>\n",
       "      <td>1.0</td>\n",
       "      <td>PERSONAL</td>\n",
       "      <td>C</td>\n",
       "      <td>5800</td>\n",
       "      <td>13.16</td>\n",
       "      <td>0</td>\n",
       "      <td>0.11</td>\n",
       "      <td>N</td>\n",
       "      <td>30</td>\n",
       "    </tr>\n",
       "    <tr>\n",
       "      <th>32577</th>\n",
       "      <td>54</td>\n",
       "      <td>120000</td>\n",
       "      <td>MORTGAGE</td>\n",
       "      <td>4.0</td>\n",
       "      <td>PERSONAL</td>\n",
       "      <td>A</td>\n",
       "      <td>17625</td>\n",
       "      <td>7.49</td>\n",
       "      <td>0</td>\n",
       "      <td>0.15</td>\n",
       "      <td>N</td>\n",
       "      <td>19</td>\n",
       "    </tr>\n",
       "    <tr>\n",
       "      <th>32578</th>\n",
       "      <td>65</td>\n",
       "      <td>76000</td>\n",
       "      <td>RENT</td>\n",
       "      <td>3.0</td>\n",
       "      <td>HOMEIMPROVEMENT</td>\n",
       "      <td>B</td>\n",
       "      <td>35000</td>\n",
       "      <td>10.99</td>\n",
       "      <td>1</td>\n",
       "      <td>0.46</td>\n",
       "      <td>N</td>\n",
       "      <td>28</td>\n",
       "    </tr>\n",
       "    <tr>\n",
       "      <th>32579</th>\n",
       "      <td>56</td>\n",
       "      <td>150000</td>\n",
       "      <td>MORTGAGE</td>\n",
       "      <td>5.0</td>\n",
       "      <td>PERSONAL</td>\n",
       "      <td>B</td>\n",
       "      <td>15000</td>\n",
       "      <td>11.48</td>\n",
       "      <td>0</td>\n",
       "      <td>0.10</td>\n",
       "      <td>N</td>\n",
       "      <td>26</td>\n",
       "    </tr>\n",
       "    <tr>\n",
       "      <th>32580</th>\n",
       "      <td>66</td>\n",
       "      <td>42000</td>\n",
       "      <td>RENT</td>\n",
       "      <td>2.0</td>\n",
       "      <td>MEDICAL</td>\n",
       "      <td>B</td>\n",
       "      <td>6475</td>\n",
       "      <td>9.99</td>\n",
       "      <td>0</td>\n",
       "      <td>0.15</td>\n",
       "      <td>N</td>\n",
       "      <td>30</td>\n",
       "    </tr>\n",
       "  </tbody>\n",
       "</table>\n",
       "</div>"
      ],
      "text/plain": [
       "       person_age  person_income person_home_ownership  person_emp_length  \\\n",
       "32576          57          53000              MORTGAGE                1.0   \n",
       "32577          54         120000              MORTGAGE                4.0   \n",
       "32578          65          76000                  RENT                3.0   \n",
       "32579          56         150000              MORTGAGE                5.0   \n",
       "32580          66          42000                  RENT                2.0   \n",
       "\n",
       "           loan_intent loan_grade  loan_amnt  loan_int_rate  loan_status  \\\n",
       "32576         PERSONAL          C       5800          13.16            0   \n",
       "32577         PERSONAL          A      17625           7.49            0   \n",
       "32578  HOMEIMPROVEMENT          B      35000          10.99            1   \n",
       "32579         PERSONAL          B      15000          11.48            0   \n",
       "32580          MEDICAL          B       6475           9.99            0   \n",
       "\n",
       "       loan_percent_income cb_person_default_on_file  \\\n",
       "32576                 0.11                         N   \n",
       "32577                 0.15                         N   \n",
       "32578                 0.46                         N   \n",
       "32579                 0.10                         N   \n",
       "32580                 0.15                         N   \n",
       "\n",
       "       cb_person_cred_hist_length  \n",
       "32576                          30  \n",
       "32577                          19  \n",
       "32578                          28  \n",
       "32579                          26  \n",
       "32580                          30  "
      ]
     },
     "execution_count": 5,
     "metadata": {},
     "output_type": "execute_result"
    }
   ],
   "source": [
    "data.tail()"
   ]
  },
  {
   "cell_type": "code",
   "execution_count": 6,
   "metadata": {
    "colab": {
     "base_uri": "https://localhost:8080/"
    },
    "id": "EfgQRWkn8who",
    "outputId": "d5315ab1-8067-43be-94ea-9df31a0d354a"
   },
   "outputs": [
    {
     "name": "stdout",
     "output_type": "stream",
     "text": [
      "Shape of data ::  (32581, 12)\n"
     ]
    }
   ],
   "source": [
    "print('Shape of data :: ',data.shape)"
   ]
  },
  {
   "cell_type": "code",
   "execution_count": 7,
   "metadata": {
    "colab": {
     "base_uri": "https://localhost:8080/"
    },
    "id": "08QvBdvh8whw",
    "outputId": "faeb6052-9521-40b0-f1d9-6be701d00424"
   },
   "outputs": [
    {
     "name": "stdout",
     "output_type": "stream",
     "text": [
      "Data Information ::\n",
      "<class 'pandas.core.frame.DataFrame'>\n",
      "RangeIndex: 32581 entries, 0 to 32580\n",
      "Data columns (total 12 columns):\n",
      " #   Column                      Non-Null Count  Dtype  \n",
      "---  ------                      --------------  -----  \n",
      " 0   person_age                  32581 non-null  int64  \n",
      " 1   person_income               32581 non-null  int64  \n",
      " 2   person_home_ownership       32581 non-null  object \n",
      " 3   person_emp_length           31686 non-null  float64\n",
      " 4   loan_intent                 32581 non-null  object \n",
      " 5   loan_grade                  32581 non-null  object \n",
      " 6   loan_amnt                   32581 non-null  int64  \n",
      " 7   loan_int_rate               29465 non-null  float64\n",
      " 8   loan_status                 32581 non-null  int64  \n",
      " 9   loan_percent_income         32581 non-null  float64\n",
      " 10  cb_person_default_on_file   32581 non-null  object \n",
      " 11  cb_person_cred_hist_length  32581 non-null  int64  \n",
      "dtypes: float64(3), int64(5), object(4)\n",
      "memory usage: 3.0+ MB\n"
     ]
    }
   ],
   "source": [
    "print('Data Information ::')\n",
    "data.info()"
   ]
  },
  {
   "cell_type": "code",
   "execution_count": 8,
   "metadata": {},
   "outputs": [],
   "source": [
    "#### filling missing values\n",
    "\n",
    "# filling person_emp_length with null values\n",
    "data.person_emp_length.fillna(value = data.person_emp_length.mean(),inplace=True)\n",
    "\n",
    "\n",
    "# filling loan_int_rate null values with mean\n",
    "data.loan_int_rate.fillna(value = data.loan_int_rate.mean(),inplace=True)"
   ]
  },
  {
   "cell_type": "code",
   "execution_count": 9,
   "metadata": {
    "colab": {
     "base_uri": "https://localhost:8080/",
     "height": 293
    },
    "id": "9Kfjs_2G8wh5",
    "outputId": "3c5fbb85-e64e-469e-fab9-498e2d784ee2"
   },
   "outputs": [
    {
     "name": "stdout",
     "output_type": "stream",
     "text": [
      "Data Description :: \n"
     ]
    },
    {
     "data": {
      "text/html": [
       "<div>\n",
       "<style scoped>\n",
       "    .dataframe tbody tr th:only-of-type {\n",
       "        vertical-align: middle;\n",
       "    }\n",
       "\n",
       "    .dataframe tbody tr th {\n",
       "        vertical-align: top;\n",
       "    }\n",
       "\n",
       "    .dataframe thead th {\n",
       "        text-align: right;\n",
       "    }\n",
       "</style>\n",
       "<table border=\"1\" class=\"dataframe\">\n",
       "  <thead>\n",
       "    <tr style=\"text-align: right;\">\n",
       "      <th></th>\n",
       "      <th>person_age</th>\n",
       "      <th>person_income</th>\n",
       "      <th>person_emp_length</th>\n",
       "      <th>loan_amnt</th>\n",
       "      <th>loan_int_rate</th>\n",
       "      <th>loan_status</th>\n",
       "      <th>loan_percent_income</th>\n",
       "      <th>cb_person_cred_hist_length</th>\n",
       "    </tr>\n",
       "  </thead>\n",
       "  <tbody>\n",
       "    <tr>\n",
       "      <th>count</th>\n",
       "      <td>32581.000000</td>\n",
       "      <td>3.258100e+04</td>\n",
       "      <td>32581.000000</td>\n",
       "      <td>32581.000000</td>\n",
       "      <td>32581.000000</td>\n",
       "      <td>32581.000000</td>\n",
       "      <td>32581.000000</td>\n",
       "      <td>32581.000000</td>\n",
       "    </tr>\n",
       "    <tr>\n",
       "      <th>mean</th>\n",
       "      <td>27.734600</td>\n",
       "      <td>6.607485e+04</td>\n",
       "      <td>4.789686</td>\n",
       "      <td>9589.371106</td>\n",
       "      <td>11.011695</td>\n",
       "      <td>0.218164</td>\n",
       "      <td>0.170203</td>\n",
       "      <td>5.804211</td>\n",
       "    </tr>\n",
       "    <tr>\n",
       "      <th>std</th>\n",
       "      <td>6.348078</td>\n",
       "      <td>6.198312e+04</td>\n",
       "      <td>4.085333</td>\n",
       "      <td>6322.086646</td>\n",
       "      <td>3.081605</td>\n",
       "      <td>0.413006</td>\n",
       "      <td>0.106782</td>\n",
       "      <td>4.055001</td>\n",
       "    </tr>\n",
       "    <tr>\n",
       "      <th>min</th>\n",
       "      <td>20.000000</td>\n",
       "      <td>4.000000e+03</td>\n",
       "      <td>0.000000</td>\n",
       "      <td>500.000000</td>\n",
       "      <td>5.420000</td>\n",
       "      <td>0.000000</td>\n",
       "      <td>0.000000</td>\n",
       "      <td>2.000000</td>\n",
       "    </tr>\n",
       "    <tr>\n",
       "      <th>25%</th>\n",
       "      <td>23.000000</td>\n",
       "      <td>3.850000e+04</td>\n",
       "      <td>2.000000</td>\n",
       "      <td>5000.000000</td>\n",
       "      <td>8.490000</td>\n",
       "      <td>0.000000</td>\n",
       "      <td>0.090000</td>\n",
       "      <td>3.000000</td>\n",
       "    </tr>\n",
       "    <tr>\n",
       "      <th>50%</th>\n",
       "      <td>26.000000</td>\n",
       "      <td>5.500000e+04</td>\n",
       "      <td>4.000000</td>\n",
       "      <td>8000.000000</td>\n",
       "      <td>11.011695</td>\n",
       "      <td>0.000000</td>\n",
       "      <td>0.150000</td>\n",
       "      <td>4.000000</td>\n",
       "    </tr>\n",
       "    <tr>\n",
       "      <th>75%</th>\n",
       "      <td>30.000000</td>\n",
       "      <td>7.920000e+04</td>\n",
       "      <td>7.000000</td>\n",
       "      <td>12200.000000</td>\n",
       "      <td>13.110000</td>\n",
       "      <td>0.000000</td>\n",
       "      <td>0.230000</td>\n",
       "      <td>8.000000</td>\n",
       "    </tr>\n",
       "    <tr>\n",
       "      <th>max</th>\n",
       "      <td>144.000000</td>\n",
       "      <td>6.000000e+06</td>\n",
       "      <td>123.000000</td>\n",
       "      <td>35000.000000</td>\n",
       "      <td>23.220000</td>\n",
       "      <td>1.000000</td>\n",
       "      <td>0.830000</td>\n",
       "      <td>30.000000</td>\n",
       "    </tr>\n",
       "  </tbody>\n",
       "</table>\n",
       "</div>"
      ],
      "text/plain": [
       "         person_age  person_income  person_emp_length     loan_amnt  \\\n",
       "count  32581.000000   3.258100e+04       32581.000000  32581.000000   \n",
       "mean      27.734600   6.607485e+04           4.789686   9589.371106   \n",
       "std        6.348078   6.198312e+04           4.085333   6322.086646   \n",
       "min       20.000000   4.000000e+03           0.000000    500.000000   \n",
       "25%       23.000000   3.850000e+04           2.000000   5000.000000   \n",
       "50%       26.000000   5.500000e+04           4.000000   8000.000000   \n",
       "75%       30.000000   7.920000e+04           7.000000  12200.000000   \n",
       "max      144.000000   6.000000e+06         123.000000  35000.000000   \n",
       "\n",
       "       loan_int_rate   loan_status  loan_percent_income  \\\n",
       "count   32581.000000  32581.000000         32581.000000   \n",
       "mean       11.011695      0.218164             0.170203   \n",
       "std         3.081605      0.413006             0.106782   \n",
       "min         5.420000      0.000000             0.000000   \n",
       "25%         8.490000      0.000000             0.090000   \n",
       "50%        11.011695      0.000000             0.150000   \n",
       "75%        13.110000      0.000000             0.230000   \n",
       "max        23.220000      1.000000             0.830000   \n",
       "\n",
       "       cb_person_cred_hist_length  \n",
       "count                32581.000000  \n",
       "mean                     5.804211  \n",
       "std                      4.055001  \n",
       "min                      2.000000  \n",
       "25%                      3.000000  \n",
       "50%                      4.000000  \n",
       "75%                      8.000000  \n",
       "max                     30.000000  "
      ]
     },
     "execution_count": 9,
     "metadata": {},
     "output_type": "execute_result"
    }
   ],
   "source": [
    "print('Data Description :: ')\n",
    "data.describe()"
   ]
  },
  {
   "cell_type": "code",
   "execution_count": 10,
   "metadata": {},
   "outputs": [],
   "source": [
    "data = pd.get_dummies(data)"
   ]
  },
  {
   "cell_type": "code",
   "execution_count": 11,
   "metadata": {
    "id": "_fhutflN8wjG"
   },
   "outputs": [],
   "source": [
    "labels =data.loan_status\n",
    "data.drop([\"loan_status\"],axis=1,inplace=True)"
   ]
  },
  {
   "cell_type": "markdown",
   "metadata": {
    "id": "Y0z_H_Bx8wjE"
   },
   "source": [
    "#### Splitting data(ORIGINAL DATA)"
   ]
  },
  {
   "cell_type": "code",
   "execution_count": 12,
   "metadata": {
    "id": "gHCFA1Ek8wjM"
   },
   "outputs": [],
   "source": [
    "X_train,X_test,Y_train,Y_test = train_test_split(data,labels,stratify=labels,random_state=42)"
   ]
  },
  {
   "cell_type": "code",
   "execution_count": 14,
   "metadata": {
    "id": "IjUomhm78wjb"
   },
   "outputs": [],
   "source": [
    "### Defining a function to measure performance parameters\n",
    "def scores(Y_true,Y_pred):\n",
    "    accuracy = accuracy_score(Y_true,Y_pred)\n",
    "    fscore = f1_score(Y_true,Y_pred)\n",
    "    recall = recall_score(Y_true,Y_pred)\n",
    "    precision = precision_score(Y_true,Y_pred)\n",
    "    confuison = confusion_matrix(Y_true,Y_pred)\n",
    "    return accuracy,recall,precision,fscore,confuison"
   ]
  },
  {
   "cell_type": "markdown",
   "metadata": {
    "id": "__M6vIab8wjj"
   },
   "source": [
    "# Models"
   ]
  },
  {
   "cell_type": "markdown",
   "metadata": {},
   "source": [
    "# Original Data"
   ]
  },
  {
   "cell_type": "markdown",
   "metadata": {
    "id": "rOCjagoc8wjk"
   },
   "source": [
    "## Traditional Approach"
   ]
  },
  {
   "cell_type": "markdown",
   "metadata": {
    "id": "Dmu376bO8wjl"
   },
   "source": [
    "#### 1.  Logistic Regression"
   ]
  },
  {
   "cell_type": "code",
   "execution_count": 15,
   "metadata": {
    "colab": {
     "base_uri": "https://localhost:8080/"
    },
    "id": "2zsCaOsW8wjm",
    "outputId": "b3fca975-5f8a-4b33-a912-dae9bd6b5986"
   },
   "outputs": [],
   "source": [
    "log_reg = LogisticRegression()\n",
    "\n",
    "start = time.time()\n",
    "log_reg.fit(X_train,Y_train)\n",
    "logistic_trainTime = time.time() - start\n",
    "\n",
    "logistic_predValues = log_reg.predict(X_test)\n",
    "accuracy_log,recall_log,precision_log,fscore_log,confusion = scores(Y_test,logistic_predValues)"
   ]
  },
  {
   "cell_type": "code",
   "execution_count": 16,
   "metadata": {},
   "outputs": [
    {
     "data": {
      "image/png": "[encoded data removed]",
      "text/plain": [
       "<Figure size 432x288 with 2 Axes>"
      ]
     },
     "metadata": {
      "needs_background": "light"
     },
     "output_type": "display_data"
    }
   ],
   "source": [
    "# Plotting Confusion Matrix\n",
    "sns.heatmap(confusion,annot = True,fmt=\"d\",xticklabels = [\"Predicted No\",\"Predicted Yes\"],yticklabels = [\"Actual No\",\"Actual Yes\"])\n",
    "plt.show()"
   ]
  },
  {
   "cell_type": "markdown",
   "metadata": {
    "id": "dN2pXiyY8wjs"
   },
   "source": [
    "#### 2. Naive Bayes"
   ]
  },
  {
   "cell_type": "code",
   "execution_count": 17,
   "metadata": {
    "id": "WVSwy6958wjt"
   },
   "outputs": [],
   "source": [
    "naive_clf = GaussianNB()\n",
    "\n",
    "start = time.time()\n",
    "naive_clf.fit(X_train,Y_train)\n",
    "naive_trainTime = time.time() - start\n",
    "\n",
    "naive_predValues = naive_clf.predict(X_test)\n",
    "accuracy_naive,recall_naive,precision_naive,fscore_naive,confusion = scores(Y_test,naive_predValues)"
   ]
  },
  {
   "cell_type": "code",
   "execution_count": 18,
   "metadata": {
    "scrolled": true
   },
   "outputs": [
    {
     "data": {
      "image/png": "[encoded data removed]",
      "text/plain": [
       "<Figure size 432x288 with 2 Axes>"
      ]
     },
     "metadata": {
      "needs_background": "light"
     },
     "output_type": "display_data"
    }
   ],
   "source": [
    "# Plotting Confusion Matrix\n",
    "sns.heatmap(confusion,annot = True,fmt=\"d\",xticklabels = [\"Predicted No\",\"Predicted Yes\"],yticklabels = [\"Actual No\",\"Actual Yes\"])\n",
    "plt.show()"
   ]
  },
  {
   "cell_type": "markdown",
   "metadata": {},
   "source": [
    "#### 3. Support Vector Machine"
   ]
  },
  {
   "cell_type": "code",
   "execution_count": 19,
   "metadata": {},
   "outputs": [],
   "source": [
    "svc = SVC()\n",
    "start = time.time()\n",
    "svc.fit(X_train,Y_train)\n",
    "svc_trainTime = time.time() - start\n",
    "\n",
    "tree_predValueS = svc.predict(X_test)\n",
    "accuracy_svc,recall_svc,precision_svc,fscore_tree,confusion = scores(Y_test,tree_predValueS)"
   ]
  },
  {
   "cell_type": "code",
   "execution_count": 20,
   "metadata": {},
   "outputs": [
    {
     "data": {
      "image/png": "[encoded data removed]",
      "text/plain": [
       "<Figure size 432x288 with 2 Axes>"
      ]
     },
     "metadata": {
      "needs_background": "light"
     },
     "output_type": "display_data"
    }
   ],
   "source": [
    "sns.heatmap(confusion,annot = True,fmt=\"d\",xticklabels = [\"Predicted No\",\"Predicted Yes\"],yticklabels = [\"Actual No\",\"Actual Yes\"])\n",
    "plt.show()"
   ]
  },
  {
   "cell_type": "markdown",
   "metadata": {
    "id": "vfcH9ghD8wjz"
   },
   "source": [
    "#### 4. Decision Tree Classifier"
   ]
  },
  {
   "cell_type": "code",
   "execution_count": 21,
   "metadata": {
    "id": "qX5tbKVA8wj0"
   },
   "outputs": [],
   "source": [
    "tree_clf = DecisionTreeClassifier()\n",
    "\n",
    "start = time.time()\n",
    "tree_clf.fit(X_train,Y_train)\n",
    "tree_trainTime = time.time() - start\n",
    "\n",
    "tree_predValues = tree_clf.predict(X_test)\n",
    "accuracy_tree,recall_tree,precision_tree,fscore_tree,confusion = scores(Y_test,tree_predValues)"
   ]
  },
  {
   "cell_type": "code",
   "execution_count": 22,
   "metadata": {},
   "outputs": [
    {
     "data": {
      "image/png": "[encoded data removed]",
      "text/plain": [
       "<Figure size 432x288 with 2 Axes>"
      ]
     },
     "metadata": {
      "needs_background": "light"
     },
     "output_type": "display_data"
    }
   ],
   "source": [
    "# Plotting Confusion Matrix\n",
    "sns.heatmap(confusion,annot = True,fmt=\"d\",xticklabels = [\"Predicted No\",\"Predicted Yes\"],yticklabels = [\"Actual No\",\"Actual Yes\"])\n",
    "plt.show()"
   ]
  },
  {
   "cell_type": "markdown",
   "metadata": {
    "id": "VgtVNnBF8wj-"
   },
   "source": [
    "## Comparison of traditional approach"
   ]
  },
  {
   "cell_type": "code",
   "execution_count": 23,
   "metadata": {
    "id": "ZZgv7GyY8wkA"
   },
   "outputs": [],
   "source": [
    "data_comparison=[[logistic_trainTime,accuracy_log,recall_log,precision_log,fscore_log],[naive_trainTime,accuracy_naive,recall_naive,precision_naive,fscore_naive],\n",
    "                 [svc_trainTime,accuracy_svc,recall_svc,precision_svc,fscore_tree,],\n",
    "     [tree_trainTime,accuracy_tree,recall_tree,precision_tree,fscore_tree]]\n",
    "\n",
    "comparison_tabel1 = pd.DataFrame(data_comparison,index= ['Logistic-Regression','Naive Bayes','Support Vector','Decision-Tree'],columns=['Time','Accuracy','Recall','Precision','F1-Score'])"
   ]
  },
  {
   "cell_type": "code",
   "execution_count": 24,
   "metadata": {
    "colab": {
     "base_uri": "https://localhost:8080/",
     "height": 133
    },
    "id": "ixca23pw8wkL",
    "outputId": "33ba95ac-4645-4d47-d355-15587418cfb3"
   },
   "outputs": [
    {
     "data": {
      "text/html": [
       "<div>\n",
       "<style scoped>\n",
       "    .dataframe tbody tr th:only-of-type {\n",
       "        vertical-align: middle;\n",
       "    }\n",
       "\n",
       "    .dataframe tbody tr th {\n",
       "        vertical-align: top;\n",
       "    }\n",
       "\n",
       "    .dataframe thead th {\n",
       "        text-align: right;\n",
       "    }\n",
       "</style>\n",
       "<table border=\"1\" class=\"dataframe\">\n",
       "  <thead>\n",
       "    <tr style=\"text-align: right;\">\n",
       "      <th></th>\n",
       "      <th>Time</th>\n",
       "      <th>Accuracy</th>\n",
       "      <th>Recall</th>\n",
       "      <th>Precision</th>\n",
       "      <th>F1-Score</th>\n",
       "    </tr>\n",
       "  </thead>\n",
       "  <tbody>\n",
       "    <tr>\n",
       "      <th>Logistic-Regression</th>\n",
       "      <td>0.193910</td>\n",
       "      <td>0.803953</td>\n",
       "      <td>0.162634</td>\n",
       "      <td>0.726131</td>\n",
       "      <td>0.265747</td>\n",
       "    </tr>\n",
       "    <tr>\n",
       "      <th>Naive Bayes</th>\n",
       "      <td>0.015136</td>\n",
       "      <td>0.813160</td>\n",
       "      <td>0.293754</td>\n",
       "      <td>0.661597</td>\n",
       "      <td>0.406859</td>\n",
       "    </tr>\n",
       "    <tr>\n",
       "      <th>Support Vector</th>\n",
       "      <td>16.870619</td>\n",
       "      <td>0.804076</td>\n",
       "      <td>0.120428</td>\n",
       "      <td>0.866397</td>\n",
       "      <td>0.753076</td>\n",
       "    </tr>\n",
       "    <tr>\n",
       "      <th>Decision-Tree</th>\n",
       "      <td>0.169822</td>\n",
       "      <td>0.889148</td>\n",
       "      <td>0.774902</td>\n",
       "      <td>0.732447</td>\n",
       "      <td>0.753076</td>\n",
       "    </tr>\n",
       "  </tbody>\n",
       "</table>\n",
       "</div>"
      ],
      "text/plain": [
       "                          Time  Accuracy    Recall  Precision  F1-Score\n",
       "Logistic-Regression   0.193910  0.803953  0.162634   0.726131  0.265747\n",
       "Naive Bayes           0.015136  0.813160  0.293754   0.661597  0.406859\n",
       "Support Vector       16.870619  0.804076  0.120428   0.866397  0.753076\n",
       "Decision-Tree         0.169822  0.889148  0.774902   0.732447  0.753076"
      ]
     },
     "execution_count": 24,
     "metadata": {},
     "output_type": "execute_result"
    }
   ],
   "source": [
    "comparison_tabel1"
   ]
  },
  {
   "cell_type": "markdown",
   "metadata": {
    "id": "D5bJafHE8wkR"
   },
   "source": [
    "## Ensemble Learning Approach"
   ]
  },
  {
   "cell_type": "markdown",
   "metadata": {
    "id": "11DvTw1g8wkS"
   },
   "source": [
    "#### 1. Random Forest Classifier"
   ]
  },
  {
   "cell_type": "code",
   "execution_count": 25,
   "metadata": {
    "id": "TpBjOzP_8wkV"
   },
   "outputs": [],
   "source": [
    "rnd_clf = RandomForestClassifier()\n",
    "\n",
    "start = time.time()\n",
    "rnd_clf.fit(X_train,Y_train)\n",
    "forest_trainTime = time.time() - start\n",
    "\n",
    "randomForest_predValues = rnd_clf.predict(X_test)\n",
    "accuracy_rnd,recall_rnd,precision_rnd,fscore_rnd,confusion = scores(Y_test,randomForest_predValues)\n"
   ]
  },
  {
   "cell_type": "code",
   "execution_count": 26,
   "metadata": {},
   "outputs": [
    {
     "data": {
      "image/png": "[encoded data removed]",
      "text/plain": [
       "<Figure size 432x288 with 2 Axes>"
      ]
     },
     "metadata": {
      "needs_background": "light"
     },
     "output_type": "display_data"
    }
   ],
   "source": [
    "# Plotting Confusion Matrix\n",
    "sns.heatmap(confusion,annot = True,fmt=\"d\",xticklabels = [\"Predicted No\",\"Predicted Yes\"],yticklabels = [\"Actual No\",\"Actual Yes\"])\n",
    "plt.show()"
   ]
  },
  {
   "cell_type": "markdown",
   "metadata": {
    "id": "xRYbiY9u8wkb"
   },
   "source": [
    "####  2. Ada Boost Classifier"
   ]
  },
  {
   "cell_type": "code",
   "execution_count": 27,
   "metadata": {
    "id": "5d4n6Okj8wkc"
   },
   "outputs": [],
   "source": [
    "ada_clf = AdaBoostClassifier()\n",
    "\n",
    "start = time.time()\n",
    "ada_clf.fit(X_train,Y_train)\n",
    "ada_trainTime = time.time() - start\n",
    "\n",
    "ada_predValues = ada_clf.predict(X_test)\n",
    "accuracy_ada,recall_ada,precision_ada,fscore_ada,confusion = scores(Y_test,ada_predValues)\n"
   ]
  },
  {
   "cell_type": "code",
   "execution_count": 28,
   "metadata": {},
   "outputs": [
    {
     "data": {
      "image/png": "[encoded data removed]",
      "text/plain": [
       "<Figure size 432x288 with 2 Axes>"
      ]
     },
     "metadata": {
      "needs_background": "light"
     },
     "output_type": "display_data"
    }
   ],
   "source": [
    "# Plotting Confusion Matrix\n",
    "sns.heatmap(confusion,annot = True,fmt=\"d\",xticklabels = [\"Predicted No\",\"Predicted Yes\"],yticklabels = [\"Actual No\",\"Actual Yes\"])\n",
    "plt.show()"
   ]
  },
  {
   "cell_type": "markdown",
   "metadata": {
    "id": "H4oyRDXN8wkq"
   },
   "source": [
    "#### 3. XGBoost Classifier"
   ]
  },
  {
   "cell_type": "code",
   "execution_count": 29,
   "metadata": {
    "colab": {
     "base_uri": "https://localhost:8080/",
     "height": 1000,
     "referenced_widgets": [
      "4ae31612bd99465c895cd8d551410290",
      "df8e6a9fcbbb4c84a415c252bb1895a6"
     ]
    },
    "id": "IfxRabxM8wkr",
    "outputId": "003696a5-e489-4bb4-d85f-2af2ff12f6d5"
   },
   "outputs": [
    {
     "name": "stderr",
     "output_type": "stream",
     "text": [
      "C:\\anaconda3\\lib\\site-packages\\xgboost\\sklearn.py:1146: UserWarning:\n",
      "\n",
      "The use of label encoder in XGBClassifier is deprecated and will be removed in a future release. To remove this warning, do the following: 1) Pass option use_label_encoder=False when constructing XGBClassifier object; and 2) Encode your labels (y) as integers starting with 0, i.e. 0, 1, 2, ..., [num_class - 1].\n",
      "\n"
     ]
    },
    {
     "name": "stdout",
     "output_type": "stream",
     "text": [
      "[22:55:38] WARNING: C:/Users/Administrator/workspace/xgboost-win64_release_1.4.0/src/learner.cc:1095: Starting in XGBoost 1.3.0, the default evaluation metric used with the objective 'binary:logistic' was changed from 'error' to 'logloss'. Explicitly set eval_metric if you'd like to restore the old behavior.\n"
     ]
    }
   ],
   "source": [
    "xgb_clf = XGBClassifier()\n",
    "\n",
    "start = time.time()\n",
    "xgb_clf.fit(X_train,Y_train)\n",
    "xgb_trainTime = time.time() - start\n",
    "\n",
    "xgb_predValues = xgb_clf.predict(X_test)\n",
    "accuracy_xgb,recall_xgb,precision_xgb,fscore_xgb,confusion = scores(Y_test,xgb_predValues)\n"
   ]
  },
  {
   "cell_type": "code",
   "execution_count": 30,
   "metadata": {},
   "outputs": [
    {
     "data": {
      "image/png": "[encoded data removed]",
      "text/plain": [
       "<Figure size 432x288 with 2 Axes>"
      ]
     },
     "metadata": {
      "needs_background": "light"
     },
     "output_type": "display_data"
    }
   ],
   "source": [
    "# Plotting Confusion Matrix\n",
    "sns.heatmap(confusion,annot = True,fmt=\"d\",xticklabels = [\"Predicted No\",\"Predicted Yes\"],yticklabels = [\"Actual No\",\"Actual Yes\"])\n",
    "plt.show()"
   ]
  },
  {
   "cell_type": "markdown",
   "metadata": {},
   "source": [
    "#### 4. LightGBM Classifier"
   ]
  },
  {
   "cell_type": "code",
   "execution_count": 31,
   "metadata": {},
   "outputs": [],
   "source": [
    "lgbm_clf = LGBMClassifier()\n",
    "\n",
    "start = time.time()\n",
    "lgbm_clf.fit(X_train,Y_train)\n",
    "lgbm_trainTime = time.time() - start\n",
    "\n",
    "lgbm_predValues = lgbm_clf.predict(X_test)\n",
    "accuracy_lgbm,recall_lgbm,precision_lgbm,fscore_lgbm,confusion = scores(Y_test,lgbm_predValues)\n"
   ]
  },
  {
   "cell_type": "code",
   "execution_count": 32,
   "metadata": {},
   "outputs": [
    {
     "data": {
      "image/png": "[encoded data removed]",
      "text/plain": [
       "<Figure size 432x288 with 2 Axes>"
      ]
     },
     "metadata": {
      "needs_background": "light"
     },
     "output_type": "display_data"
    }
   ],
   "source": [
    "# Plotting Confusion Matrix\n",
    "sns.heatmap(confusion,annot = True,fmt=\"d\",xticklabels = [\"Predicted No\",\"Predicted Yes\"],yticklabels = [\"Actual No\",\"Actual Yes\"])\n",
    "plt.show()"
   ]
  },
  {
   "cell_type": "markdown",
   "metadata": {
    "id": "qlSUZeWV8wk2"
   },
   "source": [
    "### Comparison of Ensemble Learning Approach"
   ]
  },
  {
   "cell_type": "code",
   "execution_count": 33,
   "metadata": {
    "id": "_VO6bmbt8wk3"
   },
   "outputs": [],
   "source": [
    "data_comparison = [[forest_trainTime,accuracy_rnd,recall_rnd,precision_rnd,fscore_rnd],\n",
    "                  [ada_trainTime,accuracy_ada,recall_ada,precision_ada,fscore_ada],\n",
    "                  [xgb_trainTime,accuracy_xgb,recall_xgb,precision_xgb,fscore_xgb],\n",
    "                  [lgbm_trainTime,accuracy_lgbm,recall_lgbm,precision_lgbm,fscore_lgbm]]\n",
    "comparison_tabel2 = pd.DataFrame(data_comparison,index= ['Random-Forest-Classifier','Ada-Boost-Classifier','XGBoost-Classifier','LightGBM-Classifier'],\n",
    "                                 columns=['Time','Accuracy','Recall','Precision','F1-Score'])"
   ]
  },
  {
   "cell_type": "code",
   "execution_count": 34,
   "metadata": {
    "colab": {
     "base_uri": "https://localhost:8080/",
     "height": 162
    },
    "id": "R2uzT6fI8wk9",
    "outputId": "f5db8f22-29c3-4efa-f917-b0fdd2d36ab0"
   },
   "outputs": [
    {
     "data": {
      "text/html": [
       "<div>\n",
       "<style scoped>\n",
       "    .dataframe tbody tr th:only-of-type {\n",
       "        vertical-align: middle;\n",
       "    }\n",
       "\n",
       "    .dataframe tbody tr th {\n",
       "        vertical-align: top;\n",
       "    }\n",
       "\n",
       "    .dataframe thead th {\n",
       "        text-align: right;\n",
       "    }\n",
       "</style>\n",
       "<table border=\"1\" class=\"dataframe\">\n",
       "  <thead>\n",
       "    <tr style=\"text-align: right;\">\n",
       "      <th></th>\n",
       "      <th>Time</th>\n",
       "      <th>Accuracy</th>\n",
       "      <th>Recall</th>\n",
       "      <th>Precision</th>\n",
       "      <th>F1-Score</th>\n",
       "    </tr>\n",
       "  </thead>\n",
       "  <tbody>\n",
       "    <tr>\n",
       "      <th>Random-Forest-Classifier</th>\n",
       "      <td>2.441980</td>\n",
       "      <td>0.934692</td>\n",
       "      <td>0.723129</td>\n",
       "      <td>0.969811</td>\n",
       "      <td>0.828498</td>\n",
       "    </tr>\n",
       "    <tr>\n",
       "      <th>Ada-Boost-Classifier</th>\n",
       "      <td>0.990757</td>\n",
       "      <td>0.884974</td>\n",
       "      <td>0.656162</td>\n",
       "      <td>0.781501</td>\n",
       "      <td>0.713368</td>\n",
       "    </tr>\n",
       "    <tr>\n",
       "      <th>XGBoost-Classifier</th>\n",
       "      <td>1.228557</td>\n",
       "      <td>0.936533</td>\n",
       "      <td>0.748452</td>\n",
       "      <td>0.950000</td>\n",
       "      <td>0.837268</td>\n",
       "    </tr>\n",
       "    <tr>\n",
       "      <th>LightGBM-Classifier</th>\n",
       "      <td>0.191202</td>\n",
       "      <td>0.937147</td>\n",
       "      <td>0.725943</td>\n",
       "      <td>0.980989</td>\n",
       "      <td>0.834411</td>\n",
       "    </tr>\n",
       "  </tbody>\n",
       "</table>\n",
       "</div>"
      ],
      "text/plain": [
       "                              Time  Accuracy    Recall  Precision  F1-Score\n",
       "Random-Forest-Classifier  2.441980  0.934692  0.723129   0.969811  0.828498\n",
       "Ada-Boost-Classifier      0.990757  0.884974  0.656162   0.781501  0.713368\n",
       "XGBoost-Classifier        1.228557  0.936533  0.748452   0.950000  0.837268\n",
       "LightGBM-Classifier       0.191202  0.937147  0.725943   0.980989  0.834411"
      ]
     },
     "execution_count": 34,
     "metadata": {},
     "output_type": "execute_result"
    }
   ],
   "source": [
    "comparison_tabel2"
   ]
  },
  {
   "cell_type": "markdown",
   "metadata": {
    "id": "11UCsHl58wlD"
   },
   "source": [
    "### Comparison of all training methods"
   ]
  },
  {
   "cell_type": "code",
   "execution_count": 35,
   "metadata": {
    "colab": {
     "base_uri": "https://localhost:8080/",
     "height": 248
    },
    "id": "-nfC5hh-8wlE",
    "outputId": "26582888-55de-426f-8531-4714ad8a7008"
   },
   "outputs": [
    {
     "data": {
      "text/html": [
       "<div>\n",
       "<style scoped>\n",
       "    .dataframe tbody tr th:only-of-type {\n",
       "        vertical-align: middle;\n",
       "    }\n",
       "\n",
       "    .dataframe tbody tr th {\n",
       "        vertical-align: top;\n",
       "    }\n",
       "\n",
       "    .dataframe thead th {\n",
       "        text-align: right;\n",
       "    }\n",
       "</style>\n",
       "<table border=\"1\" class=\"dataframe\">\n",
       "  <thead>\n",
       "    <tr style=\"text-align: right;\">\n",
       "      <th></th>\n",
       "      <th>Time</th>\n",
       "      <th>Accuracy</th>\n",
       "      <th>Recall</th>\n",
       "      <th>Precision</th>\n",
       "      <th>F1-Score</th>\n",
       "    </tr>\n",
       "  </thead>\n",
       "  <tbody>\n",
       "    <tr>\n",
       "      <th>Logistic-Regression</th>\n",
       "      <td>0.193910</td>\n",
       "      <td>0.803953</td>\n",
       "      <td>0.162634</td>\n",
       "      <td>0.726131</td>\n",
       "      <td>0.265747</td>\n",
       "    </tr>\n",
       "    <tr>\n",
       "      <th>Naive Bayes</th>\n",
       "      <td>0.015136</td>\n",
       "      <td>0.813160</td>\n",
       "      <td>0.293754</td>\n",
       "      <td>0.661597</td>\n",
       "      <td>0.406859</td>\n",
       "    </tr>\n",
       "    <tr>\n",
       "      <th>Support Vector</th>\n",
       "      <td>16.870619</td>\n",
       "      <td>0.804076</td>\n",
       "      <td>0.120428</td>\n",
       "      <td>0.866397</td>\n",
       "      <td>0.753076</td>\n",
       "    </tr>\n",
       "    <tr>\n",
       "      <th>Decision-Tree</th>\n",
       "      <td>0.169822</td>\n",
       "      <td>0.889148</td>\n",
       "      <td>0.774902</td>\n",
       "      <td>0.732447</td>\n",
       "      <td>0.753076</td>\n",
       "    </tr>\n",
       "    <tr>\n",
       "      <th>Random-Forest-Classifier</th>\n",
       "      <td>2.441980</td>\n",
       "      <td>0.934692</td>\n",
       "      <td>0.723129</td>\n",
       "      <td>0.969811</td>\n",
       "      <td>0.828498</td>\n",
       "    </tr>\n",
       "    <tr>\n",
       "      <th>Ada-Boost-Classifier</th>\n",
       "      <td>0.990757</td>\n",
       "      <td>0.884974</td>\n",
       "      <td>0.656162</td>\n",
       "      <td>0.781501</td>\n",
       "      <td>0.713368</td>\n",
       "    </tr>\n",
       "    <tr>\n",
       "      <th>XGBoost-Classifier</th>\n",
       "      <td>1.228557</td>\n",
       "      <td>0.936533</td>\n",
       "      <td>0.748452</td>\n",
       "      <td>0.950000</td>\n",
       "      <td>0.837268</td>\n",
       "    </tr>\n",
       "    <tr>\n",
       "      <th>LightGBM-Classifier</th>\n",
       "      <td>0.191202</td>\n",
       "      <td>0.937147</td>\n",
       "      <td>0.725943</td>\n",
       "      <td>0.980989</td>\n",
       "      <td>0.834411</td>\n",
       "    </tr>\n",
       "  </tbody>\n",
       "</table>\n",
       "</div>"
      ],
      "text/plain": [
       "                               Time  Accuracy    Recall  Precision  F1-Score\n",
       "Logistic-Regression        0.193910  0.803953  0.162634   0.726131  0.265747\n",
       "Naive Bayes                0.015136  0.813160  0.293754   0.661597  0.406859\n",
       "Support Vector            16.870619  0.804076  0.120428   0.866397  0.753076\n",
       "Decision-Tree              0.169822  0.889148  0.774902   0.732447  0.753076\n",
       "Random-Forest-Classifier   2.441980  0.934692  0.723129   0.969811  0.828498\n",
       "Ada-Boost-Classifier       0.990757  0.884974  0.656162   0.781501  0.713368\n",
       "XGBoost-Classifier         1.228557  0.936533  0.748452   0.950000  0.837268\n",
       "LightGBM-Classifier        0.191202  0.937147  0.725943   0.980989  0.834411"
      ]
     },
     "execution_count": 35,
     "metadata": {},
     "output_type": "execute_result"
    }
   ],
   "source": [
    "table_org = comparison_tabel1.append(comparison_tabel2)\n",
    "table_org"
   ]
  },
  {
   "cell_type": "markdown",
   "metadata": {},
   "source": [
    "### Prediction using the best model"
   ]
  },
  {
   "cell_type": "code",
   "execution_count": 36,
   "metadata": {},
   "outputs": [
    {
     "data": {
      "text/html": [
       "<div>\n",
       "<style scoped>\n",
       "    .dataframe tbody tr th:only-of-type {\n",
       "        vertical-align: middle;\n",
       "    }\n",
       "\n",
       "    .dataframe tbody tr th {\n",
       "        vertical-align: top;\n",
       "    }\n",
       "\n",
       "    .dataframe thead th {\n",
       "        text-align: right;\n",
       "    }\n",
       "</style>\n",
       "<table border=\"1\" class=\"dataframe\">\n",
       "  <thead>\n",
       "    <tr style=\"text-align: right;\">\n",
       "      <th></th>\n",
       "      <th>Actual</th>\n",
       "      <th>Predicted</th>\n",
       "    </tr>\n",
       "  </thead>\n",
       "  <tbody>\n",
       "    <tr>\n",
       "      <th>2300</th>\n",
       "      <td>1</td>\n",
       "      <td>0</td>\n",
       "    </tr>\n",
       "    <tr>\n",
       "      <th>23858</th>\n",
       "      <td>0</td>\n",
       "      <td>0</td>\n",
       "    </tr>\n",
       "    <tr>\n",
       "      <th>5777</th>\n",
       "      <td>0</td>\n",
       "      <td>0</td>\n",
       "    </tr>\n",
       "    <tr>\n",
       "      <th>4920</th>\n",
       "      <td>0</td>\n",
       "      <td>0</td>\n",
       "    </tr>\n",
       "    <tr>\n",
       "      <th>24466</th>\n",
       "      <td>0</td>\n",
       "      <td>0</td>\n",
       "    </tr>\n",
       "    <tr>\n",
       "      <th>...</th>\n",
       "      <td>...</td>\n",
       "      <td>...</td>\n",
       "    </tr>\n",
       "    <tr>\n",
       "      <th>30468</th>\n",
       "      <td>0</td>\n",
       "      <td>0</td>\n",
       "    </tr>\n",
       "    <tr>\n",
       "      <th>24318</th>\n",
       "      <td>0</td>\n",
       "      <td>0</td>\n",
       "    </tr>\n",
       "    <tr>\n",
       "      <th>9973</th>\n",
       "      <td>0</td>\n",
       "      <td>0</td>\n",
       "    </tr>\n",
       "    <tr>\n",
       "      <th>12208</th>\n",
       "      <td>0</td>\n",
       "      <td>0</td>\n",
       "    </tr>\n",
       "    <tr>\n",
       "      <th>22804</th>\n",
       "      <td>1</td>\n",
       "      <td>1</td>\n",
       "    </tr>\n",
       "  </tbody>\n",
       "</table>\n",
       "<p>8146 rows × 2 columns</p>\n",
       "</div>"
      ],
      "text/plain": [
       "       Actual  Predicted\n",
       "2300        1          0\n",
       "23858       0          0\n",
       "5777        0          0\n",
       "4920        0          0\n",
       "24466       0          0\n",
       "...       ...        ...\n",
       "30468       0          0\n",
       "24318       0          0\n",
       "9973        0          0\n",
       "12208       0          0\n",
       "22804       1          1\n",
       "\n",
       "[8146 rows x 2 columns]"
      ]
     },
     "execution_count": 36,
     "metadata": {},
     "output_type": "execute_result"
    }
   ],
   "source": [
    "### LightGBM classifier is the best model \n",
    " \n",
    "df = pd.DataFrame({'Actual': Y_test, 'Predicted': lgbm_predValues})\n",
    "df"
   ]
  },
  {
   "cell_type": "code",
   "execution_count": 37,
   "metadata": {},
   "outputs": [
    {
     "data": {
      "text/plain": [
       "<matplotlib.axes._subplots.AxesSubplot at 0x2254bf42348>"
      ]
     },
     "execution_count": 37,
     "metadata": {},
     "output_type": "execute_result"
    },
    {
     "data": {
      "image/png": "[encoded data removed]",
      "text/plain": [
       "<Figure size 432x288 with 1 Axes>"
      ]
     },
     "metadata": {
      "needs_background": "light"
     },
     "output_type": "display_data"
    }
   ],
   "source": [
    "sns.countplot(x='Actual',data=df)"
   ]
  },
  {
   "cell_type": "code",
   "execution_count": 38,
   "metadata": {},
   "outputs": [
    {
     "data": {
      "text/plain": [
       "<matplotlib.axes._subplots.AxesSubplot at 0x2254d60db08>"
      ]
     },
     "execution_count": 38,
     "metadata": {},
     "output_type": "execute_result"
    },
    {
     "data": {
      "image/png": "[encoded data removed]",
      "text/plain": [
       "<Figure size 432x288 with 1 Axes>"
      ]
     },
     "metadata": {
      "needs_background": "light"
     },
     "output_type": "display_data"
    }
   ],
   "source": [
    "sns.countplot(x='Predicted',data=df)"
   ]
  },
  {
   "cell_type": "markdown",
   "metadata": {},
   "source": [
    "# PCA Data"
   ]
  },
  {
   "cell_type": "code",
   "execution_count": 39,
   "metadata": {},
   "outputs": [],
   "source": [
    "pca = PCA(n_components=6)\n",
    "data_pca = pca.fit_transform(data)"
   ]
  },
  {
   "cell_type": "markdown",
   "metadata": {},
   "source": [
    "### Splitting PCA Data"
   ]
  },
  {
   "cell_type": "code",
   "execution_count": 40,
   "metadata": {},
   "outputs": [],
   "source": [
    "X_train_pca,X_test_pca,Y_train_pca,Y_test_pca = train_test_split(data_pca,labels,stratify=labels,random_state=42)"
   ]
  },
  {
   "cell_type": "markdown",
   "metadata": {},
   "source": [
    "## Traditional Approach"
   ]
  },
  {
   "cell_type": "markdown",
   "metadata": {},
   "source": [
    "#### 1. Logistic Regression"
   ]
  },
  {
   "cell_type": "code",
   "execution_count": 41,
   "metadata": {},
   "outputs": [],
   "source": [
    "log_reg = LogisticRegression()\n",
    "\n",
    "start = time.time()\n",
    "log_reg.fit(X_train_pca,Y_train_pca)\n",
    "logistic_trainTime = time.time() - start\n",
    "\n",
    "logistic_predValues = log_reg.predict(X_test_pca)\n",
    "accuracy_log,recall_log,precision_log,fscore_log,confusion = scores(Y_test_pca,logistic_predValues)"
   ]
  },
  {
   "cell_type": "code",
   "execution_count": 42,
   "metadata": {},
   "outputs": [
    {
     "data": {
      "image/png": "[encoded data removed]",
      "text/plain": [
       "<Figure size 432x288 with 2 Axes>"
      ]
     },
     "metadata": {
      "needs_background": "light"
     },
     "output_type": "display_data"
    }
   ],
   "source": [
    "# Plotting Confusion Matrix\n",
    "sns.heatmap(confusion,annot = True,fmt=\"d\",xticklabels = [\"Predicted No\",\"Predicted Yes\"],yticklabels = [\"Actual No\",\"Actual Yes\"])\n",
    "plt.show()"
   ]
  },
  {
   "cell_type": "markdown",
   "metadata": {},
   "source": [
    "#### 2. Naive Bayes"
   ]
  },
  {
   "cell_type": "code",
   "execution_count": 43,
   "metadata": {},
   "outputs": [],
   "source": [
    "naive_clf = GaussianNB()\n",
    "\n",
    "start = time.time()\n",
    "naive_clf.fit(X_train_pca,Y_train_pca)\n",
    "naive_trainTime = time.time() - start\n",
    "\n",
    "naive_predValues = naive_clf.predict(X_test_pca)\n",
    "accuracy_naive,recall_naive,precision_naive,fscore_naive,confusion = scores(Y_test_pca,naive_predValues)"
   ]
  },
  {
   "cell_type": "code",
   "execution_count": 44,
   "metadata": {},
   "outputs": [
    {
     "data": {
      "image/png": "[encoded data removed]",
      "text/plain": [
       "<Figure size 432x288 with 2 Axes>"
      ]
     },
     "metadata": {
      "needs_background": "light"
     },
     "output_type": "display_data"
    }
   ],
   "source": [
    "# Plotting Confusion Matrix\n",
    "sns.heatmap(confusion,annot = True,fmt=\"d\",xticklabels = [\"Predicted No\",\"Predicted Yes\"],yticklabels = [\"Actual No\",\"Actual Yes\"])\n",
    "plt.show()"
   ]
  },
  {
   "cell_type": "markdown",
   "metadata": {},
   "source": [
    "#### 3. Support Vector Machine"
   ]
  },
  {
   "cell_type": "code",
   "execution_count": 45,
   "metadata": {},
   "outputs": [],
   "source": [
    "Svc = SVC()\n",
    "\n",
    "start = time.time()\n",
    "Svc.fit(X_train_pca,Y_train_pca)\n",
    "Svc_trainTime = time.time() - start\n",
    "\n",
    "Svc_predValues = Svc.predict(X_test_pca)\n",
    "accuracy_Svc,recall_Svc,precision_Svc,fscore_Svc,confusion = scores(Y_test_pca,Svc_predValues)"
   ]
  },
  {
   "cell_type": "code",
   "execution_count": 46,
   "metadata": {},
   "outputs": [
    {
     "data": {
      "image/png": "[encoded data removed]",
      "text/plain": [
       "<Figure size 432x288 with 2 Axes>"
      ]
     },
     "metadata": {
      "needs_background": "light"
     },
     "output_type": "display_data"
    }
   ],
   "source": [
    "sns.heatmap(confusion,annot = True,fmt=\"d\",xticklabels = [\"Predicted No\",\"Predicted Yes\"],yticklabels = [\"Actual No\",\"Actual Yes\"])\n",
    "plt.show()"
   ]
  },
  {
   "cell_type": "markdown",
   "metadata": {},
   "source": [
    "#### 4. Decision Tree Classifier"
   ]
  },
  {
   "cell_type": "code",
   "execution_count": 47,
   "metadata": {},
   "outputs": [],
   "source": [
    "tree_clf = DecisionTreeClassifier()\n",
    "\n",
    "start = time.time()\n",
    "tree_clf.fit(X_train_pca,Y_train_pca)\n",
    "tree_trainTime = time.time() - start\n",
    "\n",
    "tree_predValues = tree_clf.predict(X_test_pca)\n",
    "accuracy_tree,recall_tree,precision_tree,fscore_tree,confusion = scores(Y_test_pca,tree_predValues)"
   ]
  },
  {
   "cell_type": "code",
   "execution_count": 48,
   "metadata": {},
   "outputs": [
    {
     "data": {
      "image/png": "[encoded data removed]",
      "text/plain": [
       "<Figure size 432x288 with 2 Axes>"
      ]
     },
     "metadata": {
      "needs_background": "light"
     },
     "output_type": "display_data"
    }
   ],
   "source": [
    "# Plotting Confusion Matrix\n",
    "sns.heatmap(confusion,annot = True,fmt=\"d\",xticklabels = [\"Predicted No\",\"Predicted Yes\"],yticklabels = [\"Actual No\",\"Actual Yes\"])\n",
    "plt.show()"
   ]
  },
  {
   "cell_type": "markdown",
   "metadata": {},
   "source": [
    "## Comparison of traditional approach"
   ]
  },
  {
   "cell_type": "code",
   "execution_count": 49,
   "metadata": {},
   "outputs": [],
   "source": [
    "data_comparison=[[logistic_trainTime,accuracy_log,recall_log,precision_log,fscore_log],[naive_trainTime,accuracy_naive,recall_naive,precision_naive,fscore_naive],\n",
    "                 [Svc_trainTime,accuracy_Svc,recall_Svc,precision_Svc,fscore_Svc],[tree_trainTime,accuracy_tree,recall_tree,precision_tree,fscore_tree]]\n",
    "\n",
    "comparison_tabel_PCA1 = pd.DataFrame(data_comparison,index= ['Logistic-Regression','Naive Bayes','Support Vector','Decision-Tree'],columns=['Time','Accuracy','Recall','Precision','F1-Score'])"
   ]
  },
  {
   "cell_type": "code",
   "execution_count": 50,
   "metadata": {},
   "outputs": [
    {
     "data": {
      "text/html": [
       "<div>\n",
       "<style scoped>\n",
       "    .dataframe tbody tr th:only-of-type {\n",
       "        vertical-align: middle;\n",
       "    }\n",
       "\n",
       "    .dataframe tbody tr th {\n",
       "        vertical-align: top;\n",
       "    }\n",
       "\n",
       "    .dataframe thead th {\n",
       "        text-align: right;\n",
       "    }\n",
       "</style>\n",
       "<table border=\"1\" class=\"dataframe\">\n",
       "  <thead>\n",
       "    <tr style=\"text-align: right;\">\n",
       "      <th></th>\n",
       "      <th>Time</th>\n",
       "      <th>Accuracy</th>\n",
       "      <th>Recall</th>\n",
       "      <th>Precision</th>\n",
       "      <th>F1-Score</th>\n",
       "    </tr>\n",
       "  </thead>\n",
       "  <tbody>\n",
       "    <tr>\n",
       "      <th>Logistic-Regression</th>\n",
       "      <td>0.151895</td>\n",
       "      <td>0.822367</td>\n",
       "      <td>0.330332</td>\n",
       "      <td>0.695498</td>\n",
       "      <td>0.447921</td>\n",
       "    </tr>\n",
       "    <tr>\n",
       "      <th>Naive Bayes</th>\n",
       "      <td>0.009065</td>\n",
       "      <td>0.802111</td>\n",
       "      <td>0.245357</td>\n",
       "      <td>0.616690</td>\n",
       "      <td>0.351047</td>\n",
       "    </tr>\n",
       "    <tr>\n",
       "      <th>Support Vector</th>\n",
       "      <td>9.398021</td>\n",
       "      <td>0.816229</td>\n",
       "      <td>0.223410</td>\n",
       "      <td>0.772374</td>\n",
       "      <td>0.346574</td>\n",
       "    </tr>\n",
       "    <tr>\n",
       "      <th>Decision-Tree</th>\n",
       "      <td>0.244117</td>\n",
       "      <td>0.808249</td>\n",
       "      <td>0.579629</td>\n",
       "      <td>0.558266</td>\n",
       "      <td>0.568747</td>\n",
       "    </tr>\n",
       "  </tbody>\n",
       "</table>\n",
       "</div>"
      ],
      "text/plain": [
       "                         Time  Accuracy    Recall  Precision  F1-Score\n",
       "Logistic-Regression  0.151895  0.822367  0.330332   0.695498  0.447921\n",
       "Naive Bayes          0.009065  0.802111  0.245357   0.616690  0.351047\n",
       "Support Vector       9.398021  0.816229  0.223410   0.772374  0.346574\n",
       "Decision-Tree        0.244117  0.808249  0.579629   0.558266  0.568747"
      ]
     },
     "execution_count": 50,
     "metadata": {},
     "output_type": "execute_result"
    }
   ],
   "source": [
    "comparison_tabel_PCA1"
   ]
  },
  {
   "cell_type": "markdown",
   "metadata": {},
   "source": [
    "## Ensemble Learning Approach"
   ]
  },
  {
   "cell_type": "markdown",
   "metadata": {},
   "source": [
    "#### 1. Random Forest Classifier"
   ]
  },
  {
   "cell_type": "code",
   "execution_count": 51,
   "metadata": {},
   "outputs": [],
   "source": [
    "rnd_clf = RandomForestClassifier()\n",
    "\n",
    "start = time.time()\n",
    "rnd_clf.fit(X_train_pca,Y_train_pca)\n",
    "forest_trainTime = time.time() - start\n",
    "\n",
    "randomForest_predValues = rnd_clf.predict(X_test_pca)\n",
    "accuracy_rnd,recall_rnd,precision_rnd,fscore_rnd,confusion = scores(Y_test_pca,randomForest_predValues)\n"
   ]
  },
  {
   "cell_type": "code",
   "execution_count": 52,
   "metadata": {},
   "outputs": [
    {
     "data": {
      "image/png": "[encoded data removed]",
      "text/plain": [
       "<Figure size 432x288 with 2 Axes>"
      ]
     },
     "metadata": {
      "needs_background": "light"
     },
     "output_type": "display_data"
    }
   ],
   "source": [
    "# Plotting Confusion Matrix\n",
    "sns.heatmap(confusion,annot = True,fmt=\"d\",xticklabels = [\"Predicted No\",\"Predicted Yes\"],yticklabels = [\"Actual No\",\"Actual Yes\"])\n",
    "plt.show()"
   ]
  },
  {
   "cell_type": "markdown",
   "metadata": {},
   "source": [
    "#### 2. Ada Boost Classifier"
   ]
  },
  {
   "cell_type": "code",
   "execution_count": 53,
   "metadata": {},
   "outputs": [],
   "source": [
    "ada_clf = AdaBoostClassifier()\n",
    "\n",
    "start = time.time()\n",
    "ada_clf.fit(X_train_pca,Y_train_pca)\n",
    "ada_trainTime = time.time() - start\n",
    "\n",
    "ada_predValues = ada_clf.predict(X_test_pca)\n",
    "accuracy_ada,recall_ada,precision_ada,fscore_ada,confusion = scores(Y_test_pca,ada_predValues)\n"
   ]
  },
  {
   "cell_type": "code",
   "execution_count": 54,
   "metadata": {},
   "outputs": [
    {
     "data": {
      "image/png": "[encoded data removed]",
      "text/plain": [
       "<Figure size 432x288 with 2 Axes>"
      ]
     },
     "metadata": {
      "needs_background": "light"
     },
     "output_type": "display_data"
    }
   ],
   "source": [
    "# Plotting Confusion Matrix\n",
    "sns.heatmap(confusion,annot = True,fmt=\"d\",xticklabels = [\"Predicted No\",\"Predicted Yes\"],yticklabels = [\"Actual No\",\"Actual Yes\"])\n",
    "plt.show()"
   ]
  },
  {
   "cell_type": "markdown",
   "metadata": {},
   "source": [
    "#### 3. XGBoost Classifier"
   ]
  },
  {
   "cell_type": "code",
   "execution_count": 55,
   "metadata": {},
   "outputs": [
    {
     "name": "stderr",
     "output_type": "stream",
     "text": [
      "C:\\anaconda3\\lib\\site-packages\\xgboost\\sklearn.py:1146: UserWarning:\n",
      "\n",
      "The use of label encoder in XGBClassifier is deprecated and will be removed in a future release. To remove this warning, do the following: 1) Pass option use_label_encoder=False when constructing XGBClassifier object; and 2) Encode your labels (y) as integers starting with 0, i.e. 0, 1, 2, ..., [num_class - 1].\n",
      "\n"
     ]
    },
    {
     "name": "stdout",
     "output_type": "stream",
     "text": [
      "[22:56:00] WARNING: C:/Users/Administrator/workspace/xgboost-win64_release_1.4.0/src/learner.cc:1095: Starting in XGBoost 1.3.0, the default evaluation metric used with the objective 'binary:logistic' was changed from 'error' to 'logloss'. Explicitly set eval_metric if you'd like to restore the old behavior.\n"
     ]
    }
   ],
   "source": [
    "xgb_clf = XGBClassifier()\n",
    "\n",
    "start = time.time()\n",
    "xgb_clf.fit(X_train_pca,Y_train_pca)\n",
    "xgb_trainTime = time.time() - start\n",
    "\n",
    "xgb_predValues = xgb_clf.predict(X_test_pca)\n",
    "accuracy_xgb,recall_xgb,precision_xgb,fscore_xgb,confusion = scores(Y_test_pca,xgb_predValues)\n"
   ]
  },
  {
   "cell_type": "code",
   "execution_count": 56,
   "metadata": {
    "scrolled": true
   },
   "outputs": [
    {
     "data": {
      "image/png": "[encoded data removed]",
      "text/plain": [
       "<Figure size 432x288 with 2 Axes>"
      ]
     },
     "metadata": {
      "needs_background": "light"
     },
     "output_type": "display_data"
    }
   ],
   "source": [
    "# Plotting Confusion Matrix\n",
    "sns.heatmap(confusion,annot = True,fmt=\"d\",xticklabels = [\"Predicted No\",\"Predicted Yes\"],yticklabels = [\"Actual No\",\"Actual Yes\"])\n",
    "plt.show()"
   ]
  },
  {
   "cell_type": "markdown",
   "metadata": {},
   "source": [
    "#### 4. LightGBM Classifier"
   ]
  },
  {
   "cell_type": "code",
   "execution_count": 57,
   "metadata": {},
   "outputs": [],
   "source": [
    "lgbm_clf = LGBMClassifier()\n",
    "\n",
    "start = time.time()\n",
    "lgbm_clf.fit(X_train_pca,Y_train_pca)\n",
    "lgbm_trainTime = time.time() - start\n",
    "\n",
    "lgbm_predValues = lgbm_clf.predict(X_test_pca)\n",
    "accuracy_lgbm,recall_lgbm,precision_lgbm,fscore_lgbm,confusion = scores(Y_test_pca,lgbm_predValues)\n"
   ]
  },
  {
   "cell_type": "code",
   "execution_count": 58,
   "metadata": {},
   "outputs": [
    {
     "data": {
      "image/png": "[encoded data removed]",
      "text/plain": [
       "<Figure size 432x288 with 2 Axes>"
      ]
     },
     "metadata": {
      "needs_background": "light"
     },
     "output_type": "display_data"
    }
   ],
   "source": [
    "# Plotting Confusion Matrix\n",
    "sns.heatmap(confusion,annot = True,fmt=\"d\",xticklabels = [\"Predicted No\",\"Predicted Yes\"],yticklabels = [\"Actual No\",\"Actual Yes\"])\n",
    "plt.show()"
   ]
  },
  {
   "cell_type": "markdown",
   "metadata": {},
   "source": [
    "### Comparison of Ensemble Learning Approach"
   ]
  },
  {
   "cell_type": "code",
   "execution_count": 59,
   "metadata": {},
   "outputs": [],
   "source": [
    "data_comparison = [[forest_trainTime,accuracy_rnd,recall_rnd,precision_rnd,fscore_rnd],\n",
    "                  [ada_trainTime,accuracy_ada,recall_ada,precision_ada,fscore_ada],\n",
    "                 [xgb_trainTime,accuracy_xgb,recall_xgb,precision_xgb,fscore_xgb],\n",
    "                   [lgbm_trainTime,accuracy_lgbm,recall_lgbm,precision_lgbm,fscore_lgbm],]\n",
    "comparison_tabel_PCA2 = pd.DataFrame(data_comparison,index= ['Random-Forest-Classifier','Ada-Boost-Classifier','XGBoost-Classifier','LightGBM-Classifier'],\n",
    "                                 columns=['Time','Accuracy','Recall','Precision','F1-Score'])\n",
    "table = comparison_tabel_PCA1.append(comparison_tabel_PCA2)"
   ]
  },
  {
   "cell_type": "code",
   "execution_count": 60,
   "metadata": {
    "scrolled": true
   },
   "outputs": [
    {
     "data": {
      "text/html": [
       "<div>\n",
       "<style scoped>\n",
       "    .dataframe tbody tr th:only-of-type {\n",
       "        vertical-align: middle;\n",
       "    }\n",
       "\n",
       "    .dataframe tbody tr th {\n",
       "        vertical-align: top;\n",
       "    }\n",
       "\n",
       "    .dataframe thead th {\n",
       "        text-align: right;\n",
       "    }\n",
       "</style>\n",
       "<table border=\"1\" class=\"dataframe\">\n",
       "  <thead>\n",
       "    <tr style=\"text-align: right;\">\n",
       "      <th></th>\n",
       "      <th>Time</th>\n",
       "      <th>Accuracy</th>\n",
       "      <th>Recall</th>\n",
       "      <th>Precision</th>\n",
       "      <th>F1-Score</th>\n",
       "    </tr>\n",
       "  </thead>\n",
       "  <tbody>\n",
       "    <tr>\n",
       "      <th>Random-Forest-Classifier</th>\n",
       "      <td>5.367084</td>\n",
       "      <td>0.865824</td>\n",
       "      <td>0.576252</td>\n",
       "      <td>0.750733</td>\n",
       "      <td>0.652022</td>\n",
       "    </tr>\n",
       "    <tr>\n",
       "      <th>Ada-Boost-Classifier</th>\n",
       "      <td>1.219690</td>\n",
       "      <td>0.829241</td>\n",
       "      <td>0.420371</td>\n",
       "      <td>0.674188</td>\n",
       "      <td>0.517851</td>\n",
       "    </tr>\n",
       "    <tr>\n",
       "      <th>XGBoost-Classifier</th>\n",
       "      <td>1.657057</td>\n",
       "      <td>0.866069</td>\n",
       "      <td>0.587507</td>\n",
       "      <td>0.744650</td>\n",
       "      <td>0.656810</td>\n",
       "    </tr>\n",
       "    <tr>\n",
       "      <th>LightGBM-Classifier</th>\n",
       "      <td>0.149707</td>\n",
       "      <td>0.864228</td>\n",
       "      <td>0.585819</td>\n",
       "      <td>0.737775</td>\n",
       "      <td>0.653074</td>\n",
       "    </tr>\n",
       "  </tbody>\n",
       "</table>\n",
       "</div>"
      ],
      "text/plain": [
       "                              Time  Accuracy    Recall  Precision  F1-Score\n",
       "Random-Forest-Classifier  5.367084  0.865824  0.576252   0.750733  0.652022\n",
       "Ada-Boost-Classifier      1.219690  0.829241  0.420371   0.674188  0.517851\n",
       "XGBoost-Classifier        1.657057  0.866069  0.587507   0.744650  0.656810\n",
       "LightGBM-Classifier       0.149707  0.864228  0.585819   0.737775  0.653074"
      ]
     },
     "execution_count": 60,
     "metadata": {},
     "output_type": "execute_result"
    }
   ],
   "source": [
    "comparison_tabel_PCA2"
   ]
  },
  {
   "cell_type": "code",
   "execution_count": 61,
   "metadata": {},
   "outputs": [
    {
     "data": {
      "text/html": [
       "<div>\n",
       "<style scoped>\n",
       "    .dataframe tbody tr th:only-of-type {\n",
       "        vertical-align: middle;\n",
       "    }\n",
       "\n",
       "    .dataframe tbody tr th {\n",
       "        vertical-align: top;\n",
       "    }\n",
       "\n",
       "    .dataframe thead th {\n",
       "        text-align: right;\n",
       "    }\n",
       "</style>\n",
       "<table border=\"1\" class=\"dataframe\">\n",
       "  <thead>\n",
       "    <tr style=\"text-align: right;\">\n",
       "      <th></th>\n",
       "      <th>Time</th>\n",
       "      <th>Accuracy</th>\n",
       "      <th>Recall</th>\n",
       "      <th>Precision</th>\n",
       "      <th>F1-Score</th>\n",
       "    </tr>\n",
       "  </thead>\n",
       "  <tbody>\n",
       "    <tr>\n",
       "      <th>Logistic-Regression</th>\n",
       "      <td>0.151895</td>\n",
       "      <td>0.822367</td>\n",
       "      <td>0.330332</td>\n",
       "      <td>0.695498</td>\n",
       "      <td>0.447921</td>\n",
       "    </tr>\n",
       "    <tr>\n",
       "      <th>Naive Bayes</th>\n",
       "      <td>0.009065</td>\n",
       "      <td>0.802111</td>\n",
       "      <td>0.245357</td>\n",
       "      <td>0.616690</td>\n",
       "      <td>0.351047</td>\n",
       "    </tr>\n",
       "    <tr>\n",
       "      <th>Support Vector</th>\n",
       "      <td>9.398021</td>\n",
       "      <td>0.816229</td>\n",
       "      <td>0.223410</td>\n",
       "      <td>0.772374</td>\n",
       "      <td>0.346574</td>\n",
       "    </tr>\n",
       "    <tr>\n",
       "      <th>Decision-Tree</th>\n",
       "      <td>0.244117</td>\n",
       "      <td>0.808249</td>\n",
       "      <td>0.579629</td>\n",
       "      <td>0.558266</td>\n",
       "      <td>0.568747</td>\n",
       "    </tr>\n",
       "    <tr>\n",
       "      <th>Random-Forest-Classifier</th>\n",
       "      <td>5.367084</td>\n",
       "      <td>0.865824</td>\n",
       "      <td>0.576252</td>\n",
       "      <td>0.750733</td>\n",
       "      <td>0.652022</td>\n",
       "    </tr>\n",
       "    <tr>\n",
       "      <th>Ada-Boost-Classifier</th>\n",
       "      <td>1.219690</td>\n",
       "      <td>0.829241</td>\n",
       "      <td>0.420371</td>\n",
       "      <td>0.674188</td>\n",
       "      <td>0.517851</td>\n",
       "    </tr>\n",
       "    <tr>\n",
       "      <th>XGBoost-Classifier</th>\n",
       "      <td>1.657057</td>\n",
       "      <td>0.866069</td>\n",
       "      <td>0.587507</td>\n",
       "      <td>0.744650</td>\n",
       "      <td>0.656810</td>\n",
       "    </tr>\n",
       "    <tr>\n",
       "      <th>LightGBM-Classifier</th>\n",
       "      <td>0.149707</td>\n",
       "      <td>0.864228</td>\n",
       "      <td>0.585819</td>\n",
       "      <td>0.737775</td>\n",
       "      <td>0.653074</td>\n",
       "    </tr>\n",
       "  </tbody>\n",
       "</table>\n",
       "</div>"
      ],
      "text/plain": [
       "                              Time  Accuracy    Recall  Precision  F1-Score\n",
       "Logistic-Regression       0.151895  0.822367  0.330332   0.695498  0.447921\n",
       "Naive Bayes               0.009065  0.802111  0.245357   0.616690  0.351047\n",
       "Support Vector            9.398021  0.816229  0.223410   0.772374  0.346574\n",
       "Decision-Tree             0.244117  0.808249  0.579629   0.558266  0.568747\n",
       "Random-Forest-Classifier  5.367084  0.865824  0.576252   0.750733  0.652022\n",
       "Ada-Boost-Classifier      1.219690  0.829241  0.420371   0.674188  0.517851\n",
       "XGBoost-Classifier        1.657057  0.866069  0.587507   0.744650  0.656810\n",
       "LightGBM-Classifier       0.149707  0.864228  0.585819   0.737775  0.653074"
      ]
     },
     "execution_count": 61,
     "metadata": {},
     "output_type": "execute_result"
    }
   ],
   "source": [
    "table"
   ]
  },
  {
   "cell_type": "markdown",
   "metadata": {},
   "source": [
    "# Comparison of Original data v/s Pca Data"
   ]
  },
  {
   "cell_type": "code",
   "execution_count": 62,
   "metadata": {},
   "outputs": [],
   "source": [
    "cols = [[\"Original Data\",\"Original Data\",\"Original Data\",\"Original Data\",\"Original Data\",\"Pca Data\",\"Pca Data\",\"Pca Data\",\"Pca Data\",\"Pca Data\"],\n",
    "       ['Time','Accuracy','Recall','Precision','F1-Score','Time','Accuracy','Recall','Precision','F1-Score']]\n",
    "tuples = list(zip(*cols))\n",
    "multi_column = pd.MultiIndex.from_tuples(tuples)\n"
   ]
  },
  {
   "cell_type": "code",
   "execution_count": 63,
   "metadata": {},
   "outputs": [],
   "source": [
    "final_table = pd.DataFrame(index = table.index,columns=multi_column)"
   ]
  },
  {
   "cell_type": "code",
   "execution_count": 64,
   "metadata": {},
   "outputs": [],
   "source": [
    "final_table[\"Original Data\"] = table_org\n",
    "final_table[\"Pca Data\"] = table"
   ]
  },
  {
   "cell_type": "code",
   "execution_count": 65,
   "metadata": {},
   "outputs": [
    {
     "data": {
      "text/html": [
       "<div>\n",
       "<style scoped>\n",
       "    .dataframe tbody tr th:only-of-type {\n",
       "        vertical-align: middle;\n",
       "    }\n",
       "\n",
       "    .dataframe tbody tr th {\n",
       "        vertical-align: top;\n",
       "    }\n",
       "\n",
       "    .dataframe thead tr th {\n",
       "        text-align: left;\n",
       "    }\n",
       "</style>\n",
       "<table border=\"1\" class=\"dataframe\">\n",
       "  <thead>\n",
       "    <tr>\n",
       "      <th></th>\n",
       "      <th colspan=\"5\" halign=\"left\">Original Data</th>\n",
       "      <th colspan=\"5\" halign=\"left\">Pca Data</th>\n",
       "    </tr>\n",
       "    <tr>\n",
       "      <th></th>\n",
       "      <th>Time</th>\n",
       "      <th>Accuracy</th>\n",
       "      <th>Recall</th>\n",
       "      <th>Precision</th>\n",
       "      <th>F1-Score</th>\n",
       "      <th>Time</th>\n",
       "      <th>Accuracy</th>\n",
       "      <th>Recall</th>\n",
       "      <th>Precision</th>\n",
       "      <th>F1-Score</th>\n",
       "    </tr>\n",
       "  </thead>\n",
       "  <tbody>\n",
       "    <tr>\n",
       "      <th>Logistic-Regression</th>\n",
       "      <td>0.193910</td>\n",
       "      <td>0.803953</td>\n",
       "      <td>0.162634</td>\n",
       "      <td>0.726131</td>\n",
       "      <td>0.265747</td>\n",
       "      <td>0.151895</td>\n",
       "      <td>0.822367</td>\n",
       "      <td>0.330332</td>\n",
       "      <td>0.695498</td>\n",
       "      <td>0.447921</td>\n",
       "    </tr>\n",
       "    <tr>\n",
       "      <th>Naive Bayes</th>\n",
       "      <td>0.015136</td>\n",
       "      <td>0.813160</td>\n",
       "      <td>0.293754</td>\n",
       "      <td>0.661597</td>\n",
       "      <td>0.406859</td>\n",
       "      <td>0.009065</td>\n",
       "      <td>0.802111</td>\n",
       "      <td>0.245357</td>\n",
       "      <td>0.616690</td>\n",
       "      <td>0.351047</td>\n",
       "    </tr>\n",
       "    <tr>\n",
       "      <th>Support Vector</th>\n",
       "      <td>16.870619</td>\n",
       "      <td>0.804076</td>\n",
       "      <td>0.120428</td>\n",
       "      <td>0.866397</td>\n",
       "      <td>0.753076</td>\n",
       "      <td>9.398021</td>\n",
       "      <td>0.816229</td>\n",
       "      <td>0.223410</td>\n",
       "      <td>0.772374</td>\n",
       "      <td>0.346574</td>\n",
       "    </tr>\n",
       "    <tr>\n",
       "      <th>Decision-Tree</th>\n",
       "      <td>0.169822</td>\n",
       "      <td>0.889148</td>\n",
       "      <td>0.774902</td>\n",
       "      <td>0.732447</td>\n",
       "      <td>0.753076</td>\n",
       "      <td>0.244117</td>\n",
       "      <td>0.808249</td>\n",
       "      <td>0.579629</td>\n",
       "      <td>0.558266</td>\n",
       "      <td>0.568747</td>\n",
       "    </tr>\n",
       "    <tr>\n",
       "      <th>Random-Forest-Classifier</th>\n",
       "      <td>2.441980</td>\n",
       "      <td>0.934692</td>\n",
       "      <td>0.723129</td>\n",
       "      <td>0.969811</td>\n",
       "      <td>0.828498</td>\n",
       "      <td>5.367084</td>\n",
       "      <td>0.865824</td>\n",
       "      <td>0.576252</td>\n",
       "      <td>0.750733</td>\n",
       "      <td>0.652022</td>\n",
       "    </tr>\n",
       "    <tr>\n",
       "      <th>Ada-Boost-Classifier</th>\n",
       "      <td>0.990757</td>\n",
       "      <td>0.884974</td>\n",
       "      <td>0.656162</td>\n",
       "      <td>0.781501</td>\n",
       "      <td>0.713368</td>\n",
       "      <td>1.219690</td>\n",
       "      <td>0.829241</td>\n",
       "      <td>0.420371</td>\n",
       "      <td>0.674188</td>\n",
       "      <td>0.517851</td>\n",
       "    </tr>\n",
       "    <tr>\n",
       "      <th>XGBoost-Classifier</th>\n",
       "      <td>1.228557</td>\n",
       "      <td>0.936533</td>\n",
       "      <td>0.748452</td>\n",
       "      <td>0.950000</td>\n",
       "      <td>0.837268</td>\n",
       "      <td>1.657057</td>\n",
       "      <td>0.866069</td>\n",
       "      <td>0.587507</td>\n",
       "      <td>0.744650</td>\n",
       "      <td>0.656810</td>\n",
       "    </tr>\n",
       "    <tr>\n",
       "      <th>LightGBM-Classifier</th>\n",
       "      <td>0.191202</td>\n",
       "      <td>0.937147</td>\n",
       "      <td>0.725943</td>\n",
       "      <td>0.980989</td>\n",
       "      <td>0.834411</td>\n",
       "      <td>0.149707</td>\n",
       "      <td>0.864228</td>\n",
       "      <td>0.585819</td>\n",
       "      <td>0.737775</td>\n",
       "      <td>0.653074</td>\n",
       "    </tr>\n",
       "  </tbody>\n",
       "</table>\n",
       "</div>"
      ],
      "text/plain": [
       "                         Original Data                                \\\n",
       "                                  Time  Accuracy    Recall Precision   \n",
       "Logistic-Regression           0.193910  0.803953  0.162634  0.726131   \n",
       "Naive Bayes                   0.015136  0.813160  0.293754  0.661597   \n",
       "Support Vector               16.870619  0.804076  0.120428  0.866397   \n",
       "Decision-Tree                 0.169822  0.889148  0.774902  0.732447   \n",
       "Random-Forest-Classifier      2.441980  0.934692  0.723129  0.969811   \n",
       "Ada-Boost-Classifier          0.990757  0.884974  0.656162  0.781501   \n",
       "XGBoost-Classifier            1.228557  0.936533  0.748452  0.950000   \n",
       "LightGBM-Classifier           0.191202  0.937147  0.725943  0.980989   \n",
       "\n",
       "                                    Pca Data                                \\\n",
       "                          F1-Score      Time  Accuracy    Recall Precision   \n",
       "Logistic-Regression       0.265747  0.151895  0.822367  0.330332  0.695498   \n",
       "Naive Bayes               0.406859  0.009065  0.802111  0.245357  0.616690   \n",
       "Support Vector            0.753076  9.398021  0.816229  0.223410  0.772374   \n",
       "Decision-Tree             0.753076  0.244117  0.808249  0.579629  0.558266   \n",
       "Random-Forest-Classifier  0.828498  5.367084  0.865824  0.576252  0.750733   \n",
       "Ada-Boost-Classifier      0.713368  1.219690  0.829241  0.420371  0.674188   \n",
       "XGBoost-Classifier        0.837268  1.657057  0.866069  0.587507  0.744650   \n",
       "LightGBM-Classifier       0.834411  0.149707  0.864228  0.585819  0.737775   \n",
       "\n",
       "                                    \n",
       "                          F1-Score  \n",
       "Logistic-Regression       0.447921  \n",
       "Naive Bayes               0.351047  \n",
       "Support Vector            0.346574  \n",
       "Decision-Tree             0.568747  \n",
       "Random-Forest-Classifier  0.652022  \n",
       "Ada-Boost-Classifier      0.517851  \n",
       "XGBoost-Classifier        0.656810  \n",
       "LightGBM-Classifier       0.653074  "
      ]
     },
     "execution_count": 65,
     "metadata": {},
     "output_type": "execute_result"
    }
   ],
   "source": [
    "final_table"
   ]
  },
  {
   "cell_type": "code",
   "execution_count": 66,
   "metadata": {},
   "outputs": [],
   "source": [
    "def plot(values_org,values_pca,index,cName):\n",
    "    plt.title(cName)\n",
    "    plt.plot(index,values_org,\"*--r\",label=\"Org Data\")\n",
    "    plt.plot(index,values_pca,\"*-b\",label=\"Pca Data\")\n",
    "    plt.legend()\n",
    "    plt.xticks(rotation=70)\n",
    "    plt.show()"
   ]
  },
  {
   "cell_type": "code",
   "execution_count": 67,
   "metadata": {},
   "outputs": [
    {
     "data": {
      "text/plain": [
       "Logistic-Regression          0.193910\n",
       "Naive Bayes                  0.015136\n",
       "Support Vector              16.870619\n",
       "Decision-Tree                0.169822\n",
       "Random-Forest-Classifier     2.441980\n",
       "Ada-Boost-Classifier         0.990757\n",
       "XGBoost-Classifier           1.228557\n",
       "LightGBM-Classifier          0.191202\n",
       "Name: Time, dtype: float64"
      ]
     },
     "execution_count": 67,
     "metadata": {},
     "output_type": "execute_result"
    }
   ],
   "source": [
    "final_table[\"Original Data\"][\"Time\"]"
   ]
  },
  {
   "cell_type": "code",
   "execution_count": 68,
   "metadata": {},
   "outputs": [
    {
     "data": {
      "image/png": "[encoded data removed]",
      "text/plain": [
       "<Figure size 432x288 with 1 Axes>"
      ]
     },
     "metadata": {
      "needs_background": "light"
     },
     "output_type": "display_data"
    }
   ],
   "source": [
    "plot(final_table[\"Original Data\"][\"Time\"],final_table[\"Pca Data\"][\"Time\"],final_table.index,\"Time\")"
   ]
  },
  {
   "cell_type": "code",
   "execution_count": 69,
   "metadata": {},
   "outputs": [
    {
     "data": {
      "image/png": "[encoded data removed]",
      "text/plain": [
       "<Figure size 432x288 with 1 Axes>"
      ]
     },
     "metadata": {
      "needs_background": "light"
     },
     "output_type": "display_data"
    }
   ],
   "source": [
    "plot(final_table[\"Original Data\"][\"Accuracy\"],final_table[\"Pca Data\"][\"Accuracy\"],final_table.index,\"Accuracy\")"
   ]
  },
  {
   "cell_type": "code",
   "execution_count": 70,
   "metadata": {},
   "outputs": [
    {
     "data": {
      "image/png": "[encoded data removed]",
      "text/plain": [
       "<Figure size 432x288 with 1 Axes>"
      ]
     },
     "metadata": {
      "needs_background": "light"
     },
     "output_type": "display_data"
    }
   ],
   "source": [
    "plot(final_table[\"Original Data\"][\"Recall\"],final_table[\"Pca Data\"][\"Recall\"],final_table.index,\"Recall\")"
   ]
  },
  {
   "cell_type": "code",
   "execution_count": 71,
   "metadata": {},
   "outputs": [
    {
     "data": {
      "image/png": "[encoded data removed]",
      "text/plain": [
       "<Figure size 432x288 with 1 Axes>"
      ]
     },
     "metadata": {
      "needs_background": "light"
     },
     "output_type": "display_data"
    }
   ],
   "source": [
    "plot(final_table[\"Original Data\"][\"Precision\"],final_table[\"Pca Data\"][\"Precision\"],final_table.index,\"Precision\")"
   ]
  },
  {
   "cell_type": "code",
   "execution_count": 72,
   "metadata": {},
   "outputs": [
    {
     "data": {
      "image/png": "[encoded data removed]",
      "text/plain": [
       "<Figure size 432x288 with 1 Axes>"
      ]
     },
     "metadata": {
      "needs_background": "light"
     },
     "output_type": "display_data"
    }
   ],
   "source": [
    "plot(final_table[\"Original Data\"][\"F1-Score\"],final_table[\"Pca Data\"][\"F1-Score\"],final_table.index,\"F1-Score\")"
   ]
  },
  {
   "cell_type": "markdown",
   "metadata": {},
   "source": [
    "### Thank You"
   ]
  }
 ],
 "metadata": {
  "colab": {
   "collapsed_sections": [
    "Y0z_H_Bx8wjE",
    "Dmu376bO8wjl",
    "dN2pXiyY8wjs",
    "vfcH9ghD8wjz",
    "11DvTw1g8wkS",
    "xRYbiY9u8wkb",
    "cutVSWOw8wkj"
   ],
   "name": "kidney_disease.ipynb",
   "provenance": [],
   "toc_visible": true
  },
  "kernelspec": {
   "display_name": "Python 3",
   "language": "python",
   "name": "python3"
  },
  "language_info": {
   "codemirror_mode": {
    "name": "ipython",
    "version": 3
   },
   "file_extension": ".py",
   "mimetype": "text/x-python",
   "name": "python",
   "nbconvert_exporter": "python",
   "pygments_lexer": "ipython3",
   "version": "3.7.4"
  },
  "widgets": {
   "application/vnd.jupyter.widget-state+json": {
    "4ae31612bd99465c895cd8d551410290": {
     "model_module": "@jupyter-widgets/base",
     "model_name": "DOMWidgetModel",
     "state": {
      "_dom_classes": [],
      "_model_module": "@jupyter-widgets/base",
      "_model_module_version": "1.2.0",
      "_model_name": "DOMWidgetModel",
      "_view_count": null,
      "_view_module": "catboost_module",
      "_view_module_version": "",
      "_view_name": "CatboostIpythonWidgetView",
      "data": {
       "catboost_info": {
        "content": {
         "data": {
          "iterations": [
           {
            "iteration": 0,
            "learn": [
             0.6815704347
            ],
            "passed_time": 0.003815832851,
            "remaining_time": 3.812017018
           },
           {
            "iteration": 1,
            "learn": [
             0.6710967933
            ],
            "passed_time": 0.0074551714,
            "remaining_time": 3.720130529
           },
           {
            "iteration": 2,
            "learn": [
             0.6598355494
            ],
            "passed_time": 0.0103515802,
            "remaining_time": 3.440175153
           },
           {
            "iteration": 3,
            "learn": [
             0.651574253
            ],
            "passed_time": 0.01318126087,
            "remaining_time": 3.282133956
           },
           {
            "iteration": 4,
            "learn": [
             0.6420312728
            ],
            "passed_time": 0.01628392365,
            "remaining_time": 3.240500807
           },
           {
            "iteration": 5,
            "learn": [
             0.633173627
            ],
            "passed_time": 0.01939958431,
            "remaining_time": 3.213864468
           },
           {
            "iteration": 6,
            "learn": [
             0.621229077
            ],
            "passed_time": 0.02176869266,
            "remaining_time": 3.088044544
           },
           {
            "iteration": 7,
            "learn": [
             0.6139497418
            ],
            "passed_time": 0.0246619762,
            "remaining_time": 3.058085049
           },
           {
            "iteration": 8,
            "learn": [
             0.6033757012
            ],
            "passed_time": 0.02750726586,
            "remaining_time": 3.028855608
           },
           {
            "iteration": 9,
            "learn": [
             0.5964998567
            ],
            "passed_time": 0.03044131998,
            "remaining_time": 3.013690678
           },
           {
            "iteration": 10,
            "learn": [
             0.5859169483
            ],
            "passed_time": 0.03362507843,
            "remaining_time": 3.023200234
           },
           {
            "iteration": 11,
            "learn": [
             0.5770247176
            ],
            "passed_time": 0.03771431117,
            "remaining_time": 3.105144953
           },
           {
            "iteration": 12,
            "learn": [
             0.5697422404
            ],
            "passed_time": 0.04042585135,
            "remaining_time": 3.069255022
           },
           {
            "iteration": 13,
            "learn": [
             0.5621977359
            ],
            "passed_time": 0.04317376221,
            "remaining_time": 3.040666395
           },
           {
            "iteration": 14,
            "learn": [
             0.5525734333
            ],
            "passed_time": 0.04639809849,
            "remaining_time": 3.046808468
           },
           {
            "iteration": 15,
            "learn": [
             0.5437583298
            ],
            "passed_time": 0.04951015795,
            "remaining_time": 3.044874714
           },
           {
            "iteration": 16,
            "learn": [
             0.5370296475
            ],
            "passed_time": 0.05236421377,
            "remaining_time": 3.027883655
           },
           {
            "iteration": 17,
            "learn": [
             0.5291610625
            ],
            "passed_time": 0.05507995793,
            "remaining_time": 3.004917705
           },
           {
            "iteration": 18,
            "learn": [
             0.521048326
            ],
            "passed_time": 0.05809563321,
            "remaining_time": 2.999569273
           },
           {
            "iteration": 19,
            "learn": [
             0.5122061841
            ],
            "passed_time": 0.06126501368,
            "remaining_time": 3.00198567
           },
           {
            "iteration": 20,
            "learn": [
             0.5059631663
            ],
            "passed_time": 0.07090437844,
            "remaining_time": 3.305494595
           },
           {
            "iteration": 21,
            "learn": [
             0.5001973457
            ],
            "passed_time": 0.07410588378,
            "remaining_time": 3.294343379
           },
           {
            "iteration": 22,
            "learn": [
             0.493986164
            ],
            "passed_time": 0.07595154334,
            "remaining_time": 3.226289472
           },
           {
            "iteration": 23,
            "learn": [
             0.4880535692
            ],
            "passed_time": 0.07864461158,
            "remaining_time": 3.198214204
           },
           {
            "iteration": 24,
            "learn": [
             0.4804587303
            ],
            "passed_time": 0.08201216901,
            "remaining_time": 3.198474591
           },
           {
            "iteration": 25,
            "learn": [
             0.4744866651
            ],
            "passed_time": 0.0850031532,
            "remaining_time": 3.184348893
           },
           {
            "iteration": 26,
            "learn": [
             0.4677469065
            ],
            "passed_time": 0.08775332015,
            "remaining_time": 3.162369648
           },
           {
            "iteration": 27,
            "learn": [
             0.4599871172
            ],
            "passed_time": 0.09038677764,
            "remaining_time": 3.137712424
           },
           {
            "iteration": 28,
            "learn": [
             0.4536180826
            ],
            "passed_time": 0.09309478891,
            "remaining_time": 3.117070346
           },
           {
            "iteration": 29,
            "learn": [
             0.4476282605
            ],
            "passed_time": 0.09590277918,
            "remaining_time": 3.100856527
           },
           {
            "iteration": 30,
            "learn": [
             0.4416024423
            ],
            "passed_time": 0.09855672378,
            "remaining_time": 3.080692431
           },
           {
            "iteration": 31,
            "learn": [
             0.4353131712
            ],
            "passed_time": 0.1013238607,
            "remaining_time": 3.065046788
           },
           {
            "iteration": 32,
            "learn": [
             0.4287818736
            ],
            "passed_time": 0.1041971695,
            "remaining_time": 3.053292815
           },
           {
            "iteration": 33,
            "learn": [
             0.4235571577
            ],
            "passed_time": 0.1067366053,
            "remaining_time": 3.032575315
           },
           {
            "iteration": 34,
            "learn": [
             0.4173491804
            ],
            "passed_time": 0.1098529846,
            "remaining_time": 3.028803719
           },
           {
            "iteration": 35,
            "learn": [
             0.4114637213
            ],
            "passed_time": 0.1133134019,
            "remaining_time": 3.034281094
           },
           {
            "iteration": 36,
            "learn": [
             0.404971666
            ],
            "passed_time": 0.1161596207,
            "remaining_time": 3.023289587
           },
           {
            "iteration": 37,
            "learn": [
             0.399880336
            ],
            "passed_time": 0.1190463382,
            "remaining_time": 3.013752037
           },
           {
            "iteration": 38,
            "learn": [
             0.3953187222
            ],
            "passed_time": 0.1221119485,
            "remaining_time": 3.008963654
           },
           {
            "iteration": 39,
            "learn": [
             0.3890895814
            ],
            "passed_time": 0.1253440609,
            "remaining_time": 3.00825746
           },
           {
            "iteration": 40,
            "learn": [
             0.3847754158
            ],
            "passed_time": 0.1283096462,
            "remaining_time": 3.001193919
           },
           {
            "iteration": 41,
            "learn": [
             0.3801282037
            ],
            "passed_time": 0.1312684732,
            "remaining_time": 2.994171365
           },
           {
            "iteration": 42,
            "learn": [
             0.3761261063
            ],
            "passed_time": 0.1340699684,
            "remaining_time": 2.983836274
           },
           {
            "iteration": 43,
            "learn": [
             0.3721527371
            ],
            "passed_time": 0.1365221167,
            "remaining_time": 2.966253262
           },
           {
            "iteration": 44,
            "learn": [
             0.3673389046
            ],
            "passed_time": 0.1403428735,
            "remaining_time": 2.97838765
           },
           {
            "iteration": 45,
            "learn": [
             0.3629952838
            ],
            "passed_time": 0.1434232677,
            "remaining_time": 2.974473856
           },
           {
            "iteration": 46,
            "learn": [
             0.3575322973
            ],
            "passed_time": 0.1465045738,
            "remaining_time": 2.970614017
           },
           {
            "iteration": 47,
            "learn": [
             0.3527163365
            ],
            "passed_time": 0.1498390994,
            "remaining_time": 2.971808805
           },
           {
            "iteration": 48,
            "learn": [
             0.3475427854
            ],
            "passed_time": 0.1529437933,
            "remaining_time": 2.968358111
           },
           {
            "iteration": 49,
            "learn": [
             0.3423893483
            ],
            "passed_time": 0.1584456055,
            "remaining_time": 3.010466504
           },
           {
            "iteration": 50,
            "learn": [
             0.3380959979
            ],
            "passed_time": 0.16140651,
            "remaining_time": 3.003427019
           },
           {
            "iteration": 51,
            "learn": [
             0.3339447076
            ],
            "passed_time": 0.1698545132,
            "remaining_time": 3.096578433
           },
           {
            "iteration": 52,
            "learn": [
             0.3297557943
            ],
            "passed_time": 0.1720563957,
            "remaining_time": 3.074290693
           },
           {
            "iteration": 53,
            "learn": [
             0.3257601174
            ],
            "passed_time": 0.1742997125,
            "remaining_time": 3.053472741
           },
           {
            "iteration": 54,
            "learn": [
             0.3218774035
            ],
            "passed_time": 0.1763407484,
            "remaining_time": 3.029854676
           },
           {
            "iteration": 55,
            "learn": [
             0.3172134717
            ],
            "passed_time": 0.1794650056,
            "remaining_time": 3.025267237
           },
           {
            "iteration": 56,
            "learn": [
             0.3123909839
            ],
            "passed_time": 0.1831025049,
            "remaining_time": 3.029222143
           },
           {
            "iteration": 57,
            "learn": [
             0.3079361447
            ],
            "passed_time": 0.185855048,
            "remaining_time": 3.018542331
           },
           {
            "iteration": 58,
            "learn": [
             0.3055906947
            ],
            "passed_time": 0.1878901293,
            "remaining_time": 2.996688333
           },
           {
            "iteration": 59,
            "learn": [
             0.3016177318
            ],
            "passed_time": 0.1898857287,
            "remaining_time": 2.974876416
           },
           {
            "iteration": 60,
            "learn": [
             0.2969475474
            ],
            "passed_time": 0.1918291603,
            "remaining_time": 2.952911172
           },
           {
            "iteration": 61,
            "learn": [
             0.2934292155
            ],
            "passed_time": 0.1938660912,
            "remaining_time": 2.933006348
           },
           {
            "iteration": 62,
            "learn": [
             0.2901206899
            ],
            "passed_time": 0.1958452566,
            "remaining_time": 2.91280961
           },
           {
            "iteration": 63,
            "learn": [
             0.2864882734
            ],
            "passed_time": 0.1976940733,
            "remaining_time": 2.891275821
           },
           {
            "iteration": 64,
            "learn": [
             0.2834577503
            ],
            "passed_time": 0.1995873144,
            "remaining_time": 2.870986753
           },
           {
            "iteration": 65,
            "learn": [
             0.2803650159
            ],
            "passed_time": 0.2015149374,
            "remaining_time": 2.85174169
           },
           {
            "iteration": 66,
            "learn": [
             0.2767579403
            ],
            "passed_time": 0.2034442815,
            "remaining_time": 2.833037532
           },
           {
            "iteration": 67,
            "learn": [
             0.2740595738
            ],
            "passed_time": 0.2053847937,
            "remaining_time": 2.81497982
           },
           {
            "iteration": 68,
            "learn": [
             0.2702651434
            ],
            "passed_time": 0.2073028383,
            "remaining_time": 2.797086122
           },
           {
            "iteration": 69,
            "learn": [
             0.2670217385
            ],
            "passed_time": 0.2092336847,
            "remaining_time": 2.779818954
           },
           {
            "iteration": 70,
            "learn": [
             0.2637279554
            ],
            "passed_time": 0.2111083444,
            "remaining_time": 2.762248619
           },
           {
            "iteration": 71,
            "learn": [
             0.261044913
            ],
            "passed_time": 0.2130330831,
            "remaining_time": 2.745759737
           },
           {
            "iteration": 72,
            "learn": [
             0.2582676956
            ],
            "passed_time": 0.2150018944,
            "remaining_time": 2.730229536
           },
           {
            "iteration": 73,
            "learn": [
             0.2548592505
            ],
            "passed_time": 0.2159943058,
            "remaining_time": 2.702847664
           },
           {
            "iteration": 74,
            "learn": [
             0.2524133402
            ],
            "passed_time": 0.2178356854,
            "remaining_time": 2.68664012
           },
           {
            "iteration": 75,
            "learn": [
             0.2493828098
            ],
            "passed_time": 0.2198531535,
            "remaining_time": 2.672951497
           },
           {
            "iteration": 76,
            "learn": [
             0.246917015
            ],
            "passed_time": 0.2211499072,
            "remaining_time": 2.650926809
           },
           {
            "iteration": 77,
            "learn": [
             0.2437757206
            ],
            "passed_time": 0.2230951557,
            "remaining_time": 2.637099148
           },
           {
            "iteration": 78,
            "learn": [
             0.2413741162
            ],
            "passed_time": 0.2250243411,
            "remaining_time": 2.62338504
           },
           {
            "iteration": 79,
            "learn": [
             0.2384195536
            ],
            "passed_time": 0.2269208185,
            "remaining_time": 2.609589412
           },
           {
            "iteration": 80,
            "learn": [
             0.2352379896
            ],
            "passed_time": 0.228837977,
            "remaining_time": 2.596322233
           },
           {
            "iteration": 81,
            "learn": [
             0.2317690806
            ],
            "passed_time": 0.2307717892,
            "remaining_time": 2.583518322
           },
           {
            "iteration": 82,
            "learn": [
             0.2296271247
            ],
            "passed_time": 0.2326662404,
            "remaining_time": 2.570541475
           },
           {
            "iteration": 83,
            "learn": [
             0.2272401285
            ],
            "passed_time": 0.2345926238,
            "remaining_time": 2.558176707
           },
           {
            "iteration": 84,
            "learn": [
             0.2240825807
            ],
            "passed_time": 0.2365242903,
            "remaining_time": 2.546114419
           },
           {
            "iteration": 85,
            "learn": [
             0.2216192888
            ],
            "passed_time": 0.2384657958,
            "remaining_time": 2.534392295
           },
           {
            "iteration": 86,
            "learn": [
             0.2189860933
            ],
            "passed_time": 0.2404166994,
            "remaining_time": 2.522993638
           },
           {
            "iteration": 87,
            "learn": [
             0.2161046011
            ],
            "passed_time": 0.2425076993,
            "remaining_time": 2.51326161
           },
           {
            "iteration": 88,
            "learn": [
             0.2135660459
            ],
            "passed_time": 0.2444385394,
            "remaining_time": 2.502061903
           },
           {
            "iteration": 89,
            "learn": [
             0.2114419519
            ],
            "passed_time": 0.2463747717,
            "remaining_time": 2.491122692
           },
           {
            "iteration": 90,
            "learn": [
             0.208931272
            ],
            "passed_time": 0.2482219532,
            "remaining_time": 2.479491818
           },
           {
            "iteration": 91,
            "learn": [
             0.2066638714
            ],
            "passed_time": 0.2501130956,
            "remaining_time": 2.468507508
           },
           {
            "iteration": 92,
            "learn": [
             0.2047084464
            ],
            "passed_time": 0.2508836685,
            "remaining_time": 2.446790186
           },
           {
            "iteration": 93,
            "learn": [
             0.2023044525
            ],
            "passed_time": 0.2526789903,
            "remaining_time": 2.435395375
           },
           {
            "iteration": 94,
            "learn": [
             0.20000536
            ],
            "passed_time": 0.2545856962,
            "remaining_time": 2.425263737
           },
           {
            "iteration": 95,
            "learn": [
             0.1983875858
            ],
            "passed_time": 0.2565027897,
            "remaining_time": 2.41540127
           },
           {
            "iteration": 96,
            "learn": [
             0.19607798
            ],
            "passed_time": 0.2584136682,
            "remaining_time": 2.405644767
           },
           {
            "iteration": 97,
            "learn": [
             0.1940627258
            ],
            "passed_time": 0.2603566234,
            "remaining_time": 2.396343615
           },
           {
            "iteration": 98,
            "learn": [
             0.1915295519
            ],
            "passed_time": 0.2622664349,
            "remaining_time": 2.386889474
           },
           {
            "iteration": 99,
            "learn": [
             0.189798526
            ],
            "passed_time": 0.2641916573,
            "remaining_time": 2.377724916
           },
           {
            "iteration": 100,
            "learn": [
             0.1876955662
            ],
            "passed_time": 0.2660980754,
            "remaining_time": 2.368536335
           },
           {
            "iteration": 101,
            "learn": [
             0.1857116696
            ],
            "passed_time": 0.2680035808,
            "remaining_time": 2.359482505
           },
           {
            "iteration": 102,
            "learn": [
             0.1840958241
            ],
            "passed_time": 0.2699076514,
            "remaining_time": 2.350554984
           },
           {
            "iteration": 103,
            "learn": [
             0.1822884837
            ],
            "passed_time": 0.2718372091,
            "remaining_time": 2.34198211
           },
           {
            "iteration": 104,
            "learn": [
             0.1806384413
            ],
            "passed_time": 0.2737542013,
            "remaining_time": 2.333428668
           },
           {
            "iteration": 105,
            "learn": [
             0.1788054061
            ],
            "passed_time": 0.2747661474,
            "remaining_time": 2.317367319
           },
           {
            "iteration": 106,
            "learn": [
             0.1771248087
            ],
            "passed_time": 0.2768113263,
            "remaining_time": 2.310210415
           },
           {
            "iteration": 107,
            "learn": [
             0.1754189825
            ],
            "passed_time": 0.2786434471,
            "remaining_time": 2.30138847
           },
           {
            "iteration": 108,
            "learn": [
             0.1734752719
            ],
            "passed_time": 0.2804431588,
            "remaining_time": 2.292429858
           },
           {
            "iteration": 109,
            "learn": [
             0.1713826825
            ],
            "passed_time": 0.2823839111,
            "remaining_time": 2.284742553
           },
           {
            "iteration": 110,
            "learn": [
             0.1699108152
            ],
            "passed_time": 0.2843036562,
            "remaining_time": 2.276990544
           },
           {
            "iteration": 111,
            "learn": [
             0.1686489904
            ],
            "passed_time": 0.2862640341,
            "remaining_time": 2.269664842
           },
           {
            "iteration": 112,
            "learn": [
             0.167115062
            ],
            "passed_time": 0.2881170416,
            "remaining_time": 2.261591291
           },
           {
            "iteration": 113,
            "learn": [
             0.1648856683
            ],
            "passed_time": 0.2908552489,
            "remaining_time": 2.260506584
           },
           {
            "iteration": 114,
            "learn": [
             0.1633873149
            ],
            "passed_time": 0.2936983543,
            "remaining_time": 2.260200379
           },
           {
            "iteration": 115,
            "learn": [
             0.162104011
            ],
            "passed_time": 0.2965993176,
            "remaining_time": 2.260291351
           },
           {
            "iteration": 116,
            "learn": [
             0.1603673136
            ],
            "passed_time": 0.2997798044,
            "remaining_time": 2.262440746
           },
           {
            "iteration": 117,
            "learn": [
             0.1588801877
            ],
            "passed_time": 0.3026777401,
            "remaining_time": 2.262387854
           },
           {
            "iteration": 118,
            "learn": [
             0.1576847845
            ],
            "passed_time": 0.3045949377,
            "remaining_time": 2.255026388
           },
           {
            "iteration": 119,
            "learn": [
             0.1559201341
            ],
            "passed_time": 0.3064670804,
            "remaining_time": 2.247425256
           },
           {
            "iteration": 120,
            "learn": [
             0.1544062353
            ],
            "passed_time": 0.3084642427,
            "remaining_time": 2.240827019
           },
           {
            "iteration": 121,
            "learn": [
             0.1529987806
            ],
            "passed_time": 0.3103592708,
            "remaining_time": 2.233569178
           },
           {
            "iteration": 122,
            "learn": [
             0.1516693504
            ],
            "passed_time": 0.3122458891,
            "remaining_time": 2.226338575
           },
           {
            "iteration": 123,
            "learn": [
             0.1504421587
            ],
            "passed_time": 0.3141678385,
            "remaining_time": 2.219443762
           },
           {
            "iteration": 124,
            "learn": [
             0.1489303441
            ],
            "passed_time": 0.3161030376,
            "remaining_time": 2.212721263
           },
           {
            "iteration": 125,
            "learn": [
             0.1478619037
            ],
            "passed_time": 0.3180030734,
            "remaining_time": 2.205830842
           },
           {
            "iteration": 126,
            "learn": [
             0.1462200111
            ],
            "passed_time": 0.3199221357,
            "remaining_time": 2.199149799
           },
           {
            "iteration": 127,
            "learn": [
             0.1451228179
            ],
            "passed_time": 0.3217935437,
            "remaining_time": 2.192218516
           },
           {
            "iteration": 128,
            "learn": [
             0.1440731236
            ],
            "passed_time": 0.3237264549,
            "remaining_time": 2.185780947
           },
           {
            "iteration": 129,
            "learn": [
             0.1427820444
            ],
            "passed_time": 0.3256057276,
            "remaining_time": 2.179053716
           },
           {
            "iteration": 130,
            "learn": [
             0.1412374591
            ],
            "passed_time": 0.327529068,
            "remaining_time": 2.172692825
           },
           {
            "iteration": 131,
            "learn": [
             0.139737672
            ],
            "passed_time": 0.3293699658,
            "remaining_time": 2.165857048
           },
           {
            "iteration": 132,
            "learn": [
             0.1382876646
            ],
            "passed_time": 0.3312791296,
            "remaining_time": 2.159541394
           },
           {
            "iteration": 133,
            "learn": [
             0.1370821061
            ],
            "passed_time": 0.3331167563,
            "remaining_time": 2.152829186
           },
           {
            "iteration": 134,
            "learn": [
             0.1359896624
            ],
            "passed_time": 0.3350044502,
            "remaining_time": 2.146509995
           },
           {
            "iteration": 135,
            "learn": [
             0.1348470928
            ],
            "passed_time": 0.3369231593,
            "remaining_time": 2.140453012
           },
           {
            "iteration": 136,
            "learn": [
             0.1334118187
            ],
            "passed_time": 0.3388991162,
            "remaining_time": 2.134817061
           },
           {
            "iteration": 137,
            "learn": [
             0.1323927132
            ],
            "passed_time": 0.3408160975,
            "remaining_time": 2.128865768
           },
           {
            "iteration": 138,
            "learn": [
             0.1311138261
            ],
            "passed_time": 0.3421526371,
            "remaining_time": 2.119377126
           },
           {
            "iteration": 139,
            "learn": [
             0.1302217968
            ],
            "passed_time": 0.3440028648,
            "remaining_time": 2.113160455
           },
           {
            "iteration": 140,
            "learn": [
             0.1288672911
            ],
            "passed_time": 0.3458822062,
            "remaining_time": 2.107183086
           },
           {
            "iteration": 141,
            "learn": [
             0.1278535333
            ],
            "passed_time": 0.3477809478,
            "remaining_time": 2.101380656
           },
           {
            "iteration": 142,
            "learn": [
             0.1266779984
            ],
            "passed_time": 0.3496360131,
            "remaining_time": 2.095371071
           },
           {
            "iteration": 143,
            "learn": [
             0.1257528735
            ],
            "passed_time": 0.3514829328,
            "remaining_time": 2.089370767
           },
           {
            "iteration": 144,
            "learn": [
             0.1247291377
            ],
            "passed_time": 0.3533579183,
            "remaining_time": 2.083593243
           },
           {
            "iteration": 145,
            "learn": [
             0.1236498462
            ],
            "passed_time": 0.3552198801,
            "remaining_time": 2.077792997
           },
           {
            "iteration": 146,
            "learn": [
             0.122546518
            ],
            "passed_time": 0.3570127727,
            "remaining_time": 2.071645545
           },
           {
            "iteration": 147,
            "learn": [
             0.1217961175
            ],
            "passed_time": 0.3588868723,
            "remaining_time": 2.066024427
           },
           {
            "iteration": 148,
            "learn": [
             0.1206568857
            ],
            "passed_time": 0.3607721701,
            "remaining_time": 2.060517562
           },
           {
            "iteration": 149,
            "learn": [
             0.1198195753
            ],
            "passed_time": 0.3626582138,
            "remaining_time": 2.055063212
           },
           {
            "iteration": 150,
            "learn": [
             0.1187597112
            ],
            "passed_time": 0.3645040797,
            "remaining_time": 2.049430223
           },
           {
            "iteration": 151,
            "learn": [
             0.1176657987
            ],
            "passed_time": 0.3664612588,
            "remaining_time": 2.044468075
           },
           {
            "iteration": 152,
            "learn": [
             0.1168301953
            ],
            "passed_time": 0.3683911702,
            "remaining_time": 2.039394256
           },
           {
            "iteration": 153,
            "learn": [
             0.116057589
            ],
            "passed_time": 0.3773283117,
            "remaining_time": 2.07285553
           },
           {
            "iteration": 154,
            "learn": [
             0.1151718505
            ],
            "passed_time": 0.3794999349,
            "remaining_time": 2.068886742
           },
           {
            "iteration": 155,
            "learn": [
             0.114264699
            ],
            "passed_time": 0.3814339221,
            "remaining_time": 2.063655322
           },
           {
            "iteration": 156,
            "learn": [
             0.1136200165
            ],
            "passed_time": 0.3833714696,
            "remaining_time": 2.058485024
           },
           {
            "iteration": 157,
            "learn": [
             0.1125234823
            ],
            "passed_time": 0.3852917911,
            "remaining_time": 2.053263849
           },
           {
            "iteration": 158,
            "learn": [
             0.111590772
            ],
            "passed_time": 0.3871337349,
            "remaining_time": 2.047669629
           },
           {
            "iteration": 159,
            "learn": [
             0.1107920146
            ],
            "passed_time": 0.3897289816,
            "remaining_time": 2.046077153
           },
           {
            "iteration": 160,
            "learn": [
             0.1099623055
            ],
            "passed_time": 0.3912299273,
            "remaining_time": 2.038769621
           },
           {
            "iteration": 161,
            "learn": [
             0.1089851445
            ],
            "passed_time": 0.3941726307,
            "remaining_time": 2.038991757
           },
           {
            "iteration": 162,
            "learn": [
             0.1079346733
            ],
            "passed_time": 0.3977195977,
            "remaining_time": 2.042277934
           },
           {
            "iteration": 163,
            "learn": [
             0.1071313882
            ],
            "passed_time": 0.4004866528,
            "remaining_time": 2.041505133
           },
           {
            "iteration": 164,
            "learn": [
             0.1062679264
            ],
            "passed_time": 0.4033209593,
            "remaining_time": 2.041048491
           },
           {
            "iteration": 165,
            "learn": [
             0.1055930905
            ],
            "passed_time": 0.4060485345,
            "remaining_time": 2.040026974
           },
           {
            "iteration": 166,
            "learn": [
             0.1047551338
            ],
            "passed_time": 0.4083780173,
            "remaining_time": 2.036999332
           },
           {
            "iteration": 167,
            "learn": [
             0.1038576769
            ],
            "passed_time": 0.4106989959,
            "remaining_time": 2.033937884
           },
           {
            "iteration": 168,
            "learn": [
             0.10320493
            ],
            "passed_time": 0.4163413108,
            "remaining_time": 2.047216741
           },
           {
            "iteration": 169,
            "learn": [
             0.1023426904
            ],
            "passed_time": 0.419068014,
            "remaining_time": 2.046037951
           },
           {
            "iteration": 170,
            "learn": [
             0.1013480217
            ],
            "passed_time": 0.4222874899,
            "remaining_time": 2.047229995
           },
           {
            "iteration": 171,
            "learn": [
             0.1005507931
            ],
            "passed_time": 0.425244545,
            "remaining_time": 2.047107461
           },
           {
            "iteration": 172,
            "learn": [
             0.09967472156
            ],
            "passed_time": 0.4281938785,
            "remaining_time": 2.046915246
           },
           {
            "iteration": 173,
            "learn": [
             0.09894966256
            ],
            "passed_time": 0.4306079119,
            "remaining_time": 2.044150202
           },
           {
            "iteration": 174,
            "learn": [
             0.09812466562
            ],
            "passed_time": 0.4332665337,
            "remaining_time": 2.04254223
           },
           {
            "iteration": 175,
            "learn": [
             0.09729469655
            ],
            "passed_time": 0.4362353811,
            "remaining_time": 2.042374739
           },
           {
            "iteration": 176,
            "learn": [
             0.09663224024
            ],
            "passed_time": 0.4374014533,
            "remaining_time": 2.033793198
           },
           {
            "iteration": 177,
            "learn": [
             0.09583740347
            ],
            "passed_time": 0.4418463481,
            "remaining_time": 2.040436506
           },
           {
            "iteration": 178,
            "learn": [
             0.09510199591
            ],
            "passed_time": 0.4445556703,
            "remaining_time": 2.038995561
           },
           {
            "iteration": 179,
            "learn": [
             0.09431507865
            ],
            "passed_time": 0.4475677294,
            "remaining_time": 2.038919656
           },
           {
            "iteration": 180,
            "learn": [
             0.09373467372
            ],
            "passed_time": 0.4506400225,
            "remaining_time": 2.039083859
           },
           {
            "iteration": 181,
            "learn": [
             0.09310956463
            ],
            "passed_time": 0.4533719638,
            "remaining_time": 2.037682783
           },
           {
            "iteration": 182,
            "learn": [
             0.09245975887
            ],
            "passed_time": 0.4559516129,
            "remaining_time": 2.035587255
           },
           {
            "iteration": 183,
            "learn": [
             0.09171832899
            ],
            "passed_time": 0.4586150224,
            "remaining_time": 2.033857925
           },
           {
            "iteration": 184,
            "learn": [
             0.09119110354
            ],
            "passed_time": 0.4616315545,
            "remaining_time": 2.033674146
           },
           {
            "iteration": 185,
            "learn": [
             0.09048588948
            ],
            "passed_time": 0.4646770031,
            "remaining_time": 2.033586455
           },
           {
            "iteration": 186,
            "learn": [
             0.08973241184
            ],
            "passed_time": 0.4676565428,
            "remaining_time": 2.033180584
           },
           {
            "iteration": 187,
            "learn": [
             0.08913848283
            ],
            "passed_time": 0.4712840672,
            "remaining_time": 2.035546077
           },
           {
            "iteration": 188,
            "learn": [
             0.08840431807
            ],
            "passed_time": 0.4732442465,
            "remaining_time": 2.030693566
           },
           {
            "iteration": 189,
            "learn": [
             0.0878180478
            ],
            "passed_time": 0.4752043358,
            "remaining_time": 2.025871116
           },
           {
            "iteration": 190,
            "learn": [
             0.08722296986
            ],
            "passed_time": 0.4770316925,
            "remaining_time": 2.020516436
           },
           {
            "iteration": 191,
            "learn": [
             0.08676399166
            ],
            "passed_time": 0.4788456663,
            "remaining_time": 2.015142179
           },
           {
            "iteration": 192,
            "learn": [
             0.08610547392
            ],
            "passed_time": 0.4807650259,
            "remaining_time": 2.010245471
           },
           {
            "iteration": 193,
            "learn": [
             0.08555152965
            ],
            "passed_time": 0.4826349302,
            "remaining_time": 2.005173988
           },
           {
            "iteration": 194,
            "learn": [
             0.08492644218
            ],
            "passed_time": 0.484503778,
            "remaining_time": 2.000130981
           },
           {
            "iteration": 195,
            "learn": [
             0.08422985096
            ],
            "passed_time": 0.4862976201,
            "remaining_time": 1.994812687
           },
           {
            "iteration": 196,
            "learn": [
             0.0837001435
            ],
            "passed_time": 0.4881750914,
            "remaining_time": 1.989871058
           },
           {
            "iteration": 197,
            "learn": [
             0.08327404056
            ],
            "passed_time": 0.4900542937,
            "remaining_time": 1.984967391
           },
           {
            "iteration": 198,
            "learn": [
             0.0826263926
            ],
            "passed_time": 0.4919209731,
            "remaining_time": 1.980043716
           },
           {
            "iteration": 199,
            "learn": [
             0.081823201
            ],
            "passed_time": 0.49376161,
            "remaining_time": 1.97504644
           },
           {
            "iteration": 200,
            "learn": [
             0.08128785708
            ],
            "passed_time": 0.4956303164,
            "remaining_time": 1.970192153
           },
           {
            "iteration": 201,
            "learn": [
             0.0806854456
            ],
            "passed_time": 0.4976314245,
            "remaining_time": 1.965890479
           },
           {
            "iteration": 202,
            "learn": [
             0.08009474762
            ],
            "passed_time": 0.4995648162,
            "remaining_time": 1.961345608
           },
           {
            "iteration": 203,
            "learn": [
             0.0796346484
            ],
            "passed_time": 0.5014915796,
            "remaining_time": 1.956800477
           },
           {
            "iteration": 204,
            "learn": [
             0.0789638161
            ],
            "passed_time": 0.5033695231,
            "remaining_time": 1.952091565
           },
           {
            "iteration": 205,
            "learn": [
             0.07839626646
            ],
            "passed_time": 0.5053259094,
            "remaining_time": 1.947712486
           },
           {
            "iteration": 206,
            "learn": [
             0.07785679702
            ],
            "passed_time": 0.5071677209,
            "remaining_time": 1.942917887
           },
           {
            "iteration": 207,
            "learn": [
             0.07741817995
            ],
            "passed_time": 0.5090363237,
            "remaining_time": 1.938253694
           },
           {
            "iteration": 208,
            "learn": [
             0.07697798854
            ],
            "passed_time": 0.5108235003,
            "remaining_time": 1.93330808
           },
           {
            "iteration": 209,
            "learn": [
             0.07649971656
            ],
            "passed_time": 0.5127540999,
            "remaining_time": 1.92893209
           },
           {
            "iteration": 210,
            "learn": [
             0.07600908012
            ],
            "passed_time": 0.5146045749,
            "remaining_time": 1.924279666
           },
           {
            "iteration": 211,
            "learn": [
             0.07549469341
            ],
            "passed_time": 0.5165450812,
            "remaining_time": 1.919988321
           },
           {
            "iteration": 212,
            "learn": [
             0.07501326454
            ],
            "passed_time": 0.5184517176,
            "remaining_time": 1.915593905
           },
           {
            "iteration": 213,
            "learn": [
             0.07436332213
            ],
            "passed_time": 0.5203601172,
            "remaining_time": 1.911229216
           },
           {
            "iteration": 214,
            "learn": [
             0.07391138247
            ],
            "passed_time": 0.5222168249,
            "remaining_time": 1.90669864
           },
           {
            "iteration": 215,
            "learn": [
             0.07332060738
            ],
            "passed_time": 0.5240307524,
            "remaining_time": 1.902037546
           },
           {
            "iteration": 216,
            "learn": [
             0.07290566901
            ],
            "passed_time": 0.5258986978,
            "remaining_time": 1.897597606
           },
           {
            "iteration": 217,
            "learn": [
             0.0723484627
            ],
            "passed_time": 0.5279199548,
            "remaining_time": 1.893731214
           },
           {
            "iteration": 218,
            "learn": [
             0.07184405175
            ],
            "passed_time": 0.529805999,
            "remaining_time": 1.889399476
           },
           {
            "iteration": 219,
            "learn": [
             0.07144803509
            ],
            "passed_time": 0.5317091314,
            "remaining_time": 1.885150557
           },
           {
            "iteration": 220,
            "learn": [
             0.07096844784
            ],
            "passed_time": 0.5335517771,
            "remaining_time": 1.880709658
           },
           {
            "iteration": 221,
            "learn": [
             0.07051411778
            ],
            "passed_time": 0.5355106822,
            "remaining_time": 1.876699598
           },
           {
            "iteration": 222,
            "learn": [
             0.07002789331
            ],
            "passed_time": 0.5373926065,
            "remaining_time": 1.87243971
           },
           {
            "iteration": 223,
            "learn": [
             0.06951950975
            ],
            "passed_time": 0.5392090774,
            "remaining_time": 1.867974304
           },
           {
            "iteration": 224,
            "learn": [
             0.06910985773
            ],
            "passed_time": 0.5411304635,
            "remaining_time": 1.863893819
           },
           {
            "iteration": 225,
            "learn": [
             0.06862331206
            ],
            "passed_time": 0.543017466,
            "remaining_time": 1.859714684
           },
           {
            "iteration": 226,
            "learn": [
             0.06815757422
            ],
            "passed_time": 0.5449418865,
            "remaining_time": 1.855683164
           },
           {
            "iteration": 227,
            "learn": [
             0.06756096133
            ],
            "passed_time": 0.5468654701,
            "remaining_time": 1.851667293
           },
           {
            "iteration": 228,
            "learn": [
             0.0671450679
            ],
            "passed_time": 0.5487018698,
            "remaining_time": 1.847376164
           },
           {
            "iteration": 229,
            "learn": [
             0.0667163603
            ],
            "passed_time": 0.5506247883,
            "remaining_time": 1.843396031
           },
           {
            "iteration": 230,
            "learn": [
             0.06628891559
            ],
            "passed_time": 0.5525448757,
            "remaining_time": 1.839424283
           },
           {
            "iteration": 231,
            "learn": [
             0.06591056205
            ],
            "passed_time": 0.5543780902,
            "remaining_time": 1.835182643
           },
           {
            "iteration": 232,
            "learn": [
             0.06557823693
            ],
            "passed_time": 0.5562212568,
            "remaining_time": 1.830994438
           },
           {
            "iteration": 233,
            "learn": [
             0.06519910039
            ],
            "passed_time": 0.5581092285,
            "remaining_time": 1.826972944
           },
           {
            "iteration": 234,
            "learn": [
             0.06480529649
            ],
            "passed_time": 0.5601203974,
            "remaining_time": 1.823370655
           },
           {
            "iteration": 235,
            "learn": [
             0.06444987458
            ],
            "passed_time": 0.561927437,
            "remaining_time": 1.819121025
           },
           {
            "iteration": 236,
            "learn": [
             0.06402121852
            ],
            "passed_time": 0.5638393096,
            "remaining_time": 1.815229507
           },
           {
            "iteration": 237,
            "learn": [
             0.06368733813
            ],
            "passed_time": 0.5657564341,
            "remaining_time": 1.81137144
           },
           {
            "iteration": 238,
            "learn": [
             0.06325767852
            ],
            "passed_time": 0.5724887814,
            "remaining_time": 1.822861769
           },
           {
            "iteration": 239,
            "learn": [
             0.06291876184
            ],
            "passed_time": 0.5745739122,
            "remaining_time": 1.819484055
           },
           {
            "iteration": 240,
            "learn": [
             0.0625736165
            ],
            "passed_time": 0.5764406562,
            "remaining_time": 1.815429287
           },
           {
            "iteration": 241,
            "learn": [
             0.06228460787
            ],
            "passed_time": 0.5783643476,
            "remaining_time": 1.811570973
           },
           {
            "iteration": 242,
            "learn": [
             0.0619569587
            ],
            "passed_time": 0.58026733,
            "remaining_time": 1.807664069
           },
           {
            "iteration": 243,
            "learn": [
             0.06163274872
            ],
            "passed_time": 0.5821916427,
            "remaining_time": 1.80383968
           },
           {
            "iteration": 244,
            "learn": [
             0.06131400241
            ],
            "passed_time": 0.5841589367,
            "remaining_time": 1.800163254
           },
           {
            "iteration": 245,
            "learn": [
             0.06103535902
            ],
            "passed_time": 0.5860344441,
            "remaining_time": 1.796219394
           },
           {
            "iteration": 246,
            "learn": [
             0.06075062012
            ],
            "passed_time": 0.5878821488,
            "remaining_time": 1.792207523
           },
           {
            "iteration": 247,
            "learn": [
             0.06044079575
            ],
            "passed_time": 0.5896771993,
            "remaining_time": 1.788053443
           },
           {
            "iteration": 248,
            "learn": [
             0.06007250048
            ],
            "passed_time": 0.5922459643,
            "remaining_time": 1.786251884
           },
           {
            "iteration": 249,
            "learn": [
             0.05979076268
            ],
            "passed_time": 0.5941356119,
            "remaining_time": 1.782406836
           },
           {
            "iteration": 250,
            "learn": [
             0.05928469493
            ],
            "passed_time": 0.5960760396,
            "remaining_time": 1.778728899
           },
           {
            "iteration": 251,
            "learn": [
             0.05882255519
            ],
            "passed_time": 0.5980018039,
            "remaining_time": 1.775021227
           },
           {
            "iteration": 252,
            "learn": [
             0.0584269364
            ],
            "passed_time": 0.5998925912,
            "remaining_time": 1.77122437
           },
           {
            "iteration": 253,
            "learn": [
             0.05804926541
            ],
            "passed_time": 0.6017173259,
            "remaining_time": 1.767248524
           },
           {
            "iteration": 254,
            "learn": [
             0.05774860979
            ],
            "passed_time": 0.6035943912,
            "remaining_time": 1.763442437
           },
           {
            "iteration": 255,
            "learn": [
             0.05750212062
            ],
            "passed_time": 0.6055397433,
            "remaining_time": 1.759849879
           },
           {
            "iteration": 256,
            "learn": [
             0.05718885551
            ],
            "passed_time": 0.6074209981,
            "remaining_time": 1.756084831
           },
           {
            "iteration": 257,
            "learn": [
             0.05685112662
            ],
            "passed_time": 0.608382146,
            "remaining_time": 1.749688187
           },
           {
            "iteration": 258,
            "learn": [
             0.05640027217
            ],
            "passed_time": 0.6103315589,
            "remaining_time": 1.746160947
           },
           {
            "iteration": 259,
            "learn": [
             0.05608004176
            ],
            "passed_time": 0.6121963146,
            "remaining_time": 1.742404895
           },
           {
            "iteration": 260,
            "learn": [
             0.05582293351
            ],
            "passed_time": 0.614044873,
            "remaining_time": 1.738617476
           },
           {
            "iteration": 261,
            "learn": [
             0.05535689829
            ],
            "passed_time": 0.6158954716,
            "remaining_time": 1.734850603
           },
           {
            "iteration": 262,
            "learn": [
             0.05489135125
            ],
            "passed_time": 0.6177691712,
            "remaining_time": 1.731163039
           },
           {
            "iteration": 263,
            "learn": [
             0.05458907839
            ],
            "passed_time": 0.6196513805,
            "remaining_time": 1.72751294
           },
           {
            "iteration": 264,
            "learn": [
             0.0543024614
            ],
            "passed_time": 0.6217148,
            "remaining_time": 1.724378785
           },
           {
            "iteration": 265,
            "learn": [
             0.05396710759
            ],
            "passed_time": 0.6236341283,
            "remaining_time": 1.720855076
           },
           {
            "iteration": 266,
            "learn": [
             0.05373902561
            ],
            "passed_time": 0.6255519628,
            "remaining_time": 1.717339284
           },
           {
            "iteration": 267,
            "learn": [
             0.05346748746
            ],
            "passed_time": 0.6274191432,
            "remaining_time": 1.713697063
           },
           {
            "iteration": 268,
            "learn": [
             0.05316216769
            ],
            "passed_time": 0.6292920167,
            "remaining_time": 1.71008351
           },
           {
            "iteration": 269,
            "learn": [
             0.05296486992
            ],
            "passed_time": 0.6311918812,
            "remaining_time": 1.706555827
           },
           {
            "iteration": 270,
            "learn": [
             0.05269815598
            ],
            "passed_time": 0.6331321725,
            "remaining_time": 1.703148907
           },
           {
            "iteration": 271,
            "learn": [
             0.05240661888
            ],
            "passed_time": 0.6349860072,
            "remaining_time": 1.699521372
           },
           {
            "iteration": 272,
            "learn": [
             0.05216092994
            ],
            "passed_time": 0.6368355498,
            "remaining_time": 1.695895402
           },
           {
            "iteration": 273,
            "learn": [
             0.05191706287
            ],
            "passed_time": 0.6387257112,
            "remaining_time": 1.692390023
           },
           {
            "iteration": 274,
            "learn": [
             0.05163231373
            ],
            "passed_time": 0.6406550516,
            "remaining_time": 1.688999682
           },
           {
            "iteration": 275,
            "learn": [
             0.05140185776
            ],
            "passed_time": 0.6426099091,
            "remaining_time": 1.685686863
           },
           {
            "iteration": 276,
            "learn": [
             0.05100529456
            ],
            "passed_time": 0.6445494113,
            "remaining_time": 1.68234377
           },
           {
            "iteration": 277,
            "learn": [
             0.05071872783
            ],
            "passed_time": 0.6464802159,
            "remaining_time": 1.678988187
           },
           {
            "iteration": 278,
            "learn": [
             0.05043714613
            ],
            "passed_time": 0.6483822583,
            "remaining_time": 1.675568488
           },
           {
            "iteration": 279,
            "learn": [
             0.05020931227
            ],
            "passed_time": 0.6503123624,
            "remaining_time": 1.672231789
           },
           {
            "iteration": 280,
            "learn": [
             0.04999801711
            ],
            "passed_time": 0.6521666649,
            "remaining_time": 1.668711146
           },
           {
            "iteration": 281,
            "learn": [
             0.04977932841
            ],
            "passed_time": 0.6540625263,
            "remaining_time": 1.665308134
           },
           {
            "iteration": 282,
            "learn": [
             0.04950026425
            ],
            "passed_time": 0.655958819,
            "remaining_time": 1.661916867
           },
           {
            "iteration": 283,
            "learn": [
             0.04927186741
            ],
            "passed_time": 0.6578753134,
            "remaining_time": 1.658587058
           },
           {
            "iteration": 284,
            "learn": [
             0.04899879745
            ],
            "passed_time": 0.659728129,
            "remaining_time": 1.655107411
           },
           {
            "iteration": 285,
            "learn": [
             0.04868861506
            ],
            "passed_time": 0.6610661697,
            "remaining_time": 1.650354004
           },
           {
            "iteration": 286,
            "learn": [
             0.04848115414
            ],
            "passed_time": 0.6629746603,
            "remaining_time": 1.647041578
           },
           {
            "iteration": 287,
            "learn": [
             0.04816508503
            ],
            "passed_time": 0.6642514156,
            "remaining_time": 1.642177111
           },
           {
            "iteration": 288,
            "learn": [
             0.04798710952
            ],
            "passed_time": 0.6661158171,
            "remaining_time": 1.638783204
           },
           {
            "iteration": 289,
            "learn": [
             0.04775667771
            ],
            "passed_time": 0.6680328911,
            "remaining_time": 1.635528802
           },
           {
            "iteration": 290,
            "learn": [
             0.04749615152
            ],
            "passed_time": 0.6699605264,
            "remaining_time": 1.632309324
           },
           {
            "iteration": 291,
            "learn": [
             0.0472634769
            ],
            "passed_time": 0.6717836132,
            "remaining_time": 1.628845199
           },
           {
            "iteration": 292,
            "learn": [
             0.04700570231
            ],
            "passed_time": 0.6736221272,
            "remaining_time": 1.625429501
           },
           {
            "iteration": 293,
            "learn": [
             0.046734052
            ],
            "passed_time": 0.6755380175,
            "remaining_time": 1.622210341
           },
           {
            "iteration": 294,
            "learn": [
             0.04650672154
            ],
            "passed_time": 0.6774159242,
            "remaining_time": 1.618909243
           },
           {
            "iteration": 295,
            "learn": [
             0.04624398917
            ],
            "passed_time": 0.6793130615,
            "remaining_time": 1.615663498
           },
           {
            "iteration": 296,
            "learn": [
             0.04605534062
            ],
            "passed_time": 0.6811969978,
            "remaining_time": 1.612395587
           },
           {
            "iteration": 297,
            "learn": [
             0.04580660821
            ],
            "passed_time": 0.6830814065,
            "remaining_time": 1.609138078
           },
           {
            "iteration": 298,
            "learn": [
             0.04557743413
            ],
            "passed_time": 0.6849306231,
            "remaining_time": 1.605807247
           },
           {
            "iteration": 299,
            "learn": [
             0.04532804091
            ],
            "passed_time": 0.6858802364,
            "remaining_time": 1.600387218
           },
           {
            "iteration": 300,
            "learn": [
             0.04507299712
            ],
            "passed_time": 0.6877873105,
            "remaining_time": 1.597220366
           },
           {
            "iteration": 301,
            "learn": [
             0.0448636329
            ],
            "passed_time": 0.6896721087,
            "remaining_time": 1.59401037
           },
           {
            "iteration": 302,
            "learn": [
             0.04463146171
            ],
            "passed_time": 0.6915378763,
            "remaining_time": 1.590765346
           },
           {
            "iteration": 303,
            "learn": [
             0.04448561872
            ],
            "passed_time": 0.6934804546,
            "remaining_time": 1.587705251
           },
           {
            "iteration": 304,
            "learn": [
             0.0442285455
            ],
            "passed_time": 0.6953227562,
            "remaining_time": 1.584423985
           },
           {
            "iteration": 305,
            "learn": [
             0.04400699093
            ],
            "passed_time": 0.714129777,
            "remaining_time": 1.619627664
           },
           {
            "iteration": 306,
            "learn": [
             0.04372728708
            ],
            "passed_time": 0.7162825496,
            "remaining_time": 1.616885364
           },
           {
            "iteration": 307,
            "learn": [
             0.04353523935
            ],
            "passed_time": 0.7183060654,
            "remaining_time": 1.613856485
           },
           {
            "iteration": 308,
            "learn": [
             0.04335992074
            ],
            "passed_time": 0.7204404002,
            "remaining_time": 1.611081931
           },
           {
            "iteration": 309,
            "learn": [
             0.04314063485
            ],
            "passed_time": 0.7227974176,
            "remaining_time": 1.608807155
           },
           {
            "iteration": 310,
            "learn": [
             0.04287584344
            ],
            "passed_time": 0.7271859073,
            "remaining_time": 1.611032444
           },
           {
            "iteration": 311,
            "learn": [
             0.04263038004
            ],
            "passed_time": 0.7291245116,
            "remaining_time": 1.607813026
           },
           {
            "iteration": 312,
            "learn": [
             0.04242123546
            ],
            "passed_time": 0.7310656276,
            "remaining_time": 1.604607304
           },
           {
            "iteration": 313,
            "learn": [
             0.04220218973
            ],
            "passed_time": 0.7329539874,
            "remaining_time": 1.60129438
           },
           {
            "iteration": 314,
            "learn": [
             0.04197859733
            ],
            "passed_time": 0.7348768055,
            "remaining_time": 1.598065434
           },
           {
            "iteration": 315,
            "learn": [
             0.04176755484
            ],
            "passed_time": 0.7367734396,
            "remaining_time": 1.594788078
           },
           {
            "iteration": 316,
            "learn": [
             0.04159094921
            ],
            "passed_time": 0.7386947981,
            "remaining_time": 1.591572704
           },
           {
            "iteration": 317,
            "learn": [
             0.04137107903
            ],
            "passed_time": 0.7405633718,
            "remaining_time": 1.588252263
           },
           {
            "iteration": 318,
            "learn": [
             0.04107621131
            ],
            "passed_time": 0.7424884123,
            "remaining_time": 1.58506147
           },
           {
            "iteration": 319,
            "learn": [
             0.04089823916
            ],
            "passed_time": 0.7443463006,
            "remaining_time": 1.581735889
           },
           {
            "iteration": 320,
            "learn": [
             0.04075203838
            ],
            "passed_time": 0.7461555604,
            "remaining_time": 1.57831659
           },
           {
            "iteration": 321,
            "learn": [
             0.04059076689
            ],
            "passed_time": 0.7481611593,
            "remaining_time": 1.575320702
           },
           {
            "iteration": 322,
            "learn": [
             0.04032505994
            ],
            "passed_time": 0.7500658518,
            "remaining_time": 1.572119448
           },
           {
            "iteration": 323,
            "learn": [
             0.04014407929
            ],
            "passed_time": 0.7519397245,
            "remaining_time": 1.568861894
           },
           {
            "iteration": 324,
            "learn": [
             0.04002179112
            ],
            "passed_time": 0.7538962358,
            "remaining_time": 1.56578449
           },
           {
            "iteration": 325,
            "learn": [
             0.0397878801
            ],
            "passed_time": 0.7557635294,
            "remaining_time": 1.562529506
           },
           {
            "iteration": 326,
            "learn": [
             0.03968362152
            ],
            "passed_time": 0.7576965815,
            "remaining_time": 1.559418347
           },
           {
            "iteration": 327,
            "learn": [
             0.0394473559
            ],
            "passed_time": 0.7595433839,
            "remaining_time": 1.556137665
           },
           {
            "iteration": 328,
            "learn": [
             0.03927442648
            ],
            "passed_time": 0.7613979464,
            "remaining_time": 1.552881526
           },
           {
            "iteration": 329,
            "learn": [
             0.039137556
            ],
            "passed_time": 0.7705866711,
            "remaining_time": 1.564524453
           },
           {
            "iteration": 330,
            "learn": [
             0.0389408333
            ],
            "passed_time": 0.7727268477,
            "remaining_time": 1.561795351
           },
           {
            "iteration": 331,
            "learn": [
             0.03875672995
            ],
            "passed_time": 0.774597842,
            "remaining_time": 1.558528188
           },
           {
            "iteration": 332,
            "learn": [
             0.03853469909
            ],
            "passed_time": 0.7765533232,
            "remaining_time": 1.555438638
           },
           {
            "iteration": 333,
            "learn": [
             0.03825874122
            ],
            "passed_time": 0.7784943087,
            "remaining_time": 1.552326975
           },
           {
            "iteration": 334,
            "learn": [
             0.03812379336
            ],
            "passed_time": 0.7804715989,
            "remaining_time": 1.549294368
           },
           {
            "iteration": 335,
            "learn": [
             0.03796000454
            ],
            "passed_time": 0.7824067621,
            "remaining_time": 1.546184792
           },
           {
            "iteration": 336,
            "learn": [
             0.0377026317
            ],
            "passed_time": 0.7842487709,
            "remaining_time": 1.542898917
           },
           {
            "iteration": 337,
            "learn": [
             0.03756029819
            ],
            "passed_time": 0.7861323344,
            "remaining_time": 1.539702975
           },
           {
            "iteration": 338,
            "learn": [
             0.03743193629
            ],
            "passed_time": 0.7879545075,
            "remaining_time": 1.536395072
           },
           {
            "iteration": 339,
            "learn": [
             0.03724185906
            ],
            "passed_time": 0.789868219,
            "remaining_time": 1.533273602
           },
           {
            "iteration": 340,
            "learn": [
             0.03708155192
            ],
            "passed_time": 0.791190593,
            "remaining_time": 1.529016425
           },
           {
            "iteration": 341,
            "learn": [
             0.03695482868
            ],
            "passed_time": 0.7930924612,
            "remaining_time": 1.525891343
           },
           {
            "iteration": 342,
            "learn": [
             0.03677704305
            ],
            "passed_time": 0.7949255156,
            "remaining_time": 1.522641585
           },
           {
            "iteration": 343,
            "learn": [
             0.03662241207
            ],
            "passed_time": 0.7967566235,
            "remaining_time": 1.519396352
           },
           {
            "iteration": 344,
            "learn": [
             0.03650617545
            ],
            "passed_time": 0.7985815832,
            "remaining_time": 1.516147644
           },
           {
            "iteration": 345,
            "learn": [
             0.03637850456
            ],
            "passed_time": 0.8004230647,
            "remaining_time": 1.512938394
           },
           {
            "iteration": 346,
            "learn": [
             0.03620870031
            ],
            "passed_time": 0.8022993195,
            "remaining_time": 1.509802466
           },
           {
            "iteration": 347,
            "learn": [
             0.03606133876
            ],
            "passed_time": 0.8041552622,
            "remaining_time": 1.506635721
           },
           {
            "iteration": 348,
            "learn": [
             0.03591244411
            ],
            "passed_time": 0.8060377256,
            "remaining_time": 1.503525958
           },
           {
            "iteration": 349,
            "learn": [
             0.03580256517
            ],
            "passed_time": 0.8078874723,
            "remaining_time": 1.500362449
           },
           {
            "iteration": 350,
            "learn": [
             0.03562506612
            ],
            "passed_time": 0.8098112687,
            "remaining_time": 1.497343343
           },
           {
            "iteration": 351,
            "learn": [
             0.03548912858
            ],
            "passed_time": 0.8117706966,
            "remaining_time": 1.494396055
           },
           {
            "iteration": 352,
            "learn": [
             0.03536056509
            ],
            "passed_time": 0.8137117439,
            "remaining_time": 1.491420675
           },
           {
            "iteration": 353,
            "learn": [
             0.0351762144
            ],
            "passed_time": 0.8155855566,
            "remaining_time": 1.488328445
           },
           {
            "iteration": 354,
            "learn": [
             0.03504630916
            ],
            "passed_time": 0.8174093103,
            "remaining_time": 1.485152127
           },
           {
            "iteration": 355,
            "learn": [
             0.03488116802
            ],
            "passed_time": 0.8193595343,
            "remaining_time": 1.482212191
           },
           {
            "iteration": 356,
            "learn": [
             0.03470212756
            ],
            "passed_time": 0.8212235298,
            "remaining_time": 1.479122492
           },
           {
            "iteration": 357,
            "learn": [
             0.03454085991
            ],
            "passed_time": 0.8232283178,
            "remaining_time": 1.476292123
           },
           {
            "iteration": 358,
            "learn": [
             0.03442223045
            ],
            "passed_time": 0.8251533951,
            "remaining_time": 1.473324029
           },
           {
            "iteration": 359,
            "learn": [
             0.0342841994
            ],
            "passed_time": 0.8271102555,
            "remaining_time": 1.470418232
           },
           {
            "iteration": 360,
            "learn": [
             0.0341619991
            ],
            "passed_time": 0.8289998723,
            "remaining_time": 1.467398666
           },
           {
            "iteration": 361,
            "learn": [
             0.03401867017
            ],
            "passed_time": 0.8308643797,
            "remaining_time": 1.464341089
           },
           {
            "iteration": 362,
            "learn": [
             0.03390003132
            ],
            "passed_time": 0.8327593869,
            "remaining_time": 1.461343607
           },
           {
            "iteration": 363,
            "learn": [
             0.03378456725
            ],
            "passed_time": 0.834698274,
            "remaining_time": 1.458428852
           },
           {
            "iteration": 364,
            "learn": [
             0.0336500417
            ],
            "passed_time": 0.8365578625,
            "remaining_time": 1.455381487
           },
           {
            "iteration": 365,
            "learn": [
             0.03351169321
            ],
            "passed_time": 0.8384390799,
            "remaining_time": 1.452378078
           },
           {
            "iteration": 366,
            "learn": [
             0.03334985823
            ],
            "passed_time": 0.8403175726,
            "remaining_time": 1.449376086
           },
           {
            "iteration": 367,
            "learn": [
             0.03316980116
            ],
            "passed_time": 0.8422694167,
            "remaining_time": 1.446506172
           },
           {
            "iteration": 368,
            "learn": [
             0.03304409352
            ],
            "passed_time": 0.8442181941,
            "remaining_time": 1.44363599
           },
           {
            "iteration": 369,
            "learn": [
             0.03288659979
            ],
            "passed_time": 0.8460832425,
            "remaining_time": 1.440628224
           },
           {
            "iteration": 370,
            "learn": [
             0.03273947499
            ],
            "passed_time": 0.8479237312,
            "remaining_time": 1.437584978
           },
           {
            "iteration": 371,
            "learn": [
             0.03261490199
            ],
            "passed_time": 0.8498036776,
            "remaining_time": 1.434614811
           },
           {
            "iteration": 372,
            "learn": [
             0.03246843116
            ],
            "passed_time": 0.8516382336,
            "remaining_time": 1.431574189
           },
           {
            "iteration": 373,
            "learn": [
             0.03231146276
            ],
            "passed_time": 0.853487153,
            "remaining_time": 1.428564058
           },
           {
            "iteration": 374,
            "learn": [
             0.03216759082
            ],
            "passed_time": 0.8553330425,
            "remaining_time": 1.425555071
           },
           {
            "iteration": 375,
            "learn": [
             0.03203557305
            ],
            "passed_time": 0.8572096432,
            "remaining_time": 1.422603238
           },
           {
            "iteration": 376,
            "learn": [
             0.03195121564
            ],
            "passed_time": 0.8591019598,
            "remaining_time": 1.419683079
           },
           {
            "iteration": 377,
            "learn": [
             0.03185517774
            ],
            "passed_time": 0.8609799301,
            "remaining_time": 1.416744753
           },
           {
            "iteration": 378,
            "learn": [
             0.03173934591
            ],
            "passed_time": 0.8628638437,
            "remaining_time": 1.41382176
           },
           {
            "iteration": 379,
            "learn": [
             0.03164936981
            ],
            "passed_time": 0.8647012317,
            "remaining_time": 1.410828325
           },
           {
            "iteration": 380,
            "learn": [
             0.03150356514
            ],
            "passed_time": 0.8665526344,
            "remaining_time": 1.407863729
           },
           {
            "iteration": 381,
            "learn": [
             0.03138722675
            ],
            "passed_time": 0.8684708217,
            "remaining_time": 1.405013005
           },
           {
            "iteration": 382,
            "learn": [
             0.03126565257
            ],
            "passed_time": 0.8703354833,
            "remaining_time": 1.402080922
           },
           {
            "iteration": 383,
            "learn": [
             0.03113267358
            ],
            "passed_time": 0.8722654692,
            "remaining_time": 1.39925919
           },
           {
            "iteration": 384,
            "learn": [
             0.03099056938
            ],
            "passed_time": 0.8742162823,
            "remaining_time": 1.39647536
           },
           {
            "iteration": 385,
            "learn": [
             0.03091395762
            ],
            "passed_time": 0.8761186614,
            "remaining_time": 1.393618803
           },
           {
            "iteration": 386,
            "learn": [
             0.03080126282
            ],
            "passed_time": 0.877993212,
            "remaining_time": 1.390723098
           },
           {
            "iteration": 387,
            "learn": [
             0.03070589026
            ],
            "passed_time": 0.8798549828,
            "remaining_time": 1.387812499
           },
           {
            "iteration": 388,
            "learn": [
             0.03063243991
            ],
            "passed_time": 0.8818075393,
            "remaining_time": 1.385049888
           },
           {
            "iteration": 389,
            "learn": [
             0.03045961502
            ],
            "passed_time": 0.8841211181,
            "remaining_time": 1.382856108
           },
           {
            "iteration": 390,
            "learn": [
             0.03033362393
            ],
            "passed_time": 0.8860828953,
            "remaining_time": 1.380113768
           },
           {
            "iteration": 391,
            "learn": [
             0.03023292097
            ],
            "passed_time": 0.8880265537,
            "remaining_time": 1.377347308
           },
           {
            "iteration": 392,
            "learn": [
             0.03004344624
            ],
            "passed_time": 0.889952932,
            "remaining_time": 1.374558345
           },
           {
            "iteration": 393,
            "learn": [
             0.02988417121
            ],
            "passed_time": 0.8918139828,
            "remaining_time": 1.371673283
           },
           {
            "iteration": 394,
            "learn": [
             0.02976542231
            ],
            "passed_time": 0.8936723243,
            "remaining_time": 1.368789256
           },
           {
            "iteration": 395,
            "learn": [
             0.02962399783
            ],
            "passed_time": 0.8944293584,
            "remaining_time": 1.364230638
           },
           {
            "iteration": 396,
            "learn": [
             0.02948649558
            ],
            "passed_time": 0.8962140967,
            "remaining_time": 1.361252142
           },
           {
            "iteration": 397,
            "learn": [
             0.02935477286
            ],
            "passed_time": 0.8981523401,
            "remaining_time": 1.358511831
           },
           {
            "iteration": 398,
            "learn": [
             0.0292754496
            ],
            "passed_time": 0.9000768524,
            "remaining_time": 1.355754858
           },
           {
            "iteration": 399,
            "learn": [
             0.02915025025
            ],
            "passed_time": 0.9020187448,
            "remaining_time": 1.353028117
           },
           {
            "iteration": 400,
            "learn": [
             0.02899967183
            ],
            "passed_time": 0.9038955796,
            "remaining_time": 1.35020811
           },
           {
            "iteration": 401,
            "learn": [
             0.02889896686
            ],
            "passed_time": 0.9057958877,
            "remaining_time": 1.347427714
           },
           {
            "iteration": 402,
            "learn": [
             0.02877477303
            ],
            "passed_time": 0.9076566176,
            "remaining_time": 1.344593054
           },
           {
            "iteration": 403,
            "learn": [
             0.02865424876
            ],
            "passed_time": 0.9095430413,
            "remaining_time": 1.34180112
           },
           {
            "iteration": 404,
            "learn": [
             0.02854422004
            ],
            "passed_time": 0.9114550199,
            "remaining_time": 1.339051202
           },
           {
            "iteration": 405,
            "learn": [
             0.02843557719
            ],
            "passed_time": 0.9133644196,
            "remaining_time": 1.336301639
           },
           {
            "iteration": 406,
            "learn": [
             0.02829675272
            ],
            "passed_time": 0.9152265624,
            "remaining_time": 1.33348735
           },
           {
            "iteration": 407,
            "learn": [
             0.02819137777
            ],
            "passed_time": 0.9171423049,
            "remaining_time": 1.330755501
           },
           {
            "iteration": 408,
            "learn": [
             0.02807422818
            ],
            "passed_time": 0.9189599849,
            "remaining_time": 1.327885944
           },
           {
            "iteration": 409,
            "learn": [
             0.02797289138
            ],
            "passed_time": 0.9208704743,
            "remaining_time": 1.325155073
           },
           {
            "iteration": 410,
            "learn": [
             0.02790161607
            ],
            "passed_time": 0.9405690155,
            "remaining_time": 1.347920073
           },
           {
            "iteration": 411,
            "learn": [
             0.02775717108
            ],
            "passed_time": 0.9435357737,
            "remaining_time": 1.346599599
           },
           {
            "iteration": 412,
            "learn": [
             0.02765360457
            ],
            "passed_time": 0.9461764331,
            "remaining_time": 1.344807666
           },
           {
            "iteration": 413,
            "learn": [
             0.02757645359
            ],
            "passed_time": 0.9508208404,
            "remaining_time": 1.345847856
           },
           {
            "iteration": 414,
            "learn": [
             0.02750057765
            ],
            "passed_time": 0.9537433499,
            "remaining_time": 1.344433397
           },
           {
            "iteration": 415,
            "learn": [
             0.02741606686
            ],
            "passed_time": 0.9556919633,
            "remaining_time": 1.341644487
           },
           {
            "iteration": 416,
            "learn": [
             0.0273464904
            ],
            "passed_time": 0.9576499615,
            "remaining_time": 1.338872728
           },
           {
            "iteration": 417,
            "learn": [
             0.02724549505
            ],
            "passed_time": 0.9595263381,
            "remaining_time": 1.335991217
           },
           {
            "iteration": 418,
            "learn": [
             0.02715743283
            ],
            "passed_time": 0.9643034543,
            "remaining_time": 1.337136771
           },
           {
            "iteration": 419,
            "learn": [
             0.02705628307
            ],
            "passed_time": 0.9660444363,
            "remaining_time": 1.334061364
           },
           {
            "iteration": 420,
            "learn": [
             0.02698203607
            ],
            "passed_time": 0.9680357695,
            "remaining_time": 1.331336605
           },
           {
            "iteration": 421,
            "learn": [
             0.02691892293
            ],
            "passed_time": 0.9699634807,
            "remaining_time": 1.32852818
           },
           {
            "iteration": 422,
            "learn": [
             0.02682383738
            ],
            "passed_time": 0.9717780154,
            "remaining_time": 1.325569539
           },
           {
            "iteration": 423,
            "learn": [
             0.02674473722
            ],
            "passed_time": 0.973648197,
            "remaining_time": 1.32269189
           },
           {
            "iteration": 424,
            "learn": [
             0.02666239994
            ],
            "passed_time": 0.9755667634,
            "remaining_time": 1.319884445
           },
           {
            "iteration": 425,
            "learn": [
             0.02655302225
            ],
            "passed_time": 0.977399876,
            "remaining_time": 1.31696603
           },
           {
            "iteration": 426,
            "learn": [
             0.02646402471
            ],
            "passed_time": 0.9792674687,
            "remaining_time": 1.314098969
           },
           {
            "iteration": 427,
            "learn": [
             0.02637814573
            ],
            "passed_time": 0.9811075883,
            "remaining_time": 1.311199861
           },
           {
            "iteration": 428,
            "learn": [
             0.02628079145
            ],
            "passed_time": 0.983009311,
            "remaining_time": 1.308387684
           },
           {
            "iteration": 429,
            "learn": [
             0.02621096488
            ],
            "passed_time": 0.9849196845,
            "remaining_time": 1.30559121
           },
           {
            "iteration": 430,
            "learn": [
             0.02613949898
            ],
            "passed_time": 0.9867507801,
            "remaining_time": 1.302694185
           },
           {
            "iteration": 431,
            "learn": [
             0.02601877526
            ],
            "passed_time": 0.9886336736,
            "remaining_time": 1.2998702
           },
           {
            "iteration": 432,
            "learn": [
             0.02591411657
            ],
            "passed_time": 0.990541745,
            "remaining_time": 1.297083532
           },
           {
            "iteration": 433,
            "learn": [
             0.02581645223
            ],
            "passed_time": 0.9923639859,
            "remaining_time": 1.294188977
           },
           {
            "iteration": 434,
            "learn": [
             0.02573180922
            ],
            "passed_time": 0.9942455443,
            "remaining_time": 1.291376397
           },
           {
            "iteration": 435,
            "learn": [
             0.02561550226
            ],
            "passed_time": 0.9961174119,
            "remaining_time": 1.288555551
           },
           {
            "iteration": 436,
            "learn": [
             0.0255489893
            ],
            "passed_time": 0.9980205734,
            "remaining_time": 1.285779366
           },
           {
            "iteration": 437,
            "learn": [
             0.02545978425
            ],
            "passed_time": 1.000024469,
            "remaining_time": 1.28313642
           },
           {
            "iteration": 438,
            "learn": [
             0.02536730178
            ],
            "passed_time": 1.001865448,
            "remaining_time": 1.280288192
           },
           {
            "iteration": 439,
            "learn": [
             0.02525366833
            ],
            "passed_time": 1.003800925,
            "remaining_time": 1.277564814
           },
           {
            "iteration": 440,
            "learn": [
             0.02519848788
            ],
            "passed_time": 1.005677165,
            "remaining_time": 1.274769921
           },
           {
            "iteration": 441,
            "learn": [
             0.02512165446
            ],
            "passed_time": 1.007603521,
            "remaining_time": 1.272042454
           },
           {
            "iteration": 442,
            "learn": [
             0.02502434952
            ],
            "passed_time": 1.009560814,
            "remaining_time": 1.269357503
           },
           {
            "iteration": 443,
            "learn": [
             0.02493318887
            ],
            "passed_time": 1.011439301,
            "remaining_time": 1.266577142
           },
           {
            "iteration": 444,
            "learn": [
             0.02486510663
            ],
            "passed_time": 1.013346874,
            "remaining_time": 1.263837113
           },
           {
            "iteration": 445,
            "learn": [
             0.02477893633
            ],
            "passed_time": 1.015231663,
            "remaining_time": 1.261072514
           },
           {
            "iteration": 446,
            "learn": [
             0.02470151336
            ],
            "passed_time": 1.017140486,
            "remaining_time": 1.258341586
           },
           {
            "iteration": 447,
            "learn": [
             0.02462013661
            ],
            "passed_time": 1.019053181,
            "remaining_time": 1.255619098
           },
           {
            "iteration": 448,
            "learn": [
             0.02452228733
            ],
            "passed_time": 1.020978812,
            "remaining_time": 1.252916093
           },
           {
            "iteration": 449,
            "learn": [
             0.02445798626
            ],
            "passed_time": 1.022791017,
            "remaining_time": 1.250077909
           },
           {
            "iteration": 450,
            "learn": [
             0.02439689389
            ],
            "passed_time": 1.024651497,
            "remaining_time": 1.247303042
           },
           {
            "iteration": 451,
            "learn": [
             0.0243093214
            ],
            "passed_time": 1.02659983,
            "remaining_time": 1.244638732
           },
           {
            "iteration": 452,
            "learn": [
             0.02420937238
            ],
            "passed_time": 1.028509087,
            "remaining_time": 1.241930399
           },
           {
            "iteration": 453,
            "learn": [
             0.02415349482
            ],
            "passed_time": 1.030511099,
            "remaining_time": 1.239337137
           },
           {
            "iteration": 454,
            "learn": [
             0.02409243052
            ],
            "passed_time": 1.032376091,
            "remaining_time": 1.236582351
           },
           {
            "iteration": 455,
            "learn": [
             0.02403631978
            ],
            "passed_time": 1.034258526,
            "remaining_time": 1.233852276
           },
           {
            "iteration": 456,
            "learn": [
             0.02394605175
            ],
            "passed_time": 1.036177121,
            "remaining_time": 1.231168877
           },
           {
            "iteration": 457,
            "learn": [
             0.02387695141
            ],
            "passed_time": 1.038032938,
            "remaining_time": 1.228414525
           },
           {
            "iteration": 458,
            "learn": [
             0.02379920216
            ],
            "passed_time": 1.039931305,
            "remaining_time": 1.225714239
           },
           {
            "iteration": 459,
            "learn": [
             0.02372970654
            ],
            "passed_time": 1.041786219,
            "remaining_time": 1.222966432
           },
           {
            "iteration": 460,
            "learn": [
             0.02364024405
            ],
            "passed_time": 1.043697347,
            "remaining_time": 1.220288222
           },
           {
            "iteration": 461,
            "learn": [
             0.02356754337
            ],
            "passed_time": 1.045547381,
            "remaining_time": 1.217542188
           },
           {
            "iteration": 462,
            "learn": [
             0.02350998577
            ],
            "passed_time": 1.047336139,
            "remaining_time": 1.214728956
           },
           {
            "iteration": 463,
            "learn": [
             0.0234307371
            ],
            "passed_time": 1.049286434,
            "remaining_time": 1.212106742
           },
           {
            "iteration": 464,
            "learn": [
             0.02336330554
            ],
            "passed_time": 1.051077655,
            "remaining_time": 1.209304398
           },
           {
            "iteration": 465,
            "learn": [
             0.0232981438
            ],
            "passed_time": 1.052923995,
            "remaining_time": 1.206569557
           },
           {
            "iteration": 466,
            "learn": [
             0.02324991919
            ],
            "passed_time": 1.054819081,
            "remaining_time": 1.203894155
           },
           {
            "iteration": 467,
            "learn": [
             0.02314628964
            ],
            "passed_time": 1.056636566,
            "remaining_time": 1.201133874
           },
           {
            "iteration": 468,
            "learn": [
             0.02307966364
            ],
            "passed_time": 1.058527432,
            "remaining_time": 1.198460695
           },
           {
            "iteration": 469,
            "learn": [
             0.02297909834
            ],
            "passed_time": 1.060529763,
            "remaining_time": 1.195916541
           },
           {
            "iteration": 470,
            "learn": [
             0.02291342627
            ],
            "passed_time": 1.062508707,
            "remaining_time": 1.19334842
           },
           {
            "iteration": 471,
            "learn": [
             0.02283436552
            ],
            "passed_time": 1.064349171,
            "remaining_time": 1.190627887
           },
           {
            "iteration": 472,
            "learn": [
             0.02277574608
            ],
            "passed_time": 1.066242559,
            "remaining_time": 1.187970039
           },
           {
            "iteration": 473,
            "learn": [
             0.02269305752
            ],
            "passed_time": 1.068116976,
            "remaining_time": 1.185294366
           },
           {
            "iteration": 474,
            "learn": [
             0.02260695813
            ],
            "passed_time": 1.069926302,
            "remaining_time": 1.182550123
           },
           {
            "iteration": 475,
            "learn": [
             0.02249942317
            ],
            "passed_time": 1.071736428,
            "remaining_time": 1.179810689
           },
           {
            "iteration": 476,
            "learn": [
             0.02242718191
            ],
            "passed_time": 1.073581993,
            "remaining_time": 1.177114009
           },
           {
            "iteration": 477,
            "learn": [
             0.02236744812
            ],
            "passed_time": 1.075507606,
            "remaining_time": 1.174508306
           },
           {
            "iteration": 478,
            "learn": [
             0.02230227457
            ],
            "passed_time": 1.077369726,
            "remaining_time": 1.171836382
           },
           {
            "iteration": 479,
            "learn": [
             0.02222590597
            ],
            "passed_time": 1.0792616,
            "remaining_time": 1.169200067
           },
           {
            "iteration": 480,
            "learn": [
             0.02216599797
            ],
            "passed_time": 1.081119839,
            "remaining_time": 1.166530554
           },
           {
            "iteration": 481,
            "learn": [
             0.02209142512
            ],
            "passed_time": 1.082964124,
            "remaining_time": 1.163849411
           },
           {
            "iteration": 482,
            "learn": [
             0.02201095525
            ],
            "passed_time": 1.08485787,
            "remaining_time": 1.161224677
           },
           {
            "iteration": 483,
            "learn": [
             0.02193854655
            ],
            "passed_time": 1.086702799,
            "remaining_time": 1.158550918
           },
           {
            "iteration": 484,
            "learn": [
             0.02184324221
            ],
            "passed_time": 1.088613031,
            "remaining_time": 1.15594992
           },
           {
            "iteration": 485,
            "learn": [
             0.02177491339
            ],
            "passed_time": 1.090484818,
            "remaining_time": 1.153311104
           },
           {
            "iteration": 486,
            "learn": [
             0.0217097108
            ],
            "passed_time": 1.092462637,
            "remaining_time": 1.150787131
           },
           {
            "iteration": 487,
            "learn": [
             0.02161201856
            ],
            "passed_time": 1.094380805,
            "remaining_time": 1.148202811
           },
           {
            "iteration": 488,
            "learn": [
             0.02153740807
            ],
            "passed_time": 1.09623098,
            "remaining_time": 1.145550165
           },
           {
            "iteration": 489,
            "learn": [
             0.02146279977
            ],
            "passed_time": 1.098173217,
            "remaining_time": 1.142996614
           },
           {
            "iteration": 490,
            "learn": [
             0.02140938375
            ],
            "passed_time": 1.100059668,
            "remaining_time": 1.14038772
           },
           {
            "iteration": 491,
            "learn": [
             0.02137198723
            ],
            "passed_time": 1.101925461,
            "remaining_time": 1.137760435
           },
           {
            "iteration": 492,
            "learn": [
             0.02130966266
            ],
            "passed_time": 1.10381146,
            "remaining_time": 1.135157019
           },
           {
            "iteration": 493,
            "learn": [
             0.0212368297
            ],
            "passed_time": 1.105698455,
            "remaining_time": 1.132557527
           },
           {
            "iteration": 494,
            "learn": [
             0.02119961667
            ],
            "passed_time": 1.10752949,
            "remaining_time": 1.129903823
           },
           {
            "iteration": 495,
            "learn": [
             0.02115501925
            ],
            "passed_time": 1.109377486,
            "remaining_time": 1.127270671
           },
           {
            "iteration": 496,
            "learn": [
             0.02110075817
            ],
            "passed_time": 1.111324528,
            "remaining_time": 1.124740921
           },
           {
            "iteration": 497,
            "learn": [
             0.0210282468
            ],
            "passed_time": 1.113162687,
            "remaining_time": 1.122103753
           },
           {
            "iteration": 498,
            "learn": [
             0.02095143315
            ],
            "passed_time": 1.115091444,
            "remaining_time": 1.119560748
           },
           {
            "iteration": 499,
            "learn": [
             0.02089749083
            ],
            "passed_time": 1.116925754,
            "remaining_time": 1.116925754
           },
           {
            "iteration": 500,
            "learn": [
             0.02082340158
            ],
            "passed_time": 1.118828456,
            "remaining_time": 1.114362075
           },
           {
            "iteration": 501,
            "learn": [
             0.02077292192
            ],
            "passed_time": 1.12078585,
            "remaining_time": 1.111855286
           },
           {
            "iteration": 502,
            "learn": [
             0.02070778036
            ],
            "passed_time": 1.122705274,
            "remaining_time": 1.109313163
           },
           {
            "iteration": 503,
            "learn": [
             0.0206539566
            ],
            "passed_time": 1.124741392,
            "remaining_time": 1.106888354
           },
           {
            "iteration": 504,
            "learn": [
             0.02058817672
            ],
            "passed_time": 1.126537111,
            "remaining_time": 1.104229445
           },
           {
            "iteration": 505,
            "learn": [
             0.02052461249
            ],
            "passed_time": 1.128465773,
            "remaining_time": 1.101703739
           },
           {
            "iteration": 506,
            "learn": [
             0.0204304832
            ],
            "passed_time": 1.1303264,
            "remaining_time": 1.099114231
           },
           {
            "iteration": 507,
            "learn": [
             0.02036740252
            ],
            "passed_time": 1.132258854,
            "remaining_time": 1.096597158
           },
           {
            "iteration": 508,
            "learn": [
             0.02030999269
            ],
            "passed_time": 1.134229822,
            "remaining_time": 1.094119534
           },
           {
            "iteration": 509,
            "learn": [
             0.02023757816
            ],
            "passed_time": 1.136048878,
            "remaining_time": 1.091497942
           },
           {
            "iteration": 510,
            "learn": [
             0.02017218645
            ],
            "passed_time": 1.137908145,
            "remaining_time": 1.08891797
           },
           {
            "iteration": 511,
            "learn": [
             0.02012139349
            ],
            "passed_time": 1.139788718,
            "remaining_time": 1.086361122
           },
           {
            "iteration": 512,
            "learn": [
             0.02002900424
            ],
            "passed_time": 1.141737378,
            "remaining_time": 1.083871546
           },
           {
            "iteration": 513,
            "learn": [
             0.01997699445
            ],
            "passed_time": 1.1435665,
            "remaining_time": 1.081271049
           },
           {
            "iteration": 514,
            "learn": [
             0.01991854258
            ],
            "passed_time": 1.145335736,
            "remaining_time": 1.07861715
           },
           {
            "iteration": 515,
            "learn": [
             0.01985664383
            ],
            "passed_time": 1.147258561,
            "remaining_time": 1.076110743
           },
           {
            "iteration": 516,
            "learn": [
             0.01978854914
            ],
            "passed_time": 1.1491842,
            "remaining_time": 1.073609223
           },
           {
            "iteration": 517,
            "learn": [
             0.01970841089
            ],
            "passed_time": 1.151019638,
            "remaining_time": 1.071025996
           },
           {
            "iteration": 518,
            "learn": [
             0.01965713454
            ],
            "passed_time": 1.153376549,
            "remaining_time": 1.06892894
           },
           {
            "iteration": 519,
            "learn": [
             0.01956896827
            ],
            "passed_time": 1.156642111,
            "remaining_time": 1.067669641
           },
           {
            "iteration": 520,
            "learn": [
             0.01949964875
            ],
            "passed_time": 1.159970916,
            "remaining_time": 1.066460784
           },
           {
            "iteration": 521,
            "learn": [
             0.01944528839
            ],
            "passed_time": 1.161885003,
            "remaining_time": 1.063948336
           },
           {
            "iteration": 522,
            "learn": [
             0.0194031001
            ],
            "passed_time": 1.163770203,
            "remaining_time": 1.06141183
           },
           {
            "iteration": 523,
            "learn": [
             0.01936438919
            ],
            "passed_time": 1.165649171,
            "remaining_time": 1.058872148
           },
           {
            "iteration": 524,
            "learn": [
             0.01929706937
            ],
            "passed_time": 1.167554856,
            "remaining_time": 1.056359155
           },
           {
            "iteration": 525,
            "learn": [
             0.01925419936
            ],
            "passed_time": 1.16945342,
            "remaining_time": 1.053842056
           },
           {
            "iteration": 526,
            "learn": [
             0.0192014751
            ],
            "passed_time": 1.171326696,
            "remaining_time": 1.051304606
           },
           {
            "iteration": 527,
            "learn": [
             0.01915027461
            ],
            "passed_time": 1.173153703,
            "remaining_time": 1.048728311
           },
           {
            "iteration": 528,
            "learn": [
             0.01910995851
            ],
            "passed_time": 1.175080686,
            "remaining_time": 1.046243862
           },
           {
            "iteration": 529,
            "learn": [
             0.01907404531
            ],
            "passed_time": 1.176981276,
            "remaining_time": 1.043738113
           },
           {
            "iteration": 530,
            "learn": [
             0.01901214445
            ],
            "passed_time": 1.17889979,
            "remaining_time": 1.041250474
           },
           {
            "iteration": 531,
            "learn": [
             0.01896779126
            ],
            "passed_time": 1.180777312,
            "remaining_time": 1.038728913
           },
           {
            "iteration": 532,
            "learn": [
             0.01890102818
            ],
            "passed_time": 1.182689248,
            "remaining_time": 1.036239923
           },
           {
            "iteration": 533,
            "learn": [
             0.01885077009
            ],
            "passed_time": 1.184542344,
            "remaining_time": 1.033701746
           },
           {
            "iteration": 534,
            "learn": [
             0.01879109934
            ],
            "passed_time": 1.186448966,
            "remaining_time": 1.031212652
           },
           {
            "iteration": 535,
            "learn": [
             0.01875603811
            ],
            "passed_time": 1.188392083,
            "remaining_time": 1.028757326
           },
           {
            "iteration": 536,
            "learn": [
             0.01870960355
            ],
            "passed_time": 1.190257506,
            "remaining_time": 1.026236919
           },
           {
            "iteration": 537,
            "learn": [
             0.01866611304
            ],
            "passed_time": 1.19217433,
            "remaining_time": 1.023763086
           },
           {
            "iteration": 538,
            "learn": [
             0.01859363212
            ],
            "passed_time": 1.194072593,
            "remaining_time": 1.021275446
           },
           {
            "iteration": 539,
            "learn": [
             0.01856261224
            ],
            "passed_time": 1.196001282,
            "remaining_time": 1.018815907
           },
           {
            "iteration": 540,
            "learn": [
             0.0184915314
            ],
            "passed_time": 1.197862282,
            "remaining_time": 1.016300901
           },
           {
            "iteration": 541,
            "learn": [
             0.0184472676
            ],
            "passed_time": 1.199796439,
            "remaining_time": 1.013850127
           },
           {
            "iteration": 542,
            "learn": [
             0.01838512892
            ],
            "passed_time": 1.201617957,
            "remaining_time": 1.011306457
           },
           {
            "iteration": 543,
            "learn": [
             0.01833939549
            ],
            "passed_time": 1.20348025,
            "remaining_time": 1.008799622
           },
           {
            "iteration": 544,
            "learn": [
             0.01829053546
            ],
            "passed_time": 1.205307941,
            "remaining_time": 1.006266263
           },
           {
            "iteration": 545,
            "learn": [
             0.01820480481
            ],
            "passed_time": 1.207201565,
            "remaining_time": 1.003790312
           },
           {
            "iteration": 546,
            "learn": [
             0.01815205608
            ],
            "passed_time": 1.209095059,
            "remaining_time": 1.001316383
           },
           {
            "iteration": 547,
            "learn": [
             0.01810738438
            ],
            "passed_time": 1.21101565,
            "remaining_time": 0.9988669231
           },
           {
            "iteration": 548,
            "learn": [
             0.01805326389
            ],
            "passed_time": 1.212826508,
            "remaining_time": 0.9963292445
           },
           {
            "iteration": 549,
            "learn": [
             0.0179970918
            ],
            "passed_time": 1.214722693,
            "remaining_time": 0.9938640214
           },
           {
            "iteration": 550,
            "learn": [
             0.01796318703
            ],
            "passed_time": 1.216537188,
            "remaining_time": 0.9913342962
           },
           {
            "iteration": 551,
            "learn": [
             0.01790466488
            ],
            "passed_time": 1.218432139,
            "remaining_time": 0.9888724605
           },
           {
            "iteration": 552,
            "learn": [
             0.01784686581
            ],
            "passed_time": 1.220341905,
            "remaining_time": 0.9864246505
           },
           {
            "iteration": 553,
            "learn": [
             0.01779157245
            ],
            "passed_time": 1.222139917,
            "remaining_time": 0.9838888137
           },
           {
            "iteration": 554,
            "learn": [
             0.01774813494
            ],
            "passed_time": 1.224037388,
            "remaining_time": 0.9814353833
           },
           {
            "iteration": 555,
            "learn": [
             0.01772041514
            ],
            "passed_time": 1.225828601,
            "remaining_time": 0.978899099
           },
           {
            "iteration": 556,
            "learn": [
             0.01767446273
            ],
            "passed_time": 1.227699316,
            "remaining_time": 0.9764287201
           },
           {
            "iteration": 557,
            "learn": [
             0.01763152216
            ],
            "passed_time": 1.229605474,
            "remaining_time": 0.9739885653
           },
           {
            "iteration": 558,
            "learn": [
             0.0175764154
            ],
            "passed_time": 1.231475654,
            "remaining_time": 0.9715219378
           },
           {
            "iteration": 559,
            "learn": [
             0.01753494571
            ],
            "passed_time": 1.233374817,
            "remaining_time": 0.9690802134
           },
           {
            "iteration": 560,
            "learn": [
             0.01748962838
            ],
            "passed_time": 1.235239284,
            "remaining_time": 0.9666132718
           },
           {
            "iteration": 561,
            "learn": [
             0.01744485821
            ],
            "passed_time": 1.237082414,
            "remaining_time": 0.964131846
           },
           {
            "iteration": 562,
            "learn": [
             0.0173942929
            ],
            "passed_time": 1.238938338,
            "remaining_time": 0.9616626175
           },
           {
            "iteration": 563,
            "learn": [
             0.01734229685
            ],
            "passed_time": 1.240844567,
            "remaining_time": 0.9592344528
           },
           {
            "iteration": 564,
            "learn": [
             0.01731089897
            ],
            "passed_time": 1.242720299,
            "remaining_time": 0.9567846549
           },
           {
            "iteration": 565,
            "learn": [
             0.01727373985
            ],
            "passed_time": 1.24473651,
            "remaining_time": 0.9544446031
           },
           {
            "iteration": 566,
            "learn": [
             0.01721702976
            ],
            "passed_time": 1.24883301,
            "remaining_time": 0.9536943443
           },
           {
            "iteration": 567,
            "learn": [
             0.01715945629
            ],
            "passed_time": 1.255565553,
            "remaining_time": 0.9549371811
           },
           {
            "iteration": 568,
            "learn": [
             0.01710733739
            ],
            "passed_time": 1.258313763,
            "remaining_time": 0.9531339751
           },
           {
            "iteration": 569,
            "learn": [
             0.01706736899
            ],
            "passed_time": 1.260134489,
            "remaining_time": 0.9506277722
           },
           {
            "iteration": 570,
            "learn": [
             0.0170168896
            ],
            "passed_time": 1.262019075,
            "remaining_time": 0.9481719492
           },
           {
            "iteration": 571,
            "learn": [
             0.01696265638
            ],
            "passed_time": 1.263983511,
            "remaining_time": 0.9457778715
           },
           {
            "iteration": 572,
            "learn": [
             0.01692174842
            ],
            "passed_time": 1.265924504,
            "remaining_time": 0.9433678239
           },
           {
            "iteration": 573,
            "learn": [
             0.01688698963
            ],
            "passed_time": 1.267801229,
            "remaining_time": 0.9409117135
           },
           {
            "iteration": 574,
            "learn": [
             0.01684912565
            ],
            "passed_time": 1.269610942,
            "remaining_time": 0.9384080873
           },
           {
            "iteration": 575,
            "learn": [
             0.01679744544
            ],
            "passed_time": 1.271544673,
            "remaining_time": 0.9359981623
           },
           {
            "iteration": 576,
            "learn": [
             0.01674461417
            ],
            "passed_time": 1.273400529,
            "remaining_time": 0.9335327969
           },
           {
            "iteration": 577,
            "learn": [
             0.01669233075
            ],
            "passed_time": 1.275281354,
            "remaining_time": 0.9310877704
           },
           {
            "iteration": 578,
            "learn": [
             0.01664348664
            ],
            "passed_time": 1.277165897,
            "remaining_time": 0.9286473969
           },
           {
            "iteration": 579,
            "learn": [
             0.01659155411
            ],
            "passed_time": 1.279023153,
            "remaining_time": 0.92618918
           },
           {
            "iteration": 580,
            "learn": [
             0.01654599415
            ],
            "passed_time": 1.280875104,
            "remaining_time": 0.9237292058
           },
           {
            "iteration": 581,
            "learn": [
             0.01650846228
            ],
            "passed_time": 1.282782508,
            "remaining_time": 0.9213111487
           },
           {
            "iteration": 582,
            "learn": [
             0.0164588135
            ],
            "passed_time": 1.28461989,
            "remaining_time": 0.9188447584
           },
           {
            "iteration": 583,
            "learn": [
             0.01641130034
            ],
            "passed_time": 1.286537332,
            "remaining_time": 0.9164375518
           },
           {
            "iteration": 584,
            "learn": [
             0.01638626603
            ],
            "passed_time": 1.28843732,
            "remaining_time": 0.9140196372
           },
           {
            "iteration": 585,
            "learn": [
             0.0163549341
            ],
            "passed_time": 1.290335691,
            "remaining_time": 0.9116023479
           },
           {
            "iteration": 586,
            "learn": [
             0.0163146069
            ],
            "passed_time": 1.292214458,
            "remaining_time": 0.9091730345
           },
           {
            "iteration": 587,
            "learn": [
             0.01628346241
            ],
            "passed_time": 1.294115783,
            "remaining_time": 0.9067613988
           },
           {
            "iteration": 588,
            "learn": [
             0.0162409915
            ],
            "passed_time": 1.296035447,
            "remaining_time": 0.9043642935
           },
           {
            "iteration": 589,
            "learn": [
             0.01619510354
            ],
            "passed_time": 1.297958383,
            "remaining_time": 0.9019710796
           },
           {
            "iteration": 590,
            "learn": [
             0.01615898303
            ],
            "passed_time": 1.299855124,
            "remaining_time": 0.8995613296
           },
           {
            "iteration": 591,
            "learn": [
             0.01612061918
            ],
            "passed_time": 1.30170538,
            "remaining_time": 0.8971212755
           },
           {
            "iteration": 592,
            "learn": [
             0.0160844103
            ],
            "passed_time": 1.303627448,
            "remaining_time": 0.8947324978
           },
           {
            "iteration": 593,
            "learn": [
             0.0160369319
            ],
            "passed_time": 1.305514794,
            "remaining_time": 0.8923215597
           },
           {
            "iteration": 594,
            "learn": [
             0.01600219064
            ],
            "passed_time": 1.307475575,
            "remaining_time": 0.8899623664
           },
           {
            "iteration": 595,
            "learn": [
             0.01596568038
            ],
            "passed_time": 1.309414794,
            "remaining_time": 0.8875898939
           },
           {
            "iteration": 596,
            "learn": [
             0.01591733341
            ],
            "passed_time": 1.311314853,
            "remaining_time": 0.8851924387
           },
           {
            "iteration": 597,
            "learn": [
             0.01588412815
            ],
            "passed_time": 1.313241502,
            "remaining_time": 0.8828145212
           },
           {
            "iteration": 598,
            "learn": [
             0.01582829532
            ],
            "passed_time": 1.315133968,
            "remaining_time": 0.8804152275
           },
           {
            "iteration": 599,
            "learn": [
             0.01577160261
            ],
            "passed_time": 1.317019609,
            "remaining_time": 0.8780130725
           },
           {
            "iteration": 600,
            "learn": [
             0.01573187194
            ],
            "passed_time": 1.318898839,
            "remaining_time": 0.8756083808
           },
           {
            "iteration": 601,
            "learn": [
             0.01569158383
            ],
            "passed_time": 1.320814476,
            "remaining_time": 0.873229504
           },
           {
            "iteration": 602,
            "learn": [
             0.01565986306
            ],
            "passed_time": 1.322640359,
            "remaining_time": 0.8707930721
           },
           {
            "iteration": 603,
            "learn": [
             0.01562959359
            ],
            "passed_time": 1.324421904,
            "remaining_time": 0.8683295924
           },
           {
            "iteration": 604,
            "learn": [
             0.0155650654
            ],
            "passed_time": 1.326295819,
            "remaining_time": 0.8659286753
           },
           {
            "iteration": 605,
            "learn": [
             0.01551370948
            ],
            "passed_time": 1.328191481,
            "remaining_time": 0.8635436364
           },
           {
            "iteration": 606,
            "learn": [
             0.0154505889
            ],
            "passed_time": 1.330034205,
            "remaining_time": 0.8611259352
           },
           {
            "iteration": 607,
            "learn": [
             0.01542508361
            ],
            "passed_time": 1.331929351,
            "remaining_time": 0.8587439234
           },
           {
            "iteration": 608,
            "learn": [
             0.01537526311
            ],
            "passed_time": 1.333802161,
            "remaining_time": 0.856349171
           },
           {
            "iteration": 609,
            "learn": [
             0.01533370714
            ],
            "passed_time": 1.335700527,
            "remaining_time": 0.8539724682
           },
           {
            "iteration": 610,
            "learn": [
             0.01527071188
            ],
            "passed_time": 1.337575431,
            "remaining_time": 0.8515823938
           },
           {
            "iteration": 611,
            "learn": [
             0.0152431273
            ],
            "passed_time": 1.339424858,
            "remaining_time": 0.8491778515
           },
           {
            "iteration": 612,
            "learn": [
             0.015216897
            ],
            "passed_time": 1.341290758,
            "remaining_time": 0.8467855195
           },
           {
            "iteration": 613,
            "learn": [
             0.01518493808
            ],
            "passed_time": 1.343142084,
            "remaining_time": 0.8443857403
           },
           {
            "iteration": 614,
            "learn": [
             0.0151369252
            ],
            "passed_time": 1.34563711,
            "remaining_time": 0.8423907112
           },
           {
            "iteration": 615,
            "learn": [
             0.01509631541
            ],
            "passed_time": 1.348483974,
            "remaining_time": 0.8406133864
           },
           {
            "iteration": 616,
            "learn": [
             0.0150619295
            ],
            "passed_time": 1.351691779,
            "remaining_time": 0.8390566475
           },
           {
            "iteration": 617,
            "learn": [
             0.0150327353
            ],
            "passed_time": 1.353899838,
            "remaining_time": 0.8368765988
           },
           {
            "iteration": 618,
            "learn": [
             0.01499874775
            ],
            "passed_time": 1.355735156,
            "remaining_time": 0.8344670344
           },
           {
            "iteration": 619,
            "learn": [
             0.01495685326
            ],
            "passed_time": 1.357704467,
            "remaining_time": 0.8321414475
           },
           {
            "iteration": 620,
            "learn": [
             0.01491912648
            ],
            "passed_time": 1.359628043,
            "remaining_time": 0.8297890957
           },
           {
            "iteration": 621,
            "learn": [
             0.01489247111
            ],
            "passed_time": 1.361576444,
            "remaining_time": 0.8274532084
           },
           {
            "iteration": 622,
            "learn": [
             0.01485678596
            ],
            "passed_time": 1.363488685,
            "remaining_time": 0.8250966841
           },
           {
            "iteration": 623,
            "learn": [
             0.01482679706
            ],
            "passed_time": 1.365377812,
            "remaining_time": 0.8227276562
           },
           {
            "iteration": 624,
            "learn": [
             0.01479191775
            ],
            "passed_time": 1.367225151,
            "remaining_time": 0.8203350905
           },
           {
            "iteration": 625,
            "learn": [
             0.01475099085
            ],
            "passed_time": 1.369113087,
            "remaining_time": 0.8179685219
           },
           {
            "iteration": 626,
            "learn": [
             0.01471184325
            ],
            "passed_time": 1.371001829,
            "remaining_time": 0.8156039587
           },
           {
            "iteration": 627,
            "learn": [
             0.01468461982
            ],
            "passed_time": 1.372898108,
            "remaining_time": 0.8132453762
           },
           {
            "iteration": 628,
            "learn": [
             0.01465457726
            ],
            "passed_time": 1.374848825,
            "remaining_time": 0.8109203724
           },
           {
            "iteration": 629,
            "learn": [
             0.01462397447
            ],
            "passed_time": 1.376708388,
            "remaining_time": 0.8085430215
           },
           {
            "iteration": 630,
            "learn": [
             0.01458243735
            ],
            "passed_time": 1.378531256,
            "remaining_time": 0.8061458531
           },
           {
            "iteration": 631,
            "learn": [
             0.01455212546
            ],
            "passed_time": 1.380402241,
            "remaining_time": 0.8037785203
           },
           {
            "iteration": 632,
            "learn": [
             0.01451493181
            ],
            "passed_time": 1.383470682,
            "remaining_time": 0.8021070148
           },
           {
            "iteration": 633,
            "learn": [
             0.01448409105
            ],
            "passed_time": 1.385350948,
            "remaining_time": 0.7997451844
           },
           {
            "iteration": 634,
            "learn": [
             0.01444554347
            ],
            "passed_time": 1.387203876,
            "remaining_time": 0.7973691569
           },
           {
            "iteration": 635,
            "learn": [
             0.01441133404
            ],
            "passed_time": 1.3891301,
            "remaining_time": 0.7950367239
           },
           {
            "iteration": 636,
            "learn": [
             0.01438713182
            ],
            "passed_time": 1.391067453,
            "remaining_time": 0.7927119083
           },
           {
            "iteration": 637,
            "learn": [
             0.01435066695
            ],
            "passed_time": 1.392853417,
            "remaining_time": 0.7903024091
           },
           {
            "iteration": 638,
            "learn": [
             0.01431857522
            ],
            "passed_time": 1.394730878,
            "remaining_time": 0.7879465523
           },
           {
            "iteration": 639,
            "learn": [
             0.0142770585
            ],
            "passed_time": 1.396647931,
            "remaining_time": 0.7856144614
           },
           {
            "iteration": 640,
            "learn": [
             0.01423575531
            ],
            "passed_time": 1.397410369,
            "remaining_time": 0.7826370086
           },
           {
            "iteration": 641,
            "learn": [
             0.01419346504
            ],
            "passed_time": 1.399205498,
            "remaining_time": 0.7802423181
           },
           {
            "iteration": 642,
            "learn": [
             0.01414877891
            ],
            "passed_time": 1.400518936,
            "remaining_time": 0.7775820534
           },
           {
            "iteration": 643,
            "learn": [
             0.01411985631
            ],
            "passed_time": 1.402377974,
            "remaining_time": 0.7752275757
           },
           {
            "iteration": 644,
            "learn": [
             0.01408549102
            ],
            "passed_time": 1.404255733,
            "remaining_time": 0.7728849385
           },
           {
            "iteration": 645,
            "learn": [
             0.01404699653
            ],
            "passed_time": 1.40620524,
            "remaining_time": 0.7705830575
           },
           {
            "iteration": 646,
            "learn": [
             0.01400639343
            ],
            "passed_time": 1.408081967,
            "remaining_time": 0.768242557
           },
           {
            "iteration": 647,
            "learn": [
             0.01396855366
            ],
            "passed_time": 1.409964874,
            "remaining_time": 0.7659068453
           },
           {
            "iteration": 648,
            "learn": [
             0.01393813219
            ],
            "passed_time": 1.411859501,
            "remaining_time": 0.7635788675
           },
           {
            "iteration": 649,
            "learn": [
             0.01390094574
            ],
            "passed_time": 1.413755189,
            "remaining_time": 0.7612527939
           },
           {
            "iteration": 650,
            "learn": [
             0.0138784599
            ],
            "passed_time": 1.415669467,
            "remaining_time": 0.7589380092
           },
           {
            "iteration": 651,
            "learn": [
             0.01385887363
            ],
            "passed_time": 1.417606172,
            "remaining_time": 0.7566364231
           },
           {
            "iteration": 652,
            "learn": [
             0.01382235043
            ],
            "passed_time": 1.419464394,
            "remaining_time": 0.7542942494
           },
           {
            "iteration": 653,
            "learn": [
             0.01380146367
            ],
            "passed_time": 1.421301603,
            "remaining_time": 0.7519424382
           },
           {
            "iteration": 654,
            "learn": [
             0.01376700034
            ],
            "passed_time": 1.423165613,
            "remaining_time": 0.7496063155
           },
           {
            "iteration": 655,
            "learn": [
             0.01373998097
            ],
            "passed_time": 1.42515732,
            "remaining_time": 0.7473385948
           },
           {
            "iteration": 656,
            "learn": [
             0.01371648375
            ],
            "passed_time": 1.42702984,
            "remaining_time": 0.7450094902
           },
           {
            "iteration": 657,
            "learn": [
             0.01368964987
            ],
            "passed_time": 1.428890727,
            "remaining_time": 0.7426757271
           },
           {
            "iteration": 658,
            "learn": [
             0.01365503351
            ],
            "passed_time": 1.430811328,
            "remaining_time": 0.7403742987
           },
           {
            "iteration": 659,
            "learn": [
             0.01361477148
            ],
            "passed_time": 1.432711535,
            "remaining_time": 0.7380635181
           },
           {
            "iteration": 660,
            "learn": [
             0.01358804808
            ],
            "passed_time": 1.434541908,
            "remaining_time": 0.7357181647
           },
           {
            "iteration": 661,
            "learn": [
             0.0135706608
            ],
            "passed_time": 1.436374835,
            "remaining_time": 0.7333756709
           },
           {
            "iteration": 662,
            "learn": [
             0.01353766879
            ],
            "passed_time": 1.438408653,
            "remaining_time": 0.7311368265
           },
           {
            "iteration": 663,
            "learn": [
             0.01351118118
            ],
            "passed_time": 1.440233929,
            "remaining_time": 0.7287930724
           },
           {
            "iteration": 664,
            "learn": [
             0.01348740963
            ],
            "passed_time": 1.442118883,
            "remaining_time": 0.7264809413
           },
           {
            "iteration": 665,
            "learn": [
             0.01345071514
            ],
            "passed_time": 1.443996646,
            "remaining_time": 0.7241664862
           },
           {
            "iteration": 666,
            "learn": [
             0.01343380022
            ],
            "passed_time": 1.445871826,
            "remaining_time": 0.7218520509
           },
           {
            "iteration": 667,
            "learn": [
             0.01340013809
            ],
            "passed_time": 1.447722518,
            "remaining_time": 0.7195267602
           },
           {
            "iteration": 668,
            "learn": [
             0.01336061311
            ],
            "passed_time": 1.44958453,
            "remaining_time": 0.7172084893
           },
           {
            "iteration": 669,
            "learn": [
             0.01332545639
            ],
            "passed_time": 1.451473557,
            "remaining_time": 0.7149048865
           },
           {
            "iteration": 670,
            "learn": [
             0.0132940292
            ],
            "passed_time": 1.4533316,
            "remaining_time": 0.7125873269
           },
           {
            "iteration": 671,
            "learn": [
             0.01326212339
            ],
            "passed_time": 1.455186915,
            "remaining_time": 0.7102698038
           },
           {
            "iteration": 672,
            "learn": [
             0.01323682734
            ],
            "passed_time": 1.457066927,
            "remaining_time": 0.7079656538
           },
           {
            "iteration": 673,
            "learn": [
             0.01320412339
            ],
            "passed_time": 1.458926923,
            "remaining_time": 0.7056530815
           },
           {
            "iteration": 674,
            "learn": [
             0.01317304286
            ],
            "passed_time": 1.46093266,
            "remaining_time": 0.7034120216
           },
           {
            "iteration": 675,
            "learn": [
             0.01314510627
            ],
            "passed_time": 1.46274031,
            "remaining_time": 0.7010767166
           },
           {
            "iteration": 676,
            "learn": [
             0.01311566047
            ],
            "passed_time": 1.464576418,
            "remaining_time": 0.6987565479
           },
           {
            "iteration": 677,
            "learn": [
             0.01307944089
            ],
            "passed_time": 1.46644297,
            "remaining_time": 0.6964522662
           },
           {
            "iteration": 678,
            "learn": [
             0.01305375645
            ],
            "passed_time": 1.468287977,
            "remaining_time": 0.6941390879
           },
           {
            "iteration": 679,
            "learn": [
             0.01302406792
            ],
            "passed_time": 1.470270827,
            "remaining_time": 0.6918921541
           },
           {
            "iteration": 680,
            "learn": [
             0.01299362051
            ],
            "passed_time": 1.472133849,
            "remaining_time": 0.6895898646
           },
           {
            "iteration": 681,
            "learn": [
             0.01295027102
            ],
            "passed_time": 1.474039687,
            "remaining_time": 0.6873088276
           },
           {
            "iteration": 682,
            "learn": [
             0.01292781699
            ],
            "passed_time": 1.475910459,
            "remaining_time": 0.685012614
           },
           {
            "iteration": 683,
            "learn": [
             0.01290239268
            ],
            "passed_time": 1.477768444,
            "remaining_time": 0.6827117373
           },
           {
            "iteration": 684,
            "learn": [
             0.01286954791
            ],
            "passed_time": 1.479702888,
            "remaining_time": 0.6804473133
           },
           {
            "iteration": 685,
            "learn": [
             0.0128422515
            ],
            "passed_time": 1.481536149,
            "remaining_time": 0.6781375378
           },
           {
            "iteration": 686,
            "learn": [
             0.01280014431
            ],
            "passed_time": 1.483418493,
            "remaining_time": 0.6758515113
           },
           {
            "iteration": 687,
            "learn": [
             0.01277988458
            ],
            "passed_time": 1.485359087,
            "remaining_time": 0.6735930745
           },
           {
            "iteration": 688,
            "learn": [
             0.0127445888
            ],
            "passed_time": 1.487245527,
            "remaining_time": 0.671311116
           },
           {
            "iteration": 689,
            "learn": [
             0.01270713723
            ],
            "passed_time": 1.489132181,
            "remaining_time": 0.6690304003
           },
           {
            "iteration": 690,
            "learn": [
             0.01267941055
            ],
            "passed_time": 1.491004882,
            "remaining_time": 0.6667445855
           },
           {
            "iteration": 691,
            "learn": [
             0.01264791257
            ],
            "passed_time": 1.492932616,
            "remaining_time": 0.664484459
           },
           {
            "iteration": 692,
            "learn": [
             0.01261756498
            ],
            "passed_time": 1.494860261,
            "remaining_time": 0.6622252527
           },
           {
            "iteration": 693,
            "learn": [
             0.0125958342
            ],
            "passed_time": 1.496674672,
            "remaining_time": 0.6599170742
           },
           {
            "iteration": 694,
            "learn": [
             0.01257816027
            ],
            "passed_time": 1.498587411,
            "remaining_time": 0.6576534682
           },
           {
            "iteration": 695,
            "learn": [
             0.01254287002
            ],
            "passed_time": 1.500480627,
            "remaining_time": 0.655382343
           },
           {
            "iteration": 696,
            "learn": [
             0.01250494422
            ],
            "passed_time": 1.502370852,
            "remaining_time": 0.6531110016
           },
           {
            "iteration": 697,
            "learn": [
             0.01247823243
            ],
            "passed_time": 1.504247498,
            "remaining_time": 0.6508348776
           },
           {
            "iteration": 698,
            "learn": [
             0.01245824963
            ],
            "passed_time": 1.506118369,
            "remaining_time": 0.6485574093
           },
           {
            "iteration": 699,
            "learn": [
             0.01244014432
            ],
            "passed_time": 1.507978869,
            "remaining_time": 0.6462766583
           },
           {
            "iteration": 700,
            "learn": [
             0.0124131427
            ],
            "passed_time": 1.509843812,
            "remaining_time": 0.6439990011
           },
           {
            "iteration": 701,
            "learn": [
             0.01237655797
            ],
            "passed_time": 1.511728099,
            "remaining_time": 0.6417307316
           },
           {
            "iteration": 702,
            "learn": [
             0.01235398402
            ],
            "passed_time": 1.513537562,
            "remaining_time": 0.6394319429
           },
           {
            "iteration": 703,
            "learn": [
             0.01231655449
            ],
            "passed_time": 1.515416665,
            "remaining_time": 0.6371638252
           },
           {
            "iteration": 704,
            "learn": [
             0.01228912765
            ],
            "passed_time": 1.517296682,
            "remaining_time": 0.6348971931
           },
           {
            "iteration": 705,
            "learn": [
             0.01226177031
            ],
            "passed_time": 1.519209456,
            "remaining_time": 0.6326452977
           },
           {
            "iteration": 706,
            "learn": [
             0.01223667431
            ],
            "passed_time": 1.521123594,
            "remaining_time": 0.6303949264
           },
           {
            "iteration": 707,
            "learn": [
             0.012214338
            ],
            "passed_time": 1.522998623,
            "remaining_time": 0.6281293758
           },
           {
            "iteration": 708,
            "learn": [
             0.01219152609
            ],
            "passed_time": 1.524828383,
            "remaining_time": 0.6258463462
           },
           {
            "iteration": 709,
            "learn": [
             0.01216670281
            ],
            "passed_time": 1.526652065,
            "remaining_time": 0.623562111
           },
           {
            "iteration": 710,
            "learn": [
             0.01213908384
            ],
            "passed_time": 1.528539732,
            "remaining_time": 0.6213051796
           },
           {
            "iteration": 711,
            "learn": [
             0.01212278
            ],
            "passed_time": 1.53045498,
            "remaining_time": 0.6190604413
           },
           {
            "iteration": 712,
            "learn": [
             0.01210386237
            ],
            "passed_time": 1.532549101,
            "remaining_time": 0.6168886285
           },
           {
            "iteration": 713,
            "learn": [
             0.01207091149
            ],
            "passed_time": 1.534464056,
            "remaining_time": 0.6146452662
           },
           {
            "iteration": 714,
            "learn": [
             0.01203624752
            ],
            "passed_time": 1.535421664,
            "remaining_time": 0.6120212228
           },
           {
            "iteration": 715,
            "learn": [
             0.01200597714
            ],
            "passed_time": 1.537260978,
            "remaining_time": 0.6097515612
           },
           {
            "iteration": 716,
            "learn": [
             0.01199047435
            ],
            "passed_time": 1.539132222,
            "remaining_time": 0.6074957026
           },
           {
            "iteration": 717,
            "learn": [
             0.0119628686
            ],
            "passed_time": 1.541479732,
            "remaining_time": 0.6054279729
           },
           {
            "iteration": 718,
            "learn": [
             0.01193846462
            ],
            "passed_time": 1.544308554,
            "remaining_time": 0.6035475711
           },
           {
            "iteration": 719,
            "learn": [
             0.01191140378
            ],
            "passed_time": 1.547110967,
            "remaining_time": 0.6016542649
           },
           {
            "iteration": 720,
            "learn": [
             0.01188121822
            ],
            "passed_time": 1.549833496,
            "remaining_time": 0.5997275249
           },
           {
            "iteration": 721,
            "learn": [
             0.01184975809
            ],
            "passed_time": 1.551766519,
            "remaining_time": 0.5974945875
           },
           {
            "iteration": 722,
            "learn": [
             0.01182615644
            ],
            "passed_time": 1.553693427,
            "remaining_time": 0.5952601374
           },
           {
            "iteration": 723,
            "learn": [
             0.01179605826
            ],
            "passed_time": 1.555497135,
            "remaining_time": 0.5929795707
           },
           {
            "iteration": 724,
            "learn": [
             0.01177261378
            ],
            "passed_time": 1.55739077,
            "remaining_time": 0.59073443
           },
           {
            "iteration": 725,
            "learn": [
             0.01174885752
            ],
            "passed_time": 1.55929023,
            "remaining_time": 0.5884924559
           },
           {
            "iteration": 726,
            "learn": [
             0.01172440872
            ],
            "passed_time": 1.561227845,
            "remaining_time": 0.586265752
           },
           {
            "iteration": 727,
            "learn": [
             0.01169146256
            ],
            "passed_time": 1.563305761,
            "remaining_time": 0.5840922622
           },
           {
            "iteration": 728,
            "learn": [
             0.01167143062
            ],
            "passed_time": 1.565215029,
            "remaining_time": 0.5818563414
           },
           {
            "iteration": 729,
            "learn": [
             0.01164834225
            ],
            "passed_time": 1.567132763,
            "remaining_time": 0.5796244464
           },
           {
            "iteration": 730,
            "learn": [
             0.01161720038
            ],
            "passed_time": 1.569010692,
            "remaining_time": 0.5773787635
           },
           {
            "iteration": 731,
            "learn": [
             0.0115942247
            ],
            "passed_time": 1.570874077,
            "remaining_time": 0.5751287603
           },
           {
            "iteration": 732,
            "learn": [
             0.01156297365
            ],
            "passed_time": 1.5728228,
            "remaining_time": 0.5729108971
           },
           {
            "iteration": 733,
            "learn": [
             0.01153958364
            ],
            "passed_time": 1.574702771,
            "remaining_time": 0.5706688518
           },
           {
            "iteration": 734,
            "learn": [
             0.0115172095
            ],
            "passed_time": 1.576636038,
            "remaining_time": 0.5684470068
           },
           {
            "iteration": 735,
            "learn": [
             0.01149834456
            ],
            "passed_time": 1.578498112,
            "remaining_time": 0.5662004098
           },
           {
            "iteration": 736,
            "learn": [
             0.01146267911
            ],
            "passed_time": 1.580414555,
            "remaining_time": 0.5639742577
           },
           {
            "iteration": 737,
            "learn": [
             0.01143553089
            ],
            "passed_time": 1.582276939,
            "remaining_time": 0.5617297535
           },
           {
            "iteration": 738,
            "learn": [
             0.01141173876
            ],
            "passed_time": 1.584114165,
            "remaining_time": 0.5594773979
           },
           {
            "iteration": 739,
            "learn": [
             0.01138598971
            ],
            "passed_time": 1.585931686,
            "remaining_time": 0.557219241
           },
           {
            "iteration": 740,
            "learn": [
             0.01136120929
            ],
            "passed_time": 1.5878181,
            "remaining_time": 0.5549863533
           },
           {
            "iteration": 741,
            "learn": [
             0.01134299065
            ],
            "passed_time": 1.589777585,
            "remaining_time": 0.5527798071
           },
           {
            "iteration": 742,
            "learn": [
             0.01131939606
            ],
            "passed_time": 1.591674259,
            "remaining_time": 0.5505521999
           },
           {
            "iteration": 743,
            "learn": [
             0.01130146422
            ],
            "passed_time": 1.593651925,
            "remaining_time": 0.5483533506
           },
           {
            "iteration": 744,
            "learn": [
             0.01128167701
            ],
            "passed_time": 1.595603341,
            "remaining_time": 0.5461461102
           },
           {
            "iteration": 745,
            "learn": [
             0.01126142125
            ],
            "passed_time": 1.597452246,
            "remaining_time": 0.5439046521
           },
           {
            "iteration": 746,
            "learn": [
             0.01123364876
            ],
            "passed_time": 1.599312297,
            "remaining_time": 0.5416680204
           },
           {
            "iteration": 747,
            "learn": [
             0.01121833052
            ],
            "passed_time": 1.601190469,
            "remaining_time": 0.5394385002
           },
           {
            "iteration": 748,
            "learn": [
             0.01119767616
            ],
            "passed_time": 1.602991159,
            "remaining_time": 0.5371839531
           },
           {
            "iteration": 749,
            "learn": [
             0.0111698529
            ],
            "passed_time": 1.604911996,
            "remaining_time": 0.5349706654
           },
           {
            "iteration": 750,
            "learn": [
             0.01115326034
            ],
            "passed_time": 1.606796071,
            "remaining_time": 0.5327459677
           },
           {
            "iteration": 751,
            "learn": [
             0.01113417501
            ],
            "passed_time": 1.608669494,
            "remaining_time": 0.5305186629
           },
           {
            "iteration": 752,
            "learn": [
             0.01110607786
            ],
            "passed_time": 1.610559205,
            "remaining_time": 0.528297641
           },
           {
            "iteration": 753,
            "learn": [
             0.01107640911
            ],
            "passed_time": 1.612479966,
            "remaining_time": 0.5260876281
           },
           {
            "iteration": 754,
            "learn": [
             0.01104701112
            ],
            "passed_time": 1.614327876,
            "remaining_time": 0.5238547411
           },
           {
            "iteration": 755,
            "learn": [
             0.01103055357
            ],
            "passed_time": 1.61615606,
            "remaining_time": 0.5216165062
           },
           {
            "iteration": 756,
            "learn": [
             0.01101107645
            ],
            "passed_time": 1.618067488,
            "remaining_time": 0.5194060761
           },
           {
            "iteration": 757,
            "learn": [
             0.01098123525
            ],
            "passed_time": 1.620012465,
            "remaining_time": 0.5172071459
           },
           {
            "iteration": 758,
            "learn": [
             0.01096138914
            ],
            "passed_time": 1.621809075,
            "remaining_time": 0.514961775
           },
           {
            "iteration": 759,
            "learn": [
             0.01094496023
            ],
            "passed_time": 1.623703472,
            "remaining_time": 0.5127484649
           },
           {
            "iteration": 760,
            "learn": [
             0.01092502327
            ],
            "passed_time": 1.625665816,
            "remaining_time": 0.5105573326
           },
           {
            "iteration": 761,
            "learn": [
             0.01090533735
            ],
            "passed_time": 1.627485424,
            "remaining_time": 0.5083222191
           },
           {
            "iteration": 762,
            "learn": [
             0.0108896936
            ],
            "passed_time": 1.629368601,
            "remaining_time": 0.5061079402
           },
           {
            "iteration": 763,
            "learn": [
             0.01086556598
            ],
            "passed_time": 1.631251009,
            "remaining_time": 0.5038942908
           },
           {
            "iteration": 764,
            "learn": [
             0.01083967536
            ],
            "passed_time": 1.633162816,
            "remaining_time": 0.5016905381
           },
           {
            "iteration": 765,
            "learn": [
             0.01082006537
            ],
            "passed_time": 1.634502887,
            "remaining_time": 0.4993128925
           },
           {
            "iteration": 766,
            "learn": [
             0.01079948628
            ],
            "passed_time": 1.636413055,
            "remaining_time": 0.4971111366
           },
           {
            "iteration": 767,
            "learn": [
             0.01078145599
            ],
            "passed_time": 1.638355227,
            "remaining_time": 0.4949198082
           },
           {
            "iteration": 768,
            "learn": [
             0.01075679329
            ],
            "passed_time": 1.640251626,
            "remaining_time": 0.4927153779
           },
           {
            "iteration": 769,
            "learn": [
             0.01072258551
            ],
            "passed_time": 1.642153553,
            "remaining_time": 0.4905133989
           },
           {
            "iteration": 770,
            "learn": [
             0.01069972737
            ],
            "passed_time": 1.643964234,
            "remaining_time": 0.4882850966
           },
           {
            "iteration": 771,
            "learn": [
             0.01068742892
            ],
            "passed_time": 1.645857177,
            "remaining_time": 0.4860821714
           },
           {
            "iteration": 772,
            "learn": [
             0.01065737586
            ],
            "passed_time": 1.64776772,
            "remaining_time": 0.4838852167
           },
           {
            "iteration": 773,
            "learn": [
             0.01063388755
            ],
            "passed_time": 1.649627772,
            "remaining_time": 0.481674259
           },
           {
            "iteration": 774,
            "learn": [
             0.01060920723
            ],
            "passed_time": 1.65146751,
            "remaining_time": 0.4794583093
           },
           {
            "iteration": 775,
            "learn": [
             0.01057986404
            ],
            "passed_time": 1.653312012,
            "remaining_time": 0.4772447046
           },
           {
            "iteration": 776,
            "learn": [
             0.01055210589
            ],
            "passed_time": 1.655218721,
            "remaining_time": 0.4750499032
           },
           {
            "iteration": 777,
            "learn": [
             0.01053321678
            ],
            "passed_time": 1.657158014,
            "remaining_time": 0.4728651403
           },
           {
            "iteration": 778,
            "learn": [
             0.0105164278
            ],
            "passed_time": 1.659019896,
            "remaining_time": 0.4706590462
           },
           {
            "iteration": 779,
            "learn": [
             0.01050141746
            ],
            "passed_time": 1.660909143,
            "remaining_time": 0.4684615532
           },
           {
            "iteration": 780,
            "learn": [
             0.01048493684
            ],
            "passed_time": 1.662813134,
            "remaining_time": 0.4662689837
           },
           {
            "iteration": 781,
            "learn": [
             0.01046447551
            ],
            "passed_time": 1.664817117,
            "remaining_time": 0.4641050274
           },
           {
            "iteration": 782,
            "learn": [
             0.01044474068
            ],
            "passed_time": 1.666760684,
            "remaining_time": 0.4619247362
           },
           {
            "iteration": 783,
            "learn": [
             0.01042142495
            ],
            "passed_time": 1.668627767,
            "remaining_time": 0.4597239765
           },
           {
            "iteration": 784,
            "learn": [
             0.01039541408
            ],
            "passed_time": 1.670499912,
            "remaining_time": 0.4575254536
           },
           {
            "iteration": 785,
            "learn": [
             0.01037336776
            ],
            "passed_time": 1.672422887,
            "remaining_time": 0.4553416004
           },
           {
            "iteration": 786,
            "learn": [
             0.01035711275
            ],
            "passed_time": 1.674417613,
            "remaining_time": 0.4531778291
           },
           {
            "iteration": 787,
            "learn": [
             0.01033764115
            ],
            "passed_time": 1.676262282,
            "remaining_time": 0.4509741165
           },
           {
            "iteration": 788,
            "learn": [
             0.01032261662
            ],
            "passed_time": 1.67822252,
            "remaining_time": 0.4488022201
           },
           {
            "iteration": 789,
            "learn": [
             0.01030388435
            ],
            "passed_time": 1.680068387,
            "remaining_time": 0.4466004572
           },
           {
            "iteration": 790,
            "learn": [
             0.01028773187
            ],
            "passed_time": 1.681938366,
            "remaining_time": 0.4444059653
           },
           {
            "iteration": 791,
            "learn": [
             0.01026767797
            ],
            "passed_time": 1.683835618,
            "remaining_time": 0.4422194552
           },
           {
            "iteration": 792,
            "learn": [
             0.010252266
            ],
            "passed_time": 1.68570342,
            "remaining_time": 0.4400259873
           },
           {
            "iteration": 793,
            "learn": [
             0.01023702539
            ],
            "passed_time": 1.687535353,
            "remaining_time": 0.4378240336
           },
           {
            "iteration": 794,
            "learn": [
             0.01021485492
            ],
            "passed_time": 1.689511571,
            "remaining_time": 0.4356602165
           },
           {
            "iteration": 795,
            "learn": [
             0.01019390224
            ],
            "passed_time": 1.691343229,
            "remaining_time": 0.4334598225
           },
           {
            "iteration": 796,
            "learn": [
             0.01016677156
            ],
            "passed_time": 1.693180379,
            "remaining_time": 0.4312617529
           },
           {
            "iteration": 797,
            "learn": [
             0.0101522745
            ],
            "passed_time": 1.694981312,
            "remaining_time": 0.4290554199
           },
           {
            "iteration": 798,
            "learn": [
             0.0101357155
            ],
            "passed_time": 1.69685491,
            "remaining_time": 0.4268683816
           },
           {
            "iteration": 799,
            "learn": [
             0.01011968893
            ],
            "passed_time": 1.69881318,
            "remaining_time": 0.4247032951
           },
           {
            "iteration": 800,
            "learn": [
             0.01009574642
            ],
            "passed_time": 1.700672679,
            "remaining_time": 0.4225141861
           },
           {
            "iteration": 801,
            "learn": [
             0.01008172089
            ],
            "passed_time": 1.702569985,
            "remaining_time": 0.4203352333
           },
           {
            "iteration": 802,
            "learn": [
             0.01006713717
            ],
            "passed_time": 1.704443524,
            "remaining_time": 0.418151151
           },
           {
            "iteration": 803,
            "learn": [
             0.01004598131
            ],
            "passed_time": 1.706275278,
            "remaining_time": 0.4159576548
           },
           {
            "iteration": 804,
            "learn": [
             0.01003187612
            ],
            "passed_time": 1.708132454,
            "remaining_time": 0.4137712156
           },
           {
            "iteration": 805,
            "learn": [
             0.0100056734
            ],
            "passed_time": 1.709979581,
            "remaining_time": 0.4115831746
           },
           {
            "iteration": 806,
            "learn": [
             0.009982012493
            ],
            "passed_time": 1.711775658,
            "remaining_time": 0.4093837696
           },
           {
            "iteration": 807,
            "learn": [
             0.00995748835
            ],
            "passed_time": 1.713729884,
            "remaining_time": 0.4072229427
           },
           {
            "iteration": 808,
            "learn": [
             0.009940051576
            ],
            "passed_time": 1.715588108,
            "remaining_time": 0.4050399611
           },
           {
            "iteration": 809,
            "learn": [
             0.00991960718
            ],
            "passed_time": 1.716571836,
            "remaining_time": 0.4026526529
           },
           {
            "iteration": 810,
            "learn": [
             0.009890365495
            ],
            "passed_time": 1.718390322,
            "remaining_time": 0.4004633426
           },
           {
            "iteration": 811,
            "learn": [
             0.009871982219
            ],
            "passed_time": 1.720388643,
            "remaining_time": 0.3983165824
           },
           {
            "iteration": 812,
            "learn": [
             0.009853648121
            ],
            "passed_time": 1.722317068,
            "remaining_time": 0.3961541104
           },
           {
            "iteration": 813,
            "learn": [
             0.009830590301
            ],
            "passed_time": 1.724287006,
            "remaining_time": 0.3940016992
           },
           {
            "iteration": 814,
            "learn": [
             0.009814508841
            ],
            "passed_time": 1.726163835,
            "remaining_time": 0.3918286005
           },
           {
            "iteration": 815,
            "learn": [
             0.009802376093
            ],
            "passed_time": 1.728029241,
            "remaining_time": 0.3896536524
           },
           {
            "iteration": 816,
            "learn": [
             0.009778330023
            ],
            "passed_time": 1.729905589,
            "remaining_time": 0.3874819128
           },
           {
            "iteration": 817,
            "learn": [
             0.009758220935
            ],
            "passed_time": 1.731906625,
            "remaining_time": 0.3853386378
           },
           {
            "iteration": 818,
            "learn": [
             0.009733202398
            ],
            "passed_time": 1.733767752,
            "remaining_time": 0.38316479
           },
           {
            "iteration": 819,
            "learn": [
             0.009720131067
            ],
            "passed_time": 1.735567878,
            "remaining_time": 0.3809783148
           },
           {
            "iteration": 820,
            "learn": [
             0.009705879554
            ],
            "passed_time": 1.740376124,
            "remaining_time": 0.3794486313
           },
           {
            "iteration": 821,
            "learn": [
             0.009688069516
            ],
            "passed_time": 1.743348962,
            "remaining_time": 0.3775135221
           },
           {
            "iteration": 822,
            "learn": [
             0.00966778309
            ],
            "passed_time": 1.745291264,
            "remaining_time": 0.3753542573
           },
           {
            "iteration": 823,
            "learn": [
             0.009649283058
            ],
            "passed_time": 1.747204396,
            "remaining_time": 0.3731892886
           },
           {
            "iteration": 824,
            "learn": [
             0.009630125171
            ],
            "passed_time": 1.749069955,
            "remaining_time": 0.3710148389
           },
           {
            "iteration": 825,
            "learn": [
             0.009608792539
            ],
            "passed_time": 1.75101325,
            "remaining_time": 0.3688575127
           },
           {
            "iteration": 826,
            "learn": [
             0.009587996946
            ],
            "passed_time": 1.752934975,
            "remaining_time": 0.3666961919
           },
           {
            "iteration": 827,
            "learn": [
             0.009569872929
            ],
            "passed_time": 1.754809779,
            "remaining_time": 0.3645257028
           },
           {
            "iteration": 828,
            "learn": [
             0.009554710267
            ],
            "passed_time": 1.756687624,
            "remaining_time": 0.3623565544
           },
           {
            "iteration": 829,
            "learn": [
             0.009536738773
            ],
            "passed_time": 1.758612028,
            "remaining_time": 0.3601976442
           },
           {
            "iteration": 830,
            "learn": [
             0.009513774071
            ],
            "passed_time": 1.760725448,
            "remaining_time": 0.3580777386
           },
           {
            "iteration": 831,
            "learn": [
             0.009495828346
            ],
            "passed_time": 1.762644455,
            "remaining_time": 0.3559185918
           },
           {
            "iteration": 832,
            "learn": [
             0.009479741917
            ],
            "passed_time": 1.764647525,
            "remaining_time": 0.3537768747
           },
           {
            "iteration": 833,
            "learn": [
             0.009463642408
            ],
            "passed_time": 1.766595636,
            "remaining_time": 0.351624551
           },
           {
            "iteration": 834,
            "learn": [
             0.00944226099
            ],
            "passed_time": 1.768476136,
            "remaining_time": 0.3494593561
           },
           {
            "iteration": 835,
            "learn": [
             0.009427479592
            ],
            "passed_time": 1.770325421,
            "remaining_time": 0.347288719
           },
           {
            "iteration": 836,
            "learn": [
             0.009408055918
            ],
            "passed_time": 1.772227857,
            "remaining_time": 0.3451292003
           },
           {
            "iteration": 837,
            "learn": [
             0.009392891314
            ],
            "passed_time": 1.77423512,
            "remaining_time": 0.3429905602
           },
           {
            "iteration": 838,
            "learn": [
             0.009377063752
            ],
            "passed_time": 1.77619418,
            "remaining_time": 0.3408429833
           },
           {
            "iteration": 839,
            "learn": [
             0.009358870243
            ],
            "passed_time": 1.778079842,
            "remaining_time": 0.3386818746
           },
           {
            "iteration": 840,
            "learn": [
             0.009343755039
            ],
            "passed_time": 1.779865024,
            "remaining_time": 0.3365024244
           },
           {
            "iteration": 841,
            "learn": [
             0.009327658789
            ],
            "passed_time": 1.781735909,
            "remaining_time": 0.3343399925
           },
           {
            "iteration": 842,
            "learn": [
             0.009311027142
            ],
            "passed_time": 1.783886546,
            "remaining_time": 0.3322303531
           },
           {
            "iteration": 843,
            "learn": [
             0.009290559502
            ],
            "passed_time": 1.785799932,
            "remaining_time": 0.3300767647
           },
           {
            "iteration": 844,
            "learn": [
             0.009277334395
            ],
            "passed_time": 1.787737969,
            "remaining_time": 0.3279282665
           },
           {
            "iteration": 845,
            "learn": [
             0.009260758829
            ],
            "passed_time": 1.789693007,
            "remaining_time": 0.3257833606
           },
           {
            "iteration": 846,
            "learn": [
             0.009239920593
            ],
            "passed_time": 1.791618215,
            "remaining_time": 0.3236335146
           },
           {
            "iteration": 847,
            "learn": [
             0.009218657378
            ],
            "passed_time": 1.793662661,
            "remaining_time": 0.3215055713
           },
           {
            "iteration": 848,
            "learn": [
             0.009201243729
            ],
            "passed_time": 1.795757961,
            "remaining_time": 0.3193868695
           },
           {
            "iteration": 849,
            "learn": [
             0.009180326072
            ],
            "passed_time": 1.797682998,
            "remaining_time": 0.3172381761
           },
           {
            "iteration": 850,
            "learn": [
             0.009168588945
            ],
            "passed_time": 1.799590359,
            "remaining_time": 0.3150869137
           },
           {
            "iteration": 851,
            "learn": [
             0.009157502344
            ],
            "passed_time": 1.801530675,
            "remaining_time": 0.3129419482
           },
           {
            "iteration": 852,
            "learn": [
             0.009142146956
            ],
            "passed_time": 1.803461505,
            "remaining_time": 0.310795828
           },
           {
            "iteration": 853,
            "learn": [
             0.009127963917
            ],
            "passed_time": 1.805394878,
            "remaining_time": 0.3086506466
           },
           {
            "iteration": 854,
            "learn": [
             0.009119290776
            ],
            "passed_time": 1.807284434,
            "remaining_time": 0.3064985297
           },
           {
            "iteration": 855,
            "learn": [
             0.00910434056
            ],
            "passed_time": 1.809129712,
            "remaining_time": 0.3043395778
           },
           {
            "iteration": 856,
            "learn": [
             0.009084754432
            ],
            "passed_time": 1.811055721,
            "remaining_time": 0.3021948285
           },
           {
            "iteration": 857,
            "learn": [
             0.009071460709
            ],
            "passed_time": 1.812973531,
            "remaining_time": 0.3000492324
           },
           {
            "iteration": 858,
            "learn": [
             0.00906084825
            ],
            "passed_time": 1.814902961,
            "remaining_time": 0.2979060738
           },
           {
            "iteration": 859,
            "learn": [
             0.009046010652
            ],
            "passed_time": 1.816704493,
            "remaining_time": 0.2957425919
           },
           {
            "iteration": 860,
            "learn": [
             0.009029499372
            ],
            "passed_time": 1.818597893,
            "remaining_time": 0.2935947817
           },
           {
            "iteration": 861,
            "learn": [
             0.009010401809
            ],
            "passed_time": 1.820452372,
            "remaining_time": 0.2914413311
           },
           {
            "iteration": 862,
            "learn": [
             0.008995754253
            ],
            "passed_time": 1.822290863,
            "remaining_time": 0.2892860351
           },
           {
            "iteration": 863,
            "learn": [
             0.008978028797
            ],
            "passed_time": 1.824199686,
            "remaining_time": 0.2871425431
           },
           {
            "iteration": 864,
            "learn": [
             0.008959394125
            ],
            "passed_time": 1.82614689,
            "remaining_time": 0.285005584
           },
           {
            "iteration": 865,
            "learn": [
             0.008941181354
            ],
            "passed_time": 1.828040362,
            "remaining_time": 0.2828607488
           },
           {
            "iteration": 866,
            "learn": [
             0.008928690145
            ],
            "passed_time": 1.829982578,
            "remaining_time": 0.280723971
           },
           {
            "iteration": 867,
            "learn": [
             0.008911915926
            ],
            "passed_time": 1.831850391,
            "remaining_time": 0.2785763267
           },
           {
            "iteration": 868,
            "learn": [
             0.008896410709
            ],
            "passed_time": 1.83381631,
            "remaining_time": 0.2764441158
           },
           {
            "iteration": 869,
            "learn": [
             0.008876734433
            ],
            "passed_time": 1.835816971,
            "remaining_time": 0.2743174785
           },
           {
            "iteration": 870,
            "learn": [
             0.008864655818
            ],
            "passed_time": 1.837717587,
            "remaining_time": 0.2721763132
           },
           {
            "iteration": 871,
            "learn": [
             0.008850430136
            ],
            "passed_time": 1.839667756,
            "remaining_time": 0.2700429733
           },
           {
            "iteration": 872,
            "learn": [
             0.008832057087
            ],
            "passed_time": 1.841516987,
            "remaining_time": 0.2678953693
           },
           {
            "iteration": 873,
            "learn": [
             0.00882125786
            ],
            "passed_time": 1.843477297,
            "remaining_time": 0.2657644616
           },
           {
            "iteration": 874,
            "learn": [
             0.008810054851
            ],
            "passed_time": 1.845427763,
            "remaining_time": 0.2636325375
           },
           {
            "iteration": 875,
            "learn": [
             0.008795721262
            ],
            "passed_time": 1.847393779,
            "remaining_time": 0.261503229
           },
           {
            "iteration": 876,
            "learn": [
             0.008775951573
            ],
            "passed_time": 1.849283682,
            "remaining_time": 0.2593636179
           },
           {
            "iteration": 877,
            "learn": [
             0.008762031448
            ],
            "passed_time": 1.851929833,
            "remaining_time": 0.2573296579
           },
           {
            "iteration": 878,
            "learn": [
             0.008749759093
            ],
            "passed_time": 1.85390408,
            "remaining_time": 0.2552018131
           },
           {
            "iteration": 879,
            "learn": [
             0.008735161925
            ],
            "passed_time": 1.855867506,
            "remaining_time": 0.2530728418
           },
           {
            "iteration": 880,
            "learn": [
             0.008717878095
            ],
            "passed_time": 1.857746309,
            "remaining_time": 0.2509328159
           },
           {
            "iteration": 881,
            "learn": [
             0.008702414554
            ],
            "passed_time": 1.859654511,
            "remaining_time": 0.2487973156
           },
           {
            "iteration": 882,
            "learn": [
             0.008683409522
            ],
            "passed_time": 1.86146284,
            "remaining_time": 0.2466490966
           },
           {
            "iteration": 883,
            "learn": [
             0.008670872259
            ],
            "passed_time": 1.863404371,
            "remaining_time": 0.2445191256
           },
           {
            "iteration": 884,
            "learn": [
             0.008653451773
            ],
            "passed_time": 1.86529352,
            "remaining_time": 0.2423827738
           },
           {
            "iteration": 885,
            "learn": [
             0.008638501966
            ],
            "passed_time": 1.867255011,
            "remaining_time": 0.2402562882
           },
           {
            "iteration": 886,
            "learn": [
             0.00862368713
            ],
            "passed_time": 1.869127755,
            "remaining_time": 0.2381188685
           },
           {
            "iteration": 887,
            "learn": [
             0.008610936734
            ],
            "passed_time": 1.871068412,
            "remaining_time": 0.2359906106
           },
           {
            "iteration": 888,
            "learn": [
             0.008596695685
            ],
            "passed_time": 1.872943532,
            "remaining_time": 0.2338545918
           },
           {
            "iteration": 889,
            "learn": [
             0.0085820999
            ],
            "passed_time": 1.87488192,
            "remaining_time": 0.2317269789
           },
           {
            "iteration": 890,
            "learn": [
             0.008564588032
            ],
            "passed_time": 1.911199373,
            "remaining_time": 0.233805535
           },
           {
            "iteration": 891,
            "learn": [
             0.008551046735
            ],
            "passed_time": 1.914738868,
            "remaining_time": 0.2318293697
           },
           {
            "iteration": 892,
            "learn": [
             0.008534253162
            ],
            "passed_time": 1.91780172,
            "remaining_time": 0.2297925913
           },
           {
            "iteration": 893,
            "learn": [
             0.008519343782
            ],
            "passed_time": 1.920877787,
            "remaining_time": 0.2277550843
           },
           {
            "iteration": 894,
            "learn": [
             0.008504432677
            ],
            "passed_time": 1.924003373,
            "remaining_time": 0.2257210661
           },
           {
            "iteration": 895,
            "learn": [
             0.008487792207
            ],
            "passed_time": 1.927107758,
            "remaining_time": 0.2236821505
           },
           {
            "iteration": 896,
            "learn": [
             0.008472449471
            ],
            "passed_time": 1.930877915,
            "remaining_time": 0.221717308
           },
           {
            "iteration": 897,
            "learn": [
             0.008459674226
            ],
            "passed_time": 1.933763776,
            "remaining_time": 0.2196480012
           },
           {
            "iteration": 898,
            "learn": [
             0.008443486327
            ],
            "passed_time": 1.936522461,
            "remaining_time": 0.2175625902
           },
           {
            "iteration": 899,
            "learn": [
             0.008429630125
            ],
            "passed_time": 1.939714803,
            "remaining_time": 0.215523867
           },
           {
            "iteration": 900,
            "learn": [
             0.008418467823
            ],
            "passed_time": 1.943750493,
            "remaining_time": 0.2135752484
           },
           {
            "iteration": 901,
            "learn": [
             0.008401829211
            ],
            "passed_time": 1.946590287,
            "remaining_time": 0.2114920711
           },
           {
            "iteration": 902,
            "learn": [
             0.008384191352
            ],
            "passed_time": 1.949443129,
            "remaining_time": 0.2094086196
           },
           {
            "iteration": 903,
            "learn": [
             0.008368617901
            ],
            "passed_time": 1.95250238,
            "remaining_time": 0.2073453855
           },
           {
            "iteration": 904,
            "learn": [
             0.008354571438
            ],
            "passed_time": 1.955513611,
            "remaining_time": 0.2052749094
           },
           {
            "iteration": 905,
            "learn": [
             0.008343346678
            ],
            "passed_time": 1.959822154,
            "remaining_time": 0.2033369564
           },
           {
            "iteration": 906,
            "learn": [
             0.008331200139
            ],
            "passed_time": 1.963685836,
            "remaining_time": 0.2013481618
           },
           {
            "iteration": 907,
            "learn": [
             0.008315239746
            ],
            "passed_time": 1.967252983,
            "remaining_time": 0.1993251921
           },
           {
            "iteration": 908,
            "learn": [
             0.008305376008
            ],
            "passed_time": 1.969221342,
            "remaining_time": 0.1971387703
           },
           {
            "iteration": 909,
            "learn": [
             0.008291373495
            ],
            "passed_time": 1.971411137,
            "remaining_time": 0.1949747278
           },
           {
            "iteration": 910,
            "learn": [
             0.008275319921
            ],
            "passed_time": 1.973495769,
            "remaining_time": 0.1928003551
           },
           {
            "iteration": 911,
            "learn": [
             0.008265327128
            ],
            "passed_time": 1.975538835,
            "remaining_time": 0.1906221683
           },
           {
            "iteration": 912,
            "learn": [
             0.008252578775
            ],
            "passed_time": 1.977589919,
            "remaining_time": 0.1884450416
           },
           {
            "iteration": 913,
            "learn": [
             0.008235089792
            ],
            "passed_time": 1.979596231,
            "remaining_time": 0.186263978
           },
           {
            "iteration": 914,
            "learn": [
             0.008216719745
            ],
            "passed_time": 1.981514607,
            "remaining_time": 0.1840751274
           },
           {
            "iteration": 915,
            "learn": [
             0.00820464757
            ],
            "passed_time": 1.983455784,
            "remaining_time": 0.1818889584
           },
           {
            "iteration": 916,
            "learn": [
             0.008192663714
            ],
            "passed_time": 1.985492169,
            "remaining_time": 0.1797119412
           },
           {
            "iteration": 917,
            "learn": [
             0.008176217712
            ],
            "passed_time": 1.987498765,
            "remaining_time": 0.1775325694
           },
           {
            "iteration": 918,
            "learn": [
             0.00816425347
            ],
            "passed_time": 1.989849077,
            "remaining_time": 0.1753838686
           },
           {
            "iteration": 919,
            "learn": [
             0.008152048838
            ],
            "passed_time": 1.99179144,
            "remaining_time": 0.1731992556
           },
           {
            "iteration": 920,
            "learn": [
             0.008135754115
            ],
            "passed_time": 1.993829313,
            "remaining_time": 0.1710233613
           },
           {
            "iteration": 921,
            "learn": [
             0.008122420425
            ],
            "passed_time": 1.995965544,
            "remaining_time": 0.1688560872
           },
           {
            "iteration": 922,
            "learn": [
             0.008108909729
            ],
            "passed_time": 1.997964309,
            "remaining_time": 0.1666774126
           },
           {
            "iteration": 923,
            "learn": [
             0.00809586483
            ],
            "passed_time": 2.000175251,
            "remaining_time": 0.1645165791
           },
           {
            "iteration": 924,
            "learn": [
             0.008074745193
            ],
            "passed_time": 2.002190066,
            "remaining_time": 0.1623397351
           },
           {
            "iteration": 925,
            "learn": [
             0.008064117973
            ],
            "passed_time": 2.004127865,
            "remaining_time": 0.1601570864
           },
           {
            "iteration": 926,
            "learn": [
             0.008055067085
            ],
            "passed_time": 2.006183811,
            "remaining_time": 0.1579842699
           },
           {
            "iteration": 927,
            "learn": [
             0.008043887368
            ],
            "passed_time": 2.008206448,
            "remaining_time": 0.1558091209
           },
           {
            "iteration": 928,
            "learn": [
             0.008033480631
            ],
            "passed_time": 2.010236374,
            "remaining_time": 0.1536348574
           },
           {
            "iteration": 929,
            "learn": [
             0.008018021368
            ],
            "passed_time": 2.012252146,
            "remaining_time": 0.151459839
           },
           {
            "iteration": 930,
            "learn": [
             0.00800501138
            ],
            "passed_time": 2.014165629,
            "remaining_time": 0.1492775815
           },
           {
            "iteration": 931,
            "learn": [
             0.007995400065
            ],
            "passed_time": 2.016141959,
            "remaining_time": 0.1471004863
           },
           {
            "iteration": 932,
            "learn": [
             0.007980988379
            ],
            "passed_time": 2.018625073,
            "remaining_time": 0.1449602143
           },
           {
            "iteration": 933,
            "learn": [
             0.007969969002
            ],
            "passed_time": 2.021791577,
            "remaining_time": 0.142867499
           },
           {
            "iteration": 934,
            "learn": [
             0.007958621187
            ],
            "passed_time": 2.024599671,
            "remaining_time": 0.1407475707
           },
           {
            "iteration": 935,
            "learn": [
             0.007942451973
            ],
            "passed_time": 2.027201493,
            "remaining_time": 0.1386120679
           },
           {
            "iteration": 936,
            "learn": [
             0.00792925493
            ],
            "passed_time": 2.029875326,
            "remaining_time": 0.1364804114
           },
           {
            "iteration": 937,
            "learn": [
             0.007913993855
            ],
            "passed_time": 2.032758987,
            "remaining_time": 0.1343614682
           },
           {
            "iteration": 938,
            "learn": [
             0.007900996321
            ],
            "passed_time": 2.036291923,
            "remaining_time": 0.1322830749
           },
           {
            "iteration": 939,
            "learn": [
             0.007887790945
            ],
            "passed_time": 2.039095961,
            "remaining_time": 0.1301550613
           },
           {
            "iteration": 940,
            "learn": [
             0.007881282162
            ],
            "passed_time": 2.041136152,
            "remaining_time": 0.1279777184
           },
           {
            "iteration": 941,
            "learn": [
             0.007867507589
            ],
            "passed_time": 2.043092725,
            "remaining_time": 0.1257955181
           },
           {
            "iteration": 942,
            "learn": [
             0.00785577672
            ],
            "passed_time": 2.045081323,
            "remaining_time": 0.1236157321
           },
           {
            "iteration": 943,
            "learn": [
             0.007840184627
            ],
            "passed_time": 2.047109805,
            "remaining_time": 0.1214387172
           },
           {
            "iteration": 944,
            "learn": [
             0.007824426515
            ],
            "passed_time": 2.049133845,
            "remaining_time": 0.1192617582
           },
           {
            "iteration": 945,
            "learn": [
             0.007810132931
            ],
            "passed_time": 2.051099441,
            "remaining_time": 0.1170817863
           },
           {
            "iteration": 946,
            "learn": [
             0.00779775532
            ],
            "passed_time": 2.053101653,
            "remaining_time": 0.1149043164
           },
           {
            "iteration": 947,
            "learn": [
             0.007785730849
            ],
            "passed_time": 2.055187614,
            "remaining_time": 0.1127318101
           },
           {
            "iteration": 948,
            "learn": [
             0.007771976559
            ],
            "passed_time": 2.057311428,
            "remaining_time": 0.1105615203
           },
           {
            "iteration": 949,
            "learn": [
             0.007759434205
            ],
            "passed_time": 2.059263147,
            "remaining_time": 0.1083822709
           },
           {
            "iteration": 950,
            "learn": [
             0.007744000452
            ],
            "passed_time": 2.061445476,
            "remaining_time": 0.1062153821
           },
           {
            "iteration": 951,
            "learn": [
             0.007729003027
            ],
            "passed_time": 2.063407466,
            "remaining_time": 0.1040373512
           },
           {
            "iteration": 952,
            "learn": [
             0.007720379894
            ],
            "passed_time": 2.065518903,
            "remaining_time": 0.1018671442
           },
           {
            "iteration": 953,
            "learn": [
             0.007707118652
            ],
            "passed_time": 2.06761832,
            "remaining_time": 0.09969648082
           },
           {
            "iteration": 954,
            "learn": [
             0.007695505277
            ],
            "passed_time": 2.069758196,
            "remaining_time": 0.09752787312
           },
           {
            "iteration": 955,
            "learn": [
             0.007686347792
            ],
            "passed_time": 2.072022169,
            "remaining_time": 0.09536503708
           },
           {
            "iteration": 956,
            "learn": [
             0.007678155884
            ],
            "passed_time": 2.074124628,
            "remaining_time": 0.09319473249
           },
           {
            "iteration": 957,
            "learn": [
             0.007666432347
            ],
            "passed_time": 2.076260783,
            "remaining_time": 0.09102604684
           },
           {
            "iteration": 958,
            "learn": [
             0.007655577925
            ],
            "passed_time": 2.078519168,
            "remaining_time": 0.08886265473
           },
           {
            "iteration": 959,
            "learn": [
             0.007643083629
            ],
            "passed_time": 2.080596454,
            "remaining_time": 0.08669151892
           },
           {
            "iteration": 960,
            "learn": [
             0.007631605846
            ],
            "passed_time": 2.082738995,
            "remaining_time": 0.08452322662
           },
           {
            "iteration": 961,
            "learn": [
             0.007612776008
            ],
            "passed_time": 2.084935245,
            "remaining_time": 0.08235710946
           },
           {
            "iteration": 962,
            "learn": [
             0.007600815896
            ],
            "passed_time": 2.087188213,
            "remaining_time": 0.0801931089
           },
           {
            "iteration": 963,
            "learn": [
             0.007593317528
            ],
            "passed_time": 2.089325451,
            "remaining_time": 0.07802460189
           },
           {
            "iteration": 964,
            "learn": [
             0.007579337995
            ],
            "passed_time": 2.091470018,
            "remaining_time": 0.07585642554
           },
           {
            "iteration": 965,
            "learn": [
             0.007564764475
            ],
            "passed_time": 2.09370844,
            "remaining_time": 0.07369160142
           },
           {
            "iteration": 966,
            "learn": [
             0.007555719828
            ],
            "passed_time": 2.095867161,
            "remaining_time": 0.07152390517
           },
           {
            "iteration": 967,
            "learn": [
             0.007544722965
            ],
            "passed_time": 2.09804597,
            "remaining_time": 0.06935689157
           },
           {
            "iteration": 968,
            "learn": [
             0.007530795286
            ],
            "passed_time": 2.100170052,
            "remaining_time": 0.06718810279
           },
           {
            "iteration": 969,
            "learn": [
             0.007518575252
            ],
            "passed_time": 2.102361286,
            "remaining_time": 0.06502148307
           },
           {
            "iteration": 970,
            "learn": [
             0.007506932629
            ],
            "passed_time": 2.104499461,
            "remaining_time": 0.06285322797
           },
           {
            "iteration": 971,
            "learn": [
             0.007493289891
            ],
            "passed_time": 2.106703413,
            "remaining_time": 0.06068692959
           },
           {
            "iteration": 972,
            "learn": [
             0.007480904309
            ],
            "passed_time": 2.109006268,
            "remaining_time": 0.05852329829
           },
           {
            "iteration": 973,
            "learn": [
             0.007465063151
            ],
            "passed_time": 2.111363391,
            "remaining_time": 0.05636082975
           },
           {
            "iteration": 974,
            "learn": [
             0.007455385767
            ],
            "passed_time": 2.113535205,
            "remaining_time": 0.05419321037
           },
           {
            "iteration": 975,
            "learn": [
             0.007443744835
            ],
            "passed_time": 2.115562663,
            "remaining_time": 0.05202203271
           },
           {
            "iteration": 976,
            "learn": [
             0.007430039501
            ],
            "passed_time": 2.117658677,
            "remaining_time": 0.04985276313
           },
           {
            "iteration": 977,
            "learn": [
             0.007421591711
            ],
            "passed_time": 2.126592764,
            "remaining_time": 0.04783746504
           },
           {
            "iteration": 978,
            "learn": [
             0.007413331993
            ],
            "passed_time": 2.12911656,
            "remaining_time": 0.04567052887
           },
           {
            "iteration": 979,
            "learn": [
             0.007402987383
            ],
            "passed_time": 2.131229235,
            "remaining_time": 0.04349447418
           },
           {
            "iteration": 980,
            "learn": [
             0.007389937593
            ],
            "passed_time": 2.133414805,
            "remaining_time": 0.04131996055
           },
           {
            "iteration": 981,
            "learn": [
             0.007376161558
            ],
            "passed_time": 2.135483635,
            "remaining_time": 0.03914328455
           },
           {
            "iteration": 982,
            "learn": [
             0.007368703423
            ],
            "passed_time": 2.13768472,
            "remaining_time": 0.0369691152
           },
           {
            "iteration": 983,
            "learn": [
             0.007360579521
            ],
            "passed_time": 2.139782714,
            "remaining_time": 0.03479321486
           },
           {
            "iteration": 984,
            "learn": [
             0.007350666352
            ],
            "passed_time": 2.141837949,
            "remaining_time": 0.03261682157
           },
           {
            "iteration": 985,
            "learn": [
             0.007337885423
            ],
            "passed_time": 2.143837522,
            "remaining_time": 0.03043988369
           },
           {
            "iteration": 986,
            "learn": [
             0.007324371945
            ],
            "passed_time": 2.145744093,
            "remaining_time": 0.02826208025
           },
           {
            "iteration": 987,
            "learn": [
             0.007313487562
            ],
            "passed_time": 2.147738848,
            "remaining_time": 0.02608589694
           },
           {
            "iteration": 988,
            "learn": [
             0.00730605588
            ],
            "passed_time": 2.149701663,
            "remaining_time": 0.02390972527
           },
           {
            "iteration": 989,
            "learn": [
             0.007293943507
            ],
            "passed_time": 2.15176323,
            "remaining_time": 0.02173498212
           },
           {
            "iteration": 990,
            "learn": [
             0.007281946907
            ],
            "passed_time": 2.153869235,
            "remaining_time": 0.01956087095
           },
           {
            "iteration": 991,
            "learn": [
             0.007270751751
            ],
            "passed_time": 2.155924806,
            "remaining_time": 0.01738649037
           },
           {
            "iteration": 992,
            "learn": [
             0.007261120889
            ],
            "passed_time": 2.157944917,
            "remaining_time": 0.01521209911
           },
           {
            "iteration": 993,
            "learn": [
             0.007250882877
            ],
            "passed_time": 2.159912133,
            "remaining_time": 0.01303769899
           },
           {
            "iteration": 994,
            "learn": [
             0.007241262359
            ],
            "passed_time": 2.161743886,
            "remaining_time": 0.0108630346
           },
           {
            "iteration": 995,
            "learn": [
             0.007226934219
            ],
            "passed_time": 2.163661457,
            "remaining_time": 0.008689403444
           },
           {
            "iteration": 996,
            "learn": [
             0.00721329053
            ],
            "passed_time": 2.165596955,
            "remaining_time": 0.006516339884
           },
           {
            "iteration": 997,
            "learn": [
             0.007197241752
            ],
            "passed_time": 2.167527749,
            "remaining_time": 0.004343742985
           },
           {
            "iteration": 998,
            "learn": [
             0.007185628518
            ],
            "passed_time": 2.1693629,
            "remaining_time": 0.002171534435
           },
           {
            "iteration": 999,
            "learn": [
             0.007177577647
            ],
            "passed_time": 2.171220357,
            "remaining_time": 0
           }
          ],
          "meta": {
           "iteration_count": 1000,
           "launch_mode": "Train",
           "learn_metrics": [
            {
             "best_value": "Min",
             "name": "Logloss"
            }
           ],
           "learn_sets": [
            "learn"
           ],
           "name": "experiment",
           "parameters": "",
           "test_metrics": [],
           "test_sets": []
          }
         },
         "passed_iterations": 999,
         "total_iterations": 1000
        },
        "name": "catboost_info",
        "path": "catboost_info"
       }
      },
      "layout": "IPY_MODEL_df8e6a9fcbbb4c84a415c252bb1895a6"
     }
    },
    "df8e6a9fcbbb4c84a415c252bb1895a6": {
     "model_module": "@jupyter-widgets/base",
     "model_name": "LayoutModel",
     "state": {
      "_model_module": "@jupyter-widgets/base",
      "_model_module_version": "1.2.0",
      "_model_name": "LayoutModel",
      "_view_count": null,
      "_view_module": "@jupyter-widgets/base",
      "_view_module_version": "1.2.0",
      "_view_name": "LayoutView",
      "align_content": null,
      "align_items": null,
      "align_self": "stretch",
      "border": null,
      "bottom": null,
      "display": null,
      "flex": null,
      "flex_flow": null,
      "grid_area": null,
      "grid_auto_columns": null,
      "grid_auto_flow": null,
      "grid_auto_rows": null,
      "grid_column": null,
      "grid_gap": null,
      "grid_row": null,
      "grid_template_areas": null,
      "grid_template_columns": null,
      "grid_template_rows": null,
      "height": "500px",
      "justify_content": null,
      "justify_items": null,
      "left": null,
      "margin": null,
      "max_height": null,
      "max_width": null,
      "min_height": null,
      "min_width": null,
      "object_fit": null,
      "object_position": null,
      "order": null,
      "overflow": null,
      "overflow_x": null,
      "overflow_y": null,
      "padding": null,
      "right": null,
      "top": null,
      "visibility": null,
      "width": null
     }
    }
   }
  }
 },
 "nbformat": 4,
 "nbformat_minor": 1
}
